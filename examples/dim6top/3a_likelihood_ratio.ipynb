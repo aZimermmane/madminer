{
 "cells": [
  {
   "cell_type": "markdown",
   "metadata": {},
   "source": [
    "# MadMiner physics tutorial (part 3A)\n",
    "\n",
    "Johann Brehmer, Felix Kling, Irina Espejo, and Kyle Cranmer 2018-2019"
   ]
  },
  {
   "cell_type": "markdown",
   "metadata": {},
   "source": [
    "In part 3A of this tutorial we will finally train a neural network to estimate likelihood ratios. We assume that you have run part 1 and 2A of this tutorial. If, instead of 2A, you have run part 2B, you just have to load a different filename later."
   ]
  },
  {
   "cell_type": "markdown",
   "metadata": {},
   "source": [
    "## Preparations"
   ]
  },
  {
   "cell_type": "code",
   "execution_count": 1,
   "metadata": {},
   "outputs": [],
   "source": [
    "import logging\n",
    "import numpy as np\n",
    "import matplotlib\n",
    "from matplotlib import pyplot as plt\n",
    "\n",
    "%matplotlib inline\n",
    "\n",
    "from madminer.sampling import SampleAugmenter\n",
    "from madminer import sampling\n",
    "from madminer.ml import ParameterizedRatioEstimator"
   ]
  },
  {
   "cell_type": "code",
   "execution_count": 2,
   "metadata": {},
   "outputs": [],
   "source": [
    "# MadMiner output\n",
    "logging.basicConfig(\n",
    "    format=\"%(asctime)-5.5s %(name)-20.20s %(levelname)-7.7s %(message)s\",\n",
    "    datefmt=\"%H:%M\",\n",
    "    level=logging.INFO,\n",
    ")\n",
    "\n",
    "# Output of all other modules (e.g. matplotlib)\n",
    "for key in logging.Logger.manager.loggerDict:\n",
    "    if \"madminer\" not in key:\n",
    "        logging.getLogger(key).setLevel(logging.WARNING)"
   ]
  },
  {
   "cell_type": "markdown",
   "metadata": {},
   "source": [
    "## 1. Make (unweighted) training and test samples with augmented data"
   ]
  },
  {
   "cell_type": "markdown",
   "metadata": {},
   "source": [
    "At this point, we have all the information we need from the simulations. But the data is not quite ready to be used for machine learning. The `madminer.sampling` class `SampleAugmenter` will take care of the remaining book-keeping steps before we can train our estimators:\n",
    "\n",
    "First, it unweights the samples, i.e. for a given parameter vector `theta` (or a distribution `p(theta)`) it picks events `x` such that their distribution follows `p(x|theta)`. The selected samples will all come from the event file we have so far, but their frequency is changed -- some events will appear multiple times, some will disappear.\n",
    "\n",
    "Second, `SampleAugmenter` calculates all the augmented data (\"gold\") that is the key to our new inference methods. Depending on the specific technique, these are the joint likelihood ratio and / or the joint score. It saves all these pieces of information for the selected events in a set of numpy files that can easily be used in any machine learning framework."
   ]
  },
  {
   "cell_type": "code",
   "execution_count": 3,
   "metadata": {},
   "outputs": [
    {
     "name": "stderr",
     "output_type": "stream",
     "text": [
      "16:07 madminer.analysis.da INFO    Loading data from data/lhe_data-Jonas_shuffled.h5\n",
      "16:07 madminer.utils.inter ERROR   HDF5 file does not contain nuisance parameters information\n",
      "16:07 madminer.utils.inter ERROR   HDF5 file does not contain finite difference information\n",
      "16:07 madminer.utils.inter ERROR   HDF5 file does not contain systematic information\n",
      "16:07 madminer.analysis.da INFO    Found 2 parameters\n",
      "16:07 madminer.analysis.da INFO      0: ctG (LHA: DIM6 16, Power: 2, Range: (-1.0, 1.0))\n",
      "16:07 madminer.analysis.da INFO      1: ctq8 (LHA: DIM6 55, Power: 2, Range: (-1.0, 1.0))\n",
      "16:07 madminer.analysis.da INFO    Did not find nuisance parameters\n",
      "16:07 madminer.analysis.da INFO    Found 6 benchmarks\n",
      "16:07 madminer.analysis.da INFO    Found 3 observables\n",
      "16:07 madminer.analysis.da INFO    Found 100000 events\n",
      "16:07 madminer.analysis.da INFO      50000 signal events sampled from benchmark sm\n",
      "16:07 madminer.analysis.da INFO      10000 signal events sampled from benchmark ctG\n",
      "16:07 madminer.analysis.da INFO      10000 signal events sampled from benchmark neg_ctG\n",
      "16:07 madminer.analysis.da INFO      10000 signal events sampled from benchmark ctq8\n",
      "16:07 madminer.analysis.da INFO      10000 signal events sampled from benchmark neg_ctq8\n",
      "16:07 madminer.analysis.da INFO      10000 signal events sampled from benchmark morphing_basis_vector_5\n",
      "16:07 madminer.analysis.da INFO    Found morphing setup with 6 components\n",
      "16:07 madminer.analysis.da INFO    Did not find nuisance morphing setup\n"
     ]
    }
   ],
   "source": [
    "#sampler = SampleAugmenter(\"data/lhe_data_shuffled.h5\")\n",
    "#sampler = SampleAugmenter(\"data/lhe_data.h5\")\n",
    "sampler = SampleAugmenter(\"data/lhe_data-Jonas_shuffled.h5\")\n",
    "# sampler = SampleAugmenter('data/delphes_data_shuffled.h5')"
   ]
  },
  {
   "cell_type": "markdown",
   "metadata": {},
   "source": [
    "The `SampleAugmenter` class defines five different high-level functions to generate train or test samples:\n",
    "- `sample_train_plain()`, which only saves observations x, for instance for histograms or ABC;\n",
    "- `sample_train_local()` for methods like SALLY and SALLINO, which will be demonstrated in the second part of the tutorial;\n",
    "- `sample_train_density()` for neural density estimation techniques like MAF or SCANDAL;\n",
    "- `sample_train_ratio()` for techniques like CARL, ROLR, CASCAL, and RASCAL, when only theta0 is parameterized;\n",
    "- `sample_train_more_ratios()` for the same techniques, but with both theta0 and theta1 parameterized;\n",
    "- `sample_test()` for the evaluation of any method.\n",
    "\n",
    "For the arguments `theta`, `theta0`, or `theta1`, you can (and should!) use the helper functions `benchmark()`, `benchmarks()`, `morphing_point()`, `morphing_points()`, and `random_morphing_points()`, all defined in the `madminer.sampling` module.\n",
    "\n",
    "Here we'll train a likelihood ratio estimator with the ALICES method, so we focus on the `extract_samples_train_ratio()` function. We'll sample the numerator hypothesis in the likelihood ratio with 1000 points drawn from a Gaussian prior, and fix the denominator hypothesis to the SM.\n",
    "\n",
    "Note the keyword `sample_only_from_closest_benchmark=True`, which makes sure that for each parameter point we only use the events that were originally (in MG) generated from the closest benchmark. This reduces the statistical fluctuations in the outcome quite a bit."
   ]
  },
  {
   "cell_type": "code",
   "execution_count": 27,
   "metadata": {},
   "outputs": [
    {
     "name": "stderr",
     "output_type": "stream",
     "text": [
      "18:14 madminer.sampling.sa INFO    Extracting training sample for ratio-based methods. Numerator hypothesis: 1000 random morphing points, drawn from the following priors: \n",
      "  theta_0 ~ Gaussian with mean 0.0 and std 0.5\n",
      "  theta_1 ~ Gaussian with mean 0.0 and std 0.5, denominator hypothesis: sm\n",
      "18:14 madminer.sampling.sa INFO    Starting sampling serially\n",
      "18:14 madminer.sampling.sa INFO    Sampling from parameter point 50 / 1000\n",
      "18:14 madminer.sampling.sa INFO    Sampling from parameter point 100 / 1000\n",
      "18:14 madminer.sampling.sa INFO    Sampling from parameter point 150 / 1000\n",
      "18:14 madminer.sampling.sa INFO    Sampling from parameter point 200 / 1000\n",
      "18:14 madminer.sampling.sa INFO    Sampling from parameter point 250 / 1000\n",
      "18:15 madminer.sampling.sa INFO    Sampling from parameter point 300 / 1000\n",
      "18:15 madminer.sampling.sa INFO    Sampling from parameter point 350 / 1000\n",
      "18:15 madminer.sampling.sa INFO    Sampling from parameter point 400 / 1000\n",
      "18:15 madminer.sampling.sa INFO    Sampling from parameter point 450 / 1000\n",
      "18:15 madminer.sampling.sa INFO    Sampling from parameter point 500 / 1000\n",
      "18:15 madminer.sampling.sa INFO    Sampling from parameter point 550 / 1000\n",
      "18:15 madminer.sampling.sa INFO    Sampling from parameter point 600 / 1000\n",
      "18:15 madminer.sampling.sa INFO    Sampling from parameter point 650 / 1000\n",
      "18:15 madminer.sampling.sa INFO    Sampling from parameter point 700 / 1000\n",
      "18:15 madminer.sampling.sa INFO    Sampling from parameter point 750 / 1000\n",
      "18:15 madminer.sampling.sa INFO    Sampling from parameter point 800 / 1000\n",
      "18:15 madminer.sampling.sa INFO    Sampling from parameter point 850 / 1000\n",
      "18:16 madminer.sampling.sa INFO    Sampling from parameter point 900 / 1000\n",
      "18:16 madminer.sampling.sa INFO    Sampling from parameter point 950 / 1000\n",
      "18:16 madminer.sampling.sa INFO    Sampling from parameter point 1000 / 1000\n",
      "18:16 madminer.sampling.sa INFO    Effective number of samples: mean 11586.84215827256, with individual thetas ranging from 1048.070269154138 to 29794.33109109328\n",
      "18:16 madminer.sampling.sa INFO    Starting sampling serially\n",
      "18:16 madminer.sampling.sa INFO    Sampling from parameter point 50 / 1000\n",
      "18:16 madminer.sampling.sa INFO    Sampling from parameter point 100 / 1000\n",
      "18:16 madminer.sampling.sa INFO    Sampling from parameter point 150 / 1000\n",
      "18:16 madminer.sampling.sa INFO    Sampling from parameter point 200 / 1000\n",
      "18:16 madminer.sampling.sa INFO    Sampling from parameter point 250 / 1000\n",
      "18:16 madminer.sampling.sa INFO    Sampling from parameter point 300 / 1000\n",
      "18:16 madminer.sampling.sa INFO    Sampling from parameter point 350 / 1000\n",
      "18:16 madminer.sampling.sa INFO    Sampling from parameter point 400 / 1000\n",
      "18:17 madminer.sampling.sa INFO    Sampling from parameter point 450 / 1000\n",
      "18:17 madminer.sampling.sa INFO    Sampling from parameter point 500 / 1000\n",
      "18:17 madminer.sampling.sa INFO    Sampling from parameter point 550 / 1000\n",
      "18:17 madminer.sampling.sa INFO    Sampling from parameter point 600 / 1000\n",
      "18:17 madminer.sampling.sa INFO    Sampling from parameter point 650 / 1000\n",
      "18:17 madminer.sampling.sa INFO    Sampling from parameter point 700 / 1000\n",
      "18:17 madminer.sampling.sa INFO    Sampling from parameter point 750 / 1000\n",
      "18:17 madminer.sampling.sa INFO    Sampling from parameter point 800 / 1000\n",
      "18:17 madminer.sampling.sa INFO    Sampling from parameter point 850 / 1000\n",
      "18:17 madminer.sampling.sa INFO    Sampling from parameter point 900 / 1000\n",
      "18:17 madminer.sampling.sa INFO    Sampling from parameter point 950 / 1000\n",
      "18:17 madminer.sampling.sa INFO    Sampling from parameter point 1000 / 1000\n",
      "18:17 madminer.sampling.sa INFO    Effective number of samples: mean 29984.000000000004, with individual thetas ranging from 29984.000000000004 to 29984.000000000004\n"
     ]
    }
   ],
   "source": [
    "x, theta0, theta1, y, r_xz, t_xz, n_effective = sampler.sample_train_ratio(\n",
    "    theta0=sampling.random_morphing_points(1000, [(\"gaussian\", 0.0, 0.5), (\"gaussian\", 0.0, 0.5)]),\n",
    "    theta1=sampling.benchmark(\"sm\"),\n",
    "    n_samples=500000,\n",
    "    folder=\"./data/samples\",\n",
    "    filename=\"train_ratio\",\n",
    "    sample_only_from_closest_benchmark=True,\n",
    "    return_individual_n_effective=True,\n",
    ")"
   ]
  },
  {
   "cell_type": "markdown",
   "metadata": {},
   "source": [
    "For the evaluation we'll need a test sample:"
   ]
  },
  {
   "cell_type": "code",
   "execution_count": 18,
   "metadata": {
    "scrolled": true
   },
   "outputs": [
    {
     "name": "stderr",
     "output_type": "stream",
     "text": [
      "17:20 madminer.sampling.sa INFO    Extracting evaluation sample. Sampling according to sm\n",
      "17:20 madminer.sampling.sa INFO    Starting sampling serially\n",
      "17:20 madminer.sampling.sa INFO    Sampling from parameter point 1 / 1\n",
      "17:20 madminer.sampling.sa INFO    Effective number of samples: mean 10004.0, with individual thetas ranging from 10004.0 to 10004.0\n"
     ]
    }
   ],
   "source": [
    "_ = sampler.sample_test(\n",
    "    theta=sampling.benchmark(\"sm\"),\n",
    "    n_samples=1000,\n",
    "    folder=\"./data/samples\",\n",
    "    filename=\"test\",\n",
    ")"
   ]
  },
  {
   "cell_type": "code",
   "execution_count": 19,
   "metadata": {},
   "outputs": [
    {
     "name": "stderr",
     "output_type": "stream",
     "text": [
      "17:20 madminer.sampling.sa INFO    Extracting plain training sample. Sampling according to [0.  0.5]\n",
      "17:20 madminer.sampling.sa INFO    Starting sampling serially\n",
      "17:20 madminer.sampling.sa INFO    Sampling from parameter point 1 / 1\n",
      "17:20 madminer.sampling.sa INFO    Effective number of samples: mean 6001.532825870889, with individual thetas ranging from 6001.532825870887 to 6001.532825870887\n"
     ]
    }
   ],
   "source": [
    "_, _, neff = sampler.sample_train_plain(\n",
    "    theta=sampling.morphing_point([0, 0.5]),\n",
    "    n_samples=10000,\n",
    ")"
   ]
  },
  {
   "cell_type": "markdown",
   "metadata": {},
   "source": [
    "You might notice the information about the \"effective number of samples\" in the output. This is defined as `1 / max_events(weights)`; the smaller it is, the bigger the statistical fluctuations from too large weights. Let's plot this over the parameter space:"
   ]
  },
  {
   "cell_type": "code",
   "execution_count": 20,
   "metadata": {},
   "outputs": [
    {
     "data": {
      "image/png": "[encoded data removed]",
      "text/plain": [
       "<Figure size 360x288 with 2 Axes>"
      ]
     },
     "metadata": {
      "needs_background": "light"
     },
     "output_type": "display_data"
    }
   ],
   "source": [
    "cmin = 10.0\n",
    "cmax = 10000.0\n",
    "\n",
    "cut = y.flatten() == 0\n",
    "\n",
    "fig = plt.figure(figsize=(5, 4))\n",
    "\n",
    "sc = plt.scatter(\n",
    "    theta0[cut][:, 0],\n",
    "    theta0[cut][:, 1],\n",
    "    c=n_effective[cut],\n",
    "    s=30.0,\n",
    "    cmap=\"viridis\",\n",
    "    norm=matplotlib.colors.LogNorm(vmin=cmin, vmax=cmax),\n",
    "    marker=\"o\",\n",
    ")\n",
    "\n",
    "cb = plt.colorbar(sc)\n",
    "cb.set_label(\"Effective number of samples\")\n",
    "\n",
    "plt.xlim(-1.0, 1.0)\n",
    "plt.ylim(-1.0, 1.0)\n",
    "plt.tight_layout()\n",
    "plt.show()"
   ]
  },
  {
   "cell_type": "markdown",
   "metadata": {},
   "source": [
    "## 2. Plot cross section over parameter space"
   ]
  },
  {
   "cell_type": "markdown",
   "metadata": {},
   "source": [
    "This is not strictly necessary, but we can also plot the cross section as a function of parameter space:"
   ]
  },
  {
   "cell_type": "code",
   "execution_count": 1,
   "metadata": {},
   "outputs": [
    {
     "ename": "NameError",
     "evalue": "name 'sampler' is not defined",
     "output_type": "error",
     "traceback": [
      "\u001b[0;31m---------------------------------------------------------------------------\u001b[0m",
      "\u001b[0;31mNameError\u001b[0m                                 Traceback (most recent call last)",
      "\u001b[0;32m/tmp/ipykernel_11280/2863071171.py\u001b[0m in \u001b[0;36m<module>\u001b[0;34m\u001b[0m\n\u001b[0;32m----> 1\u001b[0;31m thetas_benchmarks, xsecs_benchmarks, xsec_errors_benchmarks = sampler.cross_sections(\n\u001b[0m\u001b[1;32m      2\u001b[0m     \u001b[0mtheta\u001b[0m\u001b[0;34m=\u001b[0m\u001b[0msampling\u001b[0m\u001b[0;34m.\u001b[0m\u001b[0mbenchmarks\u001b[0m\u001b[0;34m(\u001b[0m\u001b[0mlist\u001b[0m\u001b[0;34m(\u001b[0m\u001b[0msampler\u001b[0m\u001b[0;34m.\u001b[0m\u001b[0mbenchmarks\u001b[0m\u001b[0;34m.\u001b[0m\u001b[0mkeys\u001b[0m\u001b[0;34m(\u001b[0m\u001b[0;34m)\u001b[0m\u001b[0;34m)\u001b[0m\u001b[0;34m)\u001b[0m\u001b[0;34m\u001b[0m\u001b[0;34m\u001b[0m\u001b[0m\n\u001b[1;32m      3\u001b[0m )\n\u001b[1;32m      4\u001b[0m \u001b[0;34m\u001b[0m\u001b[0m\n\u001b[1;32m      5\u001b[0m thetas_morphing, xsecs_morphing, xsec_errors_morphing = sampler.cross_sections(\n",
      "\u001b[0;31mNameError\u001b[0m: name 'sampler' is not defined"
     ]
    }
   ],
   "source": [
    "thetas_benchmarks, xsecs_benchmarks, xsec_errors_benchmarks = sampler.cross_sections(\n",
    "    theta=sampling.benchmarks(list(sampler.benchmarks.keys()))\n",
    ")\n",
    "\n",
    "thetas_morphing, xsecs_morphing, xsec_errors_morphing = sampler.cross_sections(\n",
    "    theta=sampling.random_morphing_points(1000, [(\"gaussian\", 0.0, 1.0), (\"gaussian\", 0.0, 1.0)])\n",
    ")"
   ]
  },
  {
   "cell_type": "code",
   "execution_count": null,
   "metadata": {},
   "outputs": [],
   "source": [
    "cmin = 0.0\n",
    "cmax = 2.5 * np.mean(xsecs_morphing)\n",
    "\n",
    "fig = plt.figure(figsize=(5, 4))\n",
    "\n",
    "sc = plt.scatter(\n",
    "    thetas_morphing[:, 0],\n",
    "    thetas_morphing[:, 1],\n",
    "    c=xsecs_morphing,\n",
    "    s=40.0,\n",
    "    cmap=\"viridis\",\n",
    "    vmin=cmin,\n",
    "    vmax=cmax,\n",
    "    marker=\"o\",\n",
    ")\n",
    "plt.scatter(\n",
    "    thetas_benchmarks[:, 0],\n",
    "    thetas_benchmarks[:, 1],\n",
    "    c=xsecs_benchmarks,\n",
    "    s=200.0,\n",
    "    cmap=\"viridis\",\n",
    "    vmin=cmin,\n",
    "    vmax=cmax,\n",
    "    lw=2.0,\n",
    "    edgecolor=\"black\",\n",
    "    marker=\"s\",\n",
    ")\n",
    "\n",
    "cb = plt.colorbar(sc)\n",
    "cb.set_label(\"xsec [pb]\")\n",
    "\n",
    "plt.xlim(-3.0, 3.0)\n",
    "plt.ylim(-3.0, 3.0)\n",
    "plt.tight_layout()\n",
    "plt.show()"
   ]
  },
  {
   "cell_type": "markdown",
   "metadata": {},
   "source": [
    "What  you see here is a morphing algorithm in action. We only asked MadGraph to calculate event weights (differential cross sections, or basically squared matrix elements) at six fixed parameter points (shown here as squares with black edges). But with our knowledge about the structure of the process we can interpolate any observable to any parameter point without loss (except that statistical uncertainties might increase)!"
   ]
  },
  {
   "cell_type": "markdown",
   "metadata": {},
   "source": [
    "## 3. Train likelihood ratio estimator"
   ]
  },
  {
   "cell_type": "markdown",
   "metadata": {},
   "source": [
    "It's now time to build the neural network that estimates the likelihood ratio. The central object for this is the `madminer.ml.ParameterizedRatioEstimator` class. It defines functions that train, save, load, and evaluate the estimators.\n",
    "\n",
    "In the initialization, the keywords `n_hidden` and `activation` define the architecture of the (fully connected) neural network:"
   ]
  },
  {
   "cell_type": "code",
   "execution_count": 22,
   "metadata": {},
   "outputs": [],
   "source": [
    "estimator = ParameterizedRatioEstimator(n_hidden=(60, 60), activation=\"tanh\")"
   ]
  },
  {
   "cell_type": "markdown",
   "metadata": {},
   "source": [
    "To train this model we will minimize the ALICES loss function described in [\"Likelihood-free inference with an improved cross-entropy estimator\"](https://arxiv.org/abs/1808.00973). Many alternatives, including RASCAL, are described in [\"Constraining Effective Field Theories With Machine Learning\"](https://arxiv.org/abs/1805.00013) and [\"A Guide to Constraining Effective Field Theories With Machine Learning\"](https://arxiv.org/abs/1805.00020). There is also SCANDAL introduced in [\"Mining gold from implicit models to improve likelihood-free inference\"](https://arxiv.org/abs/1805.12244)."
   ]
  },
  {
   "cell_type": "code",
   "execution_count": 23,
   "metadata": {},
   "outputs": [
    {
     "name": "stderr",
     "output_type": "stream",
     "text": [
      "17:40 madminer.ml.paramete INFO    Starting training\n",
      "17:40 madminer.ml.paramete INFO      Method:                 alices\n",
      "17:40 madminer.ml.paramete INFO      alpha:                  10\n",
      "17:40 madminer.ml.paramete INFO      Batch size:             128\n",
      "17:40 madminer.ml.paramete INFO      Optimizer:              amsgrad\n",
      "17:40 madminer.ml.paramete INFO      Epochs:                 10\n",
      "17:40 madminer.ml.paramete INFO      Learning rate:          0.001 initially, decaying to 0.0001\n",
      "17:40 madminer.ml.paramete INFO      Validation split:       0.25\n",
      "17:40 madminer.ml.paramete INFO      Early stopping:         True\n",
      "17:40 madminer.ml.paramete INFO      Scale inputs:           True\n",
      "17:40 madminer.ml.paramete INFO      Scale parameters:       True\n",
      "17:40 madminer.ml.paramete INFO      Shuffle labels          False\n",
      "17:40 madminer.ml.paramete INFO      Samples:                all\n",
      "17:40 madminer.ml.paramete INFO    Loading training data\n",
      "17:40 madminer.utils.vario INFO      Loading data/samples/theta0_train_ratio.npy into RAM\n",
      "17:40 madminer.utils.vario INFO      Loading data/samples/x_train_ratio.npy into RAM\n",
      "17:40 madminer.utils.vario INFO      Loading data/samples/y_train_ratio.npy into RAM\n",
      "17:40 madminer.utils.vario INFO      Loading data/samples/r_xz_train_ratio.npy into RAM\n",
      "17:40 madminer.utils.vario INFO      Loading data/samples/t_xz_train_ratio.npy into RAM\n",
      "17:40 madminer.ml.paramete INFO    Found 500000 samples with 2 parameters and 3 observables\n",
      "17:40 madminer.ml.base     INFO    Setting up input rescaling\n",
      "17:40 madminer.ml.paramete INFO    Rescaling parameters\n",
      "17:40 madminer.ml.base     INFO    Setting up parameter rescaling\n",
      "17:40 madminer.ml.paramete INFO    Creating model\n",
      "17:40 madminer.ml.paramete INFO    Training model\n",
      "17:40 madminer.utils.ml.tr INFO    Training on CPU with single precision\n",
      "17:41 madminer.utils.ml.tr INFO      Epoch   1: train loss  0.70038 (improved_xe:  0.693, mse_score:  0.001)\n",
      "17:41 madminer.utils.ml.tr INFO                 val. loss   0.70113 (improved_xe:  0.693, mse_score:  0.001)\n",
      "17:41 madminer.utils.ml.tr INFO      Epoch   2: train loss  0.70012 (improved_xe:  0.693, mse_score:  0.001)\n",
      "17:41 madminer.utils.ml.tr INFO                 val. loss   0.70098 (improved_xe:  0.693, mse_score:  0.001)\n",
      "17:42 madminer.utils.ml.tr INFO      Epoch   3: train loss  0.70005 (improved_xe:  0.693, mse_score:  0.001)\n",
      "17:42 madminer.utils.ml.tr INFO                 val. loss   0.70095 (improved_xe:  0.693, mse_score:  0.001)\n",
      "17:43 madminer.utils.ml.tr INFO      Epoch   4: train loss  0.70002 (improved_xe:  0.693, mse_score:  0.001)\n",
      "17:43 madminer.utils.ml.tr INFO                 val. loss   0.70090 (improved_xe:  0.693, mse_score:  0.001)\n",
      "17:44 madminer.utils.ml.tr INFO      Epoch   5: train loss  0.69999 (improved_xe:  0.693, mse_score:  0.001)\n",
      "17:44 madminer.utils.ml.tr INFO                 val. loss   0.70090 (improved_xe:  0.693, mse_score:  0.001)\n",
      "17:45 madminer.utils.ml.tr INFO      Epoch   6: train loss  0.69997 (improved_xe:  0.693, mse_score:  0.001)\n",
      "17:45 madminer.utils.ml.tr INFO                 val. loss   0.70086 (improved_xe:  0.693, mse_score:  0.001)\n",
      "17:45 madminer.utils.ml.tr INFO      Epoch   7: train loss  0.69995 (improved_xe:  0.693, mse_score:  0.001)\n",
      "17:45 madminer.utils.ml.tr INFO                 val. loss   0.70086 (improved_xe:  0.693, mse_score:  0.001)\n",
      "17:46 madminer.utils.ml.tr INFO      Epoch   8: train loss  0.69994 (improved_xe:  0.693, mse_score:  0.001)\n",
      "17:46 madminer.utils.ml.tr INFO                 val. loss   0.70084 (improved_xe:  0.693, mse_score:  0.001)\n",
      "17:47 madminer.utils.ml.tr INFO      Epoch   9: train loss  0.69993 (improved_xe:  0.693, mse_score:  0.001)\n",
      "17:47 madminer.utils.ml.tr INFO                 val. loss   0.70085 (improved_xe:  0.693, mse_score:  0.001)\n",
      "17:48 madminer.utils.ml.tr INFO      Epoch  10: train loss  0.69992 (improved_xe:  0.693, mse_score:  0.001)\n",
      "17:48 madminer.utils.ml.tr INFO                 val. loss   0.70083 (improved_xe:  0.693, mse_score:  0.001)\n",
      "17:48 madminer.utils.ml.tr INFO    Early stopping did not improve performance\n",
      "17:48 madminer.utils.ml.tr INFO    Training time spend on:\n",
      "17:48 madminer.utils.ml.tr INFO                      initialize model:   0.00h\n",
      "17:48 madminer.utils.ml.tr INFO                                   ALL:   0.14h\n",
      "17:48 madminer.utils.ml.tr INFO                            check data:   0.00h\n",
      "17:48 madminer.utils.ml.tr INFO                          make dataset:   0.00h\n",
      "17:48 madminer.utils.ml.tr INFO                       make dataloader:   0.00h\n",
      "17:48 madminer.utils.ml.tr INFO                       setup optimizer:   0.00h\n",
      "17:48 madminer.utils.ml.tr INFO                   initialize training:   0.00h\n",
      "17:48 madminer.utils.ml.tr INFO                                set lr:   0.00h\n",
      "17:48 madminer.utils.ml.tr INFO                   load training batch:   0.04h\n",
      "17:48 madminer.utils.ml.tr INFO                        fwd: move data:   0.00h\n",
      "17:48 madminer.utils.ml.tr INFO                   fwd: check for nans:   0.00h\n",
      "17:48 madminer.utils.ml.tr INFO                    fwd: model.forward:   0.06h\n",
      "17:48 madminer.utils.ml.tr INFO                 fwd: calculate losses:   0.00h\n",
      "17:48 madminer.utils.ml.tr INFO                 training forward pass:   0.05h\n",
      "17:48 madminer.utils.ml.tr INFO                   training sum losses:   0.00h\n",
      "17:48 madminer.utils.ml.tr INFO                        opt: zero grad:   0.00h\n",
      "17:48 madminer.utils.ml.tr INFO                         opt: backward:   0.02h\n",
      "17:48 madminer.utils.ml.tr INFO                   opt: clip grad norm:   0.00h\n",
      "17:48 madminer.utils.ml.tr INFO                             opt: step:   0.00h\n",
      "17:48 madminer.utils.ml.tr INFO                        optimizer step:   0.03h\n",
      "17:48 madminer.utils.ml.tr INFO                 load validation batch:   0.01h\n",
      "17:48 madminer.utils.ml.tr INFO               validation forward pass:   0.02h\n",
      "17:48 madminer.utils.ml.tr INFO                 validation sum losses:   0.00h\n",
      "17:48 madminer.utils.ml.tr INFO                        early stopping:   0.00h\n",
      "17:48 madminer.utils.ml.tr INFO                          report epoch:   0.00h\n",
      "17:48 madminer.ml.base     INFO    Saving model to models/alices\n"
     ]
    }
   ],
   "source": [
    "estimator.train(\n",
    "    method=\"alices\",\n",
    "    theta=\"data/samples/theta0_train_ratio.npy\",\n",
    "    x=\"data/samples/x_train_ratio.npy\",\n",
    "    y=\"data/samples/y_train_ratio.npy\",\n",
    "    r_xz=\"data/samples/r_xz_train_ratio.npy\",\n",
    "    t_xz=\"data/samples/t_xz_train_ratio.npy\",\n",
    "    alpha=10,\n",
    "    n_epochs=10,\n",
    "    scale_parameters=True,\n",
    ")\n",
    "\n",
    "estimator.save(\"models/alices\")"
   ]
  },
  {
   "cell_type": "markdown",
   "metadata": {},
   "source": [
    "Let's for fun also train a model that only used `pt_j1` as input observable, which can be specified using the option `features` when defining the `ParameterizedRatioEstimator`"
   ]
  },
  {
   "cell_type": "code",
   "execution_count": 23,
   "metadata": {},
   "outputs": [
    {
     "name": "stderr",
     "output_type": "stream",
     "text": [
      "13:50 madminer.ml.paramete INFO    Starting training\n",
      "13:50 madminer.ml.paramete INFO      Method:                 alices\n",
      "13:50 madminer.ml.paramete INFO      alpha:                  8\n",
      "13:50 madminer.ml.paramete INFO      Batch size:             128\n",
      "13:50 madminer.ml.paramete INFO      Optimizer:              amsgrad\n",
      "13:50 madminer.ml.paramete INFO      Epochs:                 10\n",
      "13:50 madminer.ml.paramete INFO      Learning rate:          0.001 initially, decaying to 0.0001\n",
      "13:50 madminer.ml.paramete INFO      Validation split:       0.25\n",
      "13:50 madminer.ml.paramete INFO      Early stopping:         True\n",
      "13:50 madminer.ml.paramete INFO      Scale inputs:           True\n",
      "13:50 madminer.ml.paramete INFO      Scale parameters:       True\n",
      "13:50 madminer.ml.paramete INFO      Shuffle labels          False\n",
      "13:50 madminer.ml.paramete INFO      Samples:                all\n",
      "13:50 madminer.ml.paramete INFO    Loading training data\n",
      "13:50 madminer.utils.vario INFO      Loading data/samples/theta0_train_ratio.npy into RAM\n",
      "13:50 madminer.utils.vario INFO      Loading data/samples/x_train_ratio.npy into RAM\n",
      "13:50 madminer.utils.vario INFO      Loading data/samples/y_train_ratio.npy into RAM\n",
      "13:50 madminer.utils.vario INFO      Loading data/samples/r_xz_train_ratio.npy into RAM\n",
      "13:50 madminer.utils.vario INFO      Loading data/samples/t_xz_train_ratio.npy into RAM\n",
      "13:50 madminer.ml.paramete INFO    Found 500000 samples with 2 parameters and 3 observables\n",
      "13:50 madminer.ml.base     INFO    Setting up input rescaling\n",
      "13:50 madminer.ml.paramete INFO    Rescaling parameters\n",
      "13:50 madminer.ml.base     INFO    Setting up parameter rescaling\n",
      "13:50 madminer.ml.paramete INFO    Only using 1 of 3 observables\n",
      "13:50 madminer.ml.paramete INFO    Creating model\n",
      "13:50 madminer.ml.paramete INFO    Training model\n",
      "13:50 madminer.utils.ml.tr INFO    Training on CPU with single precision\n",
      "13:51 madminer.utils.ml.tr INFO      Epoch   1: train loss  0.69911 (improved_xe:  0.693, mse_score:  0.001)\n",
      "13:51 madminer.utils.ml.tr INFO                 val. loss   0.69913 (improved_xe:  0.693, mse_score:  0.001)\n",
      "13:52 madminer.utils.ml.tr INFO      Epoch   2: train loss  0.69899 (improved_xe:  0.693, mse_score:  0.001)\n",
      "13:52 madminer.utils.ml.tr INFO                 val. loss   0.69910 (improved_xe:  0.693, mse_score:  0.001)\n",
      "13:52 madminer.utils.ml.tr INFO      Epoch   3: train loss  0.69895 (improved_xe:  0.693, mse_score:  0.001)\n",
      "13:52 madminer.utils.ml.tr INFO                 val. loss   0.69908 (improved_xe:  0.693, mse_score:  0.001)\n",
      "13:53 madminer.utils.ml.tr INFO      Epoch   4: train loss  0.69892 (improved_xe:  0.693, mse_score:  0.001)\n",
      "13:53 madminer.utils.ml.tr INFO                 val. loss   0.69905 (improved_xe:  0.693, mse_score:  0.001)\n",
      "13:54 madminer.utils.ml.tr INFO      Epoch   5: train loss  0.69889 (improved_xe:  0.693, mse_score:  0.001)\n",
      "13:54 madminer.utils.ml.tr INFO                 val. loss   0.69902 (improved_xe:  0.693, mse_score:  0.001)\n",
      "13:54 madminer.utils.ml.tr INFO      Epoch   6: train loss  0.69887 (improved_xe:  0.693, mse_score:  0.001)\n",
      "13:54 madminer.utils.ml.tr INFO                 val. loss   0.69900 (improved_xe:  0.693, mse_score:  0.001)\n",
      "13:55 madminer.utils.ml.tr INFO      Epoch   7: train loss  0.69886 (improved_xe:  0.693, mse_score:  0.001)\n",
      "13:55 madminer.utils.ml.tr INFO                 val. loss   0.69902 (improved_xe:  0.693, mse_score:  0.001)\n",
      "13:56 madminer.utils.ml.tr INFO      Epoch   8: train loss  0.69885 (improved_xe:  0.693, mse_score:  0.001)\n",
      "13:56 madminer.utils.ml.tr INFO                 val. loss   0.69899 (improved_xe:  0.693, mse_score:  0.001)\n",
      "13:56 madminer.utils.ml.tr INFO      Epoch   9: train loss  0.69884 (improved_xe:  0.693, mse_score:  0.001)\n",
      "13:56 madminer.utils.ml.tr INFO                 val. loss   0.69900 (improved_xe:  0.693, mse_score:  0.001)\n",
      "13:57 madminer.utils.ml.tr INFO      Epoch  10: train loss  0.69883 (improved_xe:  0.693, mse_score:  0.001)\n",
      "13:57 madminer.utils.ml.tr INFO                 val. loss   0.69897 (improved_xe:  0.693, mse_score:  0.001)\n",
      "13:57 madminer.utils.ml.tr INFO    Early stopping did not improve performance\n",
      "13:57 madminer.utils.ml.tr INFO    Training time spend on:\n",
      "13:57 madminer.utils.ml.tr INFO                      initialize model:   0.00h\n",
      "13:57 madminer.utils.ml.tr INFO                                   ALL:   0.11h\n",
      "13:57 madminer.utils.ml.tr INFO                            check data:   0.00h\n",
      "13:57 madminer.utils.ml.tr INFO                          make dataset:   0.00h\n",
      "13:57 madminer.utils.ml.tr INFO                       make dataloader:   0.00h\n",
      "13:57 madminer.utils.ml.tr INFO                       setup optimizer:   0.00h\n",
      "13:57 madminer.utils.ml.tr INFO                   initialize training:   0.00h\n",
      "13:57 madminer.utils.ml.tr INFO                                set lr:   0.00h\n",
      "13:57 madminer.utils.ml.tr INFO                   load training batch:   0.03h\n",
      "13:57 madminer.utils.ml.tr INFO                        fwd: move data:   0.00h\n",
      "13:57 madminer.utils.ml.tr INFO                   fwd: check for nans:   0.00h\n",
      "13:57 madminer.utils.ml.tr INFO                    fwd: model.forward:   0.04h\n",
      "13:57 madminer.utils.ml.tr INFO                 fwd: calculate losses:   0.00h\n",
      "13:57 madminer.utils.ml.tr INFO                 training forward pass:   0.04h\n",
      "13:57 madminer.utils.ml.tr INFO                   training sum losses:   0.00h\n",
      "13:57 madminer.utils.ml.tr INFO                        opt: zero grad:   0.00h\n",
      "13:57 madminer.utils.ml.tr INFO                         opt: backward:   0.02h\n",
      "13:57 madminer.utils.ml.tr INFO                   opt: clip grad norm:   0.00h\n",
      "13:57 madminer.utils.ml.tr INFO                             opt: step:   0.00h\n",
      "13:57 madminer.utils.ml.tr INFO                        optimizer step:   0.02h\n",
      "13:57 madminer.utils.ml.tr INFO                 load validation batch:   0.01h\n",
      "13:57 madminer.utils.ml.tr INFO               validation forward pass:   0.01h\n",
      "13:57 madminer.utils.ml.tr INFO                 validation sum losses:   0.00h\n",
      "13:57 madminer.utils.ml.tr INFO                        early stopping:   0.00h\n",
      "13:57 madminer.utils.ml.tr INFO                          report epoch:   0.00h\n",
      "13:57 madminer.ml.base     INFO    Saving model to models/alices_pt\n"
     ]
    }
   ],
   "source": [
    "estimator_pt = ParameterizedRatioEstimator(\n",
    "    n_hidden=(40, 40),\n",
    "    activation=\"tanh\",\n",
    "    features=[0],\n",
    ")\n",
    "\n",
    "estimator_pt.train(\n",
    "    method=\"alices\",\n",
    "    theta=\"data/samples/theta0_train_ratio.npy\",\n",
    "    x=\"data/samples/x_train_ratio.npy\",\n",
    "    y=\"data/samples/y_train_ratio.npy\",\n",
    "    r_xz=\"data/samples/r_xz_train_ratio.npy\",\n",
    "    t_xz=\"data/samples/t_xz_train_ratio.npy\",\n",
    "    alpha=8,\n",
    "    n_epochs=10,\n",
    "    scale_parameters=True,\n",
    ")\n",
    "\n",
    "estimator_pt.save(\"models/alices_pt\")"
   ]
  },
  {
   "cell_type": "markdown",
   "metadata": {},
   "source": [
    "## 4. Evaluate likelihood ratio estimator"
   ]
  },
  {
   "cell_type": "markdown",
   "metadata": {},
   "source": [
    "`estimator.evaluate_log_likelihood_ratio(theta,x)` estimated the log likelihood ratio and the score for all combination between the given phase-space points `x` and parameters `theta`. That is, if given 100 events `x` and a grid of 25 `theta` points, it will return 25\\*100 estimates for the log likelihood ratio and 25\\*100 estimates for the score, both indexed by `[i_theta,i_x]`."
   ]
  },
  {
   "cell_type": "code",
   "execution_count": 24,
   "metadata": {},
   "outputs": [],
   "source": [
    "theta_each = np.linspace(-1, 1, 25)\n",
    "theta0, theta1 = np.meshgrid(theta_each, theta_each)\n",
    "theta_grid = np.vstack((theta0.flatten(), theta1.flatten())).T\n",
    "np.save(\"data/samples/theta_grid.npy\", theta_grid)\n",
    "\n",
    "theta_denom = np.array([[0.0, 0.0]])\n",
    "np.save(\"data/samples/theta_ref.npy\", theta_denom)"
   ]
  },
  {
   "cell_type": "code",
   "execution_count": 25,
   "metadata": {},
   "outputs": [
    {
     "name": "stderr",
     "output_type": "stream",
     "text": [
      "17:48 madminer.ml.base     INFO    Loading model from models/alices\n",
      "17:48 madminer.utils.vario INFO      Loading data/samples/x_test.npy into RAM\n",
      "17:48 madminer.utils.vario INFO      Loading data/samples/theta_grid.npy into RAM\n"
     ]
    }
   ],
   "source": [
    "estimator.load(\"models/alices\")\n",
    "\n",
    "log_r_hat, _ = estimator.evaluate_log_likelihood_ratio(\n",
    "    theta=\"data/samples/theta_grid.npy\",\n",
    "    x=\"data/samples/x_test.npy\",\n",
    "    evaluate_score=False,\n",
    ")"
   ]
  },
  {
   "cell_type": "markdown",
   "metadata": {},
   "source": [
    "Let's look at the result:"
   ]
  },
  {
   "cell_type": "code",
   "execution_count": 26,
   "metadata": {},
   "outputs": [
    {
     "data": {
      "image/png": "[encoded data removed]",
      "text/plain": [
       "<Figure size 432x360 with 2 Axes>"
      ]
     },
     "metadata": {
      "needs_background": "light"
     },
     "output_type": "display_data"
    }
   ],
   "source": [
    "bin_size = theta_each[1] - theta_each[0]\n",
    "edges = np.linspace(\n",
    "    theta_each[0] - bin_size / 2,\n",
    "    theta_each[-1] + bin_size / 2,\n",
    "    len(theta_each) + 1,\n",
    ")\n",
    "\n",
    "fig = plt.figure(figsize=(6, 5))\n",
    "ax = plt.gca()\n",
    "\n",
    "expected_llr = np.mean(log_r_hat, axis=1)\n",
    "best_fit = theta_grid[np.argmin(-2.0 * expected_llr)]\n",
    "\n",
    "cmin = np.min(-2 * expected_llr)\n",
    "cmax = np.max(-2 * expected_llr)\n",
    "\n",
    "pcm = ax.pcolormesh(\n",
    "    edges,\n",
    "    edges,\n",
    "    -2.0 * expected_llr.reshape((25, 25)),\n",
    "    norm=matplotlib.colors.Normalize(vmin=cmin, vmax=cmax),\n",
    "    cmap=\"viridis_r\",\n",
    ")\n",
    "\n",
    "cbar = fig.colorbar(pcm, ax=ax, extend=\"both\")\n",
    "\n",
    "plt.scatter(\n",
    "    best_fit[0],\n",
    "    best_fit[1],\n",
    "    s=80.0,\n",
    "    color=\"black\",\n",
    "    marker=\"*\",\n",
    ")\n",
    "\n",
    "plt.xlabel(r\"$\\theta_0$\")\n",
    "plt.ylabel(r\"$\\theta_1$\")\n",
    "cbar.set_label(r\"$\\mathbb{E}_x [ -2\\, \\log \\,\\hat{r}(x | \\theta, \\theta_{SM}) ]$\")\n",
    "\n",
    "plt.tight_layout()\n",
    "plt.show()"
   ]
  },
  {
   "cell_type": "markdown",
   "metadata": {},
   "source": [
    "Note that in this tutorial our sample size was very small, and the network might not really have a chance to converge to the correct likelihood ratio function. So don't worry if you find a minimum that is not at the right point (the SM, i.e. the origin in this plot). Feel free to dial up the event numbers in the run card as well as the training samples and see what happens then!"
   ]
  }
 ],
 "metadata": {
  "kernelspec": {
   "display_name": "Python 3",
   "language": "python",
   "name": "python3"
  },
  "language_info": {
   "codemirror_mode": {
    "name": "ipython",
    "version": 3
   },
   "file_extension": ".py",
   "mimetype": "text/x-python",
   "name": "python",
   "nbconvert_exporter": "python",
   "pygments_lexer": "ipython3",
   "version": "3.7.13"
  }
 },
 "nbformat": 4,
 "nbformat_minor": 2
}
