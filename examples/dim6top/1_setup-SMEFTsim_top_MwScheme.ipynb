{
 "cells": [
  {
   "cell_type": "markdown",
   "metadata": {},
   "source": [
    "# MadMiner physics tutorial (part 1)\n",
    "\n",
    "Johann Brehmer, Felix Kling, Irina Espejo, and Kyle Cranmer 2018-2019"
   ]
  },
  {
   "cell_type": "markdown",
   "metadata": {},
   "source": [
    "Welcome to the MadMiner particle-physics tutorial! It consists of six numbered notebooks. They build on each other, so please go through them in the right order, starting with this notebook.\n",
    "\n",
    "In this first part, we'll show how to set up the parameter space and define a morphing setups -- typically the first steps in a MadMiner analysis.\n",
    "\n",
    "This tutorial does not try to explain the theory behind the tool. To understand what MadMiner is doing, please have a look at some papers first. In\n",
    "[\"Constraining Effective Field Theories With Machine Learning\"](https://arxiv.org/abs/1805.00013)\n",
    "we explain the basic idea of most of the methods presented here, while [\"A Guide to Constraining Effective Field Theories With Machine Learning\"](https://arxiv.org/abs/1805.00020) is an extensive 65-page handbook going through the details."
   ]
  },
  {
   "cell_type": "markdown",
   "metadata": {},
   "source": [
    "## 0. Preparations"
   ]
  },
  {
   "cell_type": "code",
   "execution_count": 1,
   "metadata": {},
   "outputs": [],
   "source": [
    "import logging"
   ]
  },
  {
   "cell_type": "markdown",
   "metadata": {},
   "source": [
    "MadMiner uses the Python `logging` module to provide additional information and debugging output. You can choose how much of this output you want to see by switching the level in the following lines to `logging.DEBUG` or `logging.WARNING`."
   ]
  },
  {
   "cell_type": "code",
   "execution_count": 2,
   "metadata": {},
   "outputs": [],
   "source": [
    "# MadMiner output\n",
    "logging.basicConfig(\n",
    "    format=\"%(asctime)-5.5s %(name)-20.20s %(levelname)-7.7s %(message)s\",\n",
    "    datefmt=\"%H:%M\",\n",
    "    level=logging.INFO,\n",
    ")\n",
    "\n",
    "# Output of all other modules (e.g. matplotlib)\n",
    "for key in logging.Logger.manager.loggerDict:\n",
    "    if \"madminer\" not in key:\n",
    "        logging.getLogger(key).setLevel(logging.WARNING)"
   ]
  },
  {
   "cell_type": "code",
   "execution_count": 3,
   "metadata": {},
   "outputs": [],
   "source": [
    "from madminer import MadMiner, plot_2d_morphing_basis"
   ]
  },
  {
   "cell_type": "markdown",
   "metadata": {},
   "source": [
    "## 1. Input data"
   ]
  },
  {
   "cell_type": "markdown",
   "metadata": {},
   "source": [
    "As an example process, we'll simulate VBF Higgs production with a decay into two photons. We'll try to measure two EFT coefficients that affect this process.\n",
    "\n",
    "Have a look at the `cards` folder. You'll find text files (\"cards\") that specify the process simulation in typical MadGraph convention."
   ]
  },
  {
   "cell_type": "markdown",
   "metadata": {},
   "source": [
    "## 2. Define parameter space"
   ]
  },
  {
   "cell_type": "markdown",
   "metadata": {},
   "source": [
    "After creating a `MadMiner` instance, the first important step is the definition of the parameter space. Each model parameter is characterized by a name as well as the LHA block and ID.\n",
    "\n",
    "If morphing is used, one also has to specify the maximal power with which the parameter contributes to the squared matrix element. For instance, a parameter that contributes only to one vertex, will typically have `morphing_max_power=2`, while a parameter that contributes to two vertices usually has `morphing_max_power=4`. Exceptions arise for instance when the interference effects between the SM and dimension-six operators are modelled, but the square of the dimension-six amplitude (subleading in 1/Lambda) is not taken into account, in which case `morphing_max_power=1`. The `parameter_range` argument defines the range of parameter values that are used for the automatic optimization of the morphing basis.\n",
    "\n",
    "Finally, the parameter values theta used internally by MadMiner and the parameter values written to the param_card (or reweight_card) given to MadGraph do not have to be exactly the same. With the option `parm_card_transform`, the user can supply a one-parameter function that maps a parameter value theta to the value given to MadGraph. This string is a python expression, in which `theta` is parsed as the parameter value. For instance, if the internal parameters are in the range (0, 1), but should be linearly scaled to (0, 100) in the param_card, one would have to use `param_card_transform=\"100*theta\"`."
   ]
  },
  {
   "cell_type": "code",
   "execution_count": 4,
   "metadata": {},
   "outputs": [
    {
     "name": "stderr",
     "output_type": "stream",
     "text": [
      "12:52 madminer.core.madmin INFO    Adding parameter: ctGRe (LHA: SMEFT 15, Power: 2, Range: (-20.0, 20.0))\n",
      "12:52 madminer.core.madmin WARNING Resetting benchmarks and morphing\n",
      "12:52 madminer.core.madmin INFO    Adding parameter: ctu8 (LHA: SMEFT 50, Power: 2, Range: (-20.0, 20.0))\n",
      "12:52 madminer.core.madmin WARNING Resetting benchmarks and morphing\n"
     ]
    }
   ],
   "source": [
    "miner = MadMiner()\n",
    "\n",
    "miner.add_parameter(\n",
    "    lha_block=\"SMEFT\",\n",
    "    lha_id=15,\n",
    "    parameter_name=\"ctGRe\",\n",
    "    morphing_max_power=2,\n",
    "    param_card_transform=\"1.0*theta\",\n",
    "    parameter_range=(-20.0, 20.0),\n",
    ")\n",
    "miner.add_parameter(\n",
    "    lha_block=\"SMEFT\",\n",
    "    lha_id=50,\n",
    "    parameter_name=\"ctu8\",\n",
    "    morphing_max_power=2,\n",
    "    param_card_transform=\"1.0*theta\",\n",
    "    parameter_range=(-20.0, 20.0),\n",
    ")"
   ]
  },
  {
   "cell_type": "markdown",
   "metadata": {},
   "source": [
    "## 3. Define benchmarks manually"
   ]
  },
  {
   "cell_type": "markdown",
   "metadata": {},
   "source": [
    "The next step is the definition of all the points at which the weights (squared matrix elements) should be evaluated by MadGraph. We call these points \"benchmarks\". One can define benchmarks by hand:"
   ]
  },
  {
   "cell_type": "code",
   "execution_count": 5,
   "metadata": {},
   "outputs": [
    {
     "name": "stderr",
     "output_type": "stream",
     "text": [
      "09:57 madminer.core.madmin INFO    Added benchmark sm: ctGRe = 0.00e+00, ctu8 = 0.00e+00\n",
      "09:57 madminer.core.madmin INFO    Added benchmark ctG: ctGRe = 15.20, ctu8 = 0.10\n",
      "09:57 madminer.core.madmin INFO    Added benchmark neg_ctG: ctGRe = -1.54e+01, ctu8 = 0.20\n",
      "09:57 madminer.core.madmin INFO    Added benchmark ctu8: ctGRe = 0.30, ctu8 = 15.10\n",
      "09:57 madminer.core.madmin INFO    Added benchmark neg_ctu8: ctGRe = 0.40, ctu8 = -1.53e+01\n"
     ]
    }
   ],
   "source": [
    "miner.add_benchmark({\"ctGRe\": 0.0, \"ctu8\": 0.0}, \"sm\")\n",
    "miner.add_benchmark({\"ctGRe\": 15.2, \"ctu8\": 0.1}, \"ctG\")\n",
    "miner.add_benchmark({\"ctGRe\": -15.4, \"ctu8\": 0.2}, \"neg_ctG\")\n",
    "miner.add_benchmark({\"ctGRe\": 0.3, \"ctu8\": 15.1}, \"ctu8\")\n",
    "miner.add_benchmark({\"ctGRe\": 0.4, \"ctu8\": -15.3}, \"neg_ctu8\")"
   ]
  },
  {
   "cell_type": "markdown",
   "metadata": {},
   "source": [
    "## 4. Morphing"
   ]
  },
  {
   "cell_type": "markdown",
   "metadata": {},
   "source": [
    "Morphing is a powerful technique that allows for the fast and exact interpolation of event weights (or any derived quantity) from a set of original benchmark points (the \"morphing basis\") to anywhere in theory parameter space. This procedure depends on the powers with which the parameters affect the differential cross sections (this is why `add_parameter()` wants to know about this). Please see Sec. II.C.2 of [\"A Guide to Constraining Effective Field Theories With Machine Learning\"](https://arxiv.org/abs/1805.00020) for an explanation of the technique.\n",
    "\n",
    "Morphing is not strictly necessary to run MadMiner, but it makes life easier in so many ways (and many methods are so far only implemented for morphing-based problems). We strongly recommend to use this wherever possible.\n",
    "\n",
    "To activate morphing, the function `set_morphing` has to be called. With the option `include_existing_benchmarks=True`, MadMiner will keep all the benchmark points defined beforehand and run a simple optimization algorithm to fix the remaining ones for the basis (which may be none). Otherwise, MadMiner will optimize the full basis and forget about all previously defined benchmark points.\n",
    "\n",
    "The other important keyword is `max_overall_power`. This sets the maximal combined power with which all parameters together contribute to the squared matrix element (cross section). This constraint is in addition to the `morphing_max_power` keyword of `add_parameter()` (see above). For instance, if there are two parameters of interest `a` and `b`, and it is known that there are contributions proportional to `1` (constant), `a`, `a^2`, `b`, `b^2`, and `ab`, then `max_overall_power=2`. If there are also contributions proportional to `a^2 b`, `a b^2`, and `a^2 b^2`, then `max_overall_power=4`."
   ]
  },
  {
   "cell_type": "code",
   "execution_count": 6,
   "metadata": {
    "scrolled": true
   },
   "outputs": [
    {
     "name": "stderr",
     "output_type": "stream",
     "text": [
      "09:57 madminer.core.madmin INFO    Optimizing basis for morphing\n",
      "09:57 madminer.core.madmin INFO    Set up morphing with 2 parameters, 6 morphing components, 5 predefined basis points, and 1 new basis points\n"
     ]
    }
   ],
   "source": [
    "miner.set_morphing(include_existing_benchmarks=True, max_overall_power=2)"
   ]
  },
  {
   "cell_type": "markdown",
   "metadata": {},
   "source": [
    "Let's have a look at the resulting morphing basis and the \"morphing error\", i.e. the sum of squared morphing weights as a function of the parameter space. The black dots mark the benchmarks at which the squared matrix element will be evaluated when MadGraph is run. In between them, the morphing will interpolate. Since the morphing knows about the functional form of the amplitudes, there is only a small numerical uncertainty in this interpolation, we expect that the color in this plot is indicative of this uncertainty."
   ]
  },
  {
   "cell_type": "code",
   "execution_count": 7,
   "metadata": {},
   "outputs": [
    {
     "data": {
      "image/png": "[encoded data removed]",
      "text/plain": [
       "<Figure size 468x360 with 2 Axes>"
      ]
     },
     "metadata": {
      "needs_background": "light"
     },
     "output_type": "display_data"
    }
   ],
   "source": [
    "fig = plot_2d_morphing_basis(\n",
    "    miner.morpher,\n",
    "    xlabel=r\"$c_{tG} / \\Lambda^2$\",\n",
    "    ylabel=r\"$c_{tGI} / \\Lambda^2$\",\n",
    "    xrange=(-20.0, 20.0),\n",
    "    yrange=(-20.0, 20.0),\n",
    ")"
   ]
  },
  {
   "cell_type": "markdown",
   "metadata": {},
   "source": [
    "Note that squared weights (the colormap here) up to 1000 or even 10000 can still be perfectly fine and are in fact sometimes unavoidable."
   ]
  },
  {
   "cell_type": "markdown",
   "metadata": {},
   "source": [
    "## 5. Save setup"
   ]
  },
  {
   "cell_type": "markdown",
   "metadata": {},
   "source": [
    "The parameter space, benchmark points, and morphing setup are saved in a HDF5 file:"
   ]
  },
  {
   "cell_type": "code",
   "execution_count": 8,
   "metadata": {},
   "outputs": [
    {
     "name": "stderr",
     "output_type": "stream",
     "text": [
      "09:57 madminer.core.madmin INFO    Saving setup (including morphing) to data/setupSMEFTsim-ctG-ctu8.h5\n"
     ]
    }
   ],
   "source": [
    "miner.save(\"data/setupSMEFTsim-ctG-ctu8.h5\")"
   ]
  },
  {
   "cell_type": "markdown",
   "metadata": {},
   "source": [
    "They can now be loaded again with `miner.load(filename)`."
   ]
  },
  {
   "cell_type": "markdown",
   "metadata": {},
   "source": [
    "That's it for the setup (we'll only add one step when talking about systematic uncertainties in part 5 of the tutorial). Please continue with part 2a **or** part 2b, depending on whether you want to run the faster parton-level analysis or the more realistic Delphes-level analysis."
   ]
  },
  {
   "cell_type": "code",
   "execution_count": 44,
   "metadata": {},
   "outputs": [
    {
     "data": {
      "text/plain": [
       "<KeysViewHDF5 ['benchmarks', 'morphing', 'parameters']>"
      ]
     },
     "execution_count": 44,
     "metadata": {},
     "output_type": "execute_result"
    }
   ],
   "source": [
    "import h5py\n",
    "import numpy as np\n",
    "import pandas as pd\n",
    "setupfile = \"data/setupSMEFTsim-ctG-ctu8.h5\"\n",
    "f = h5py.File(setupfile)\n",
    "f.keys()"
   ]
  },
  {
   "cell_type": "code",
   "execution_count": 72,
   "metadata": {},
   "outputs": [
    {
     "name": "stdout",
     "output_type": "stream",
     "text": [
      "['is_nuisance' 'is_reference' 'names' 'values']\n"
     ]
    }
   ],
   "source": [
    "print(np.array(f['benchmarks']))\n"
   ]
  },
  {
   "cell_type": "code",
   "execution_count": 81,
   "metadata": {},
   "outputs": [
    {
     "name": "stdout",
     "output_type": "stream",
     "text": [
      "--------------------------------------------------------------\n",
      "benchmarks:\n",
      "is_nuisance: [0 0 0 0 0 0]\n",
      "is_reference: [0 0 0 0 0 0]\n",
      "names: [b'sm' b'ctG' b'neg_ctG' b'ctu8' b'neg_ctu8' b'morphing_basis_vector_5']\n",
      "values: [[  0.           0.        ]\n",
      " [ 15.2          0.1       ]\n",
      " [-15.4          0.2       ]\n",
      " [  0.3         15.1       ]\n",
      " [  0.4        -15.3       ]\n",
      " [-13.58569817 -17.14717368]]\n",
      "--------------------------------------------------------------\n",
      "morphing:\n",
      "components: [[0 0]\n",
      " [0 1]\n",
      " [0 2]\n",
      " [1 0]\n",
      " [1 1]\n",
      " [2 0]]\n",
      "morphing_matrix: [[ 1.00000000e+00  0.00000000e+00  0.00000000e+00  0.00000000e+00\n",
      "   0.00000000e+00  0.00000000e+00]\n",
      " [-2.36814483e-03  2.82383283e-06  1.12806465e-03  3.34223449e-02\n",
      "  -3.07424287e-02 -1.44265985e-03]\n",
      " [-4.30986452e-03 -5.02620312e-05  3.54252409e-05  2.17738918e-03\n",
      "   2.13282518e-03  1.44869437e-05]\n",
      " [-1.50317015e-03  3.30666097e-02 -3.17303096e-02  1.46215547e-04\n",
      "   6.41906078e-04 -6.21251606e-04]\n",
      " [ 4.25721864e-03  2.87867437e-04 -3.48386049e-03 -2.61756604e-04\n",
      "  -4.92001565e-03  4.12054667e-03]\n",
      " [-4.25615856e-03  2.15092708e-03  2.10995072e-03 -2.24576465e-05\n",
      "   3.35165344e-06  1.43867494e-05]]\n",
      "--------------------------------------------------------------\n",
      "parameters:\n",
      "lha_blocks: [b'SMEFT' b'SMEFT']\n",
      "lha_ids: [15 50]\n",
      "max_power: [2 2]\n",
      "names: [b'ctGRe' b'ctu8']\n",
      "transforms: [b'1.0*theta' b'1.0*theta']\n",
      "val_ranges: [[-20.  20.]\n",
      " [-20.  20.]]\n"
     ]
    }
   ],
   "source": [
    "for key in f.keys():\n",
    "    print(\"--------------------------------------------------------------\")\n",
    "    print(key+\":\")\n",
    "    for string in np.array(f[key]):\n",
    "        print(string +\":\", np.array(f[key][string]))\n",
    "    print"
   ]
  },
  {
   "cell_type": "code",
   "execution_count": null,
   "metadata": {},
   "outputs": [],
   "source": []
  }
 ],
 "metadata": {
  "kernelspec": {
   "display_name": "Python 3",
   "language": "python",
   "name": "python3"
  },
  "language_info": {
   "codemirror_mode": {
    "name": "ipython",
    "version": 3
   },
   "file_extension": ".py",
   "mimetype": "text/x-python",
   "name": "python",
   "nbconvert_exporter": "python",
   "pygments_lexer": "ipython3",
   "version": "3.7.13"
  }
 },
 "nbformat": 4,
 "nbformat_minor": 2
}
