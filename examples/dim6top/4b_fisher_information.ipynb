{
 "cells": [
  {
   "cell_type": "markdown",
   "metadata": {},
   "source": [
    "# MadMiner physics tutorial (part 4B)\n",
    "\n",
    "Johann Brehmer, Felix Kling, Irina Espejo, and Kyle Cranmer 2018-2019"
   ]
  },
  {
   "cell_type": "markdown",
   "metadata": {},
   "source": [
    "## 0. Preparations"
   ]
  },
  {
   "cell_type": "code",
   "execution_count": 1,
   "metadata": {},
   "outputs": [],
   "source": [
    "import logging\n",
    "\n",
    "from madminer.fisherinformation import FisherInformation\n",
    "from madminer.plotting import plot_fisher_information_contours_2d"
   ]
  },
  {
   "cell_type": "code",
   "execution_count": 2,
   "metadata": {},
   "outputs": [],
   "source": [
    "# MadMiner output\n",
    "logging.basicConfig(\n",
    "    format=\"%(asctime)-5.5s %(name)-20.20s %(levelname)-7.7s %(message)s\",\n",
    "    datefmt=\"%H:%M\",\n",
    "    level=logging.INFO,\n",
    ")\n",
    "\n",
    "# Output of all other modules (e.g. matplotlib)\n",
    "for key in logging.Logger.manager.loggerDict:\n",
    "    if \"madminer\" not in key:\n",
    "        logging.getLogger(key).setLevel(logging.WARNING)"
   ]
  },
  {
   "cell_type": "markdown",
   "metadata": {},
   "source": [
    "## 1. Calculating the Fisher information from a SALLY model"
   ]
  },
  {
   "cell_type": "markdown",
   "metadata": {},
   "source": [
    "We can use SALLY estimators (see part 3b of this tutorial) not just to define optimal observables, but also to calculate the (expected) Fisher information in a process. In `madminer.fisherinformation` we provide the `FisherInformation` class that makes this more convenient."
   ]
  },
  {
   "cell_type": "code",
   "execution_count": 3,
   "metadata": {},
   "outputs": [
    {
     "name": "stderr",
     "output_type": "stream",
     "text": [
      "17:00 madminer.analysis.da INFO    Loading data from data/lhe_data_shuffled.h5\n",
      "17:00 madminer.utils.inter ERROR   HDF5 file does not contain nuisance parameters information\n",
      "17:00 madminer.utils.inter ERROR   HDF5 file does not contain finite difference information\n",
      "17:00 madminer.utils.inter ERROR   HDF5 file does not contain systematic information\n",
      "17:00 madminer.analysis.da INFO    Found 2 parameters\n",
      "17:00 madminer.analysis.da INFO      0: CWL2 (LHA: dim6 2, Power: 2, Range: (-20.0, 20.0))\n",
      "17:00 madminer.analysis.da INFO      1: CPWL2 (LHA: dim6 5, Power: 2, Range: (-20.0, 20.0))\n",
      "17:00 madminer.analysis.da INFO    Did not find nuisance parameters\n",
      "17:00 madminer.analysis.da INFO    Found 6 benchmarks\n",
      "17:00 madminer.analysis.da INFO    Found 3 observables\n",
      "17:00 madminer.analysis.da INFO    Found 119750 events\n",
      "17:00 madminer.analysis.da INFO      49987 signal events sampled from benchmark sm\n",
      "17:00 madminer.analysis.da INFO      10000 signal events sampled from benchmark w\n",
      "17:00 madminer.analysis.da INFO      10000 signal events sampled from benchmark neg_w\n",
      "17:00 madminer.analysis.da INFO      9999 signal events sampled from benchmark ww\n",
      "17:00 madminer.analysis.da INFO      10000 signal events sampled from benchmark neg_ww\n",
      "17:00 madminer.analysis.da INFO      0 signal events sampled from benchmark morphing_basis_vector_5\n",
      "17:00 madminer.analysis.da INFO      29764 background events\n",
      "17:00 madminer.analysis.da INFO    Found morphing setup with 6 components\n",
      "17:00 madminer.analysis.da INFO    Did not find nuisance morphing setup\n"
     ]
    }
   ],
   "source": [
    "fisher = FisherInformation(\"data/lhe_data_shuffled.h5\")\n",
    "# fisher = FisherInformation('data/delphes_data_shuffled.h5')"
   ]
  },
  {
   "cell_type": "markdown",
   "metadata": {},
   "source": [
    "This class provides different functions:\n",
    "- `rate_information()` calculates the Fisher information in total rates,\n",
    "- `histo_information()` calculates the Fisher information in 1D histograms,\n",
    "- `histo_information_2d()` calculates the Fisher information in 2D histograms,\n",
    "- `full_information()` calculates the full detector-level Fisher information using a SALLY estimator, and\n",
    "- `truth_information()` calculates the truth-level Fisher information.\n",
    "\n",
    "Here we use the SALLY approach:"
   ]
  },
  {
   "cell_type": "code",
   "execution_count": 4,
   "metadata": {},
   "outputs": [
    {
     "name": "stderr",
     "output_type": "stream",
     "text": [
      "17:00 madminer.ml.base     INFO    Loading model from models/sally\n",
      "17:00 madminer.fisherinfor INFO    Found 2 parameters in Score Estimator model, matching 2 physical parameters in MadMiner file\n",
      "17:00 madminer.fisherinfor INFO    Evaluating rate Fisher information\n",
      "17:00 madminer.fisherinfor INFO    Evaluating kinematic Fisher information on batch 1 / 1\n",
      "17:00 madminer.ml.base     INFO    Loading evaluation data\n",
      "17:00 madminer.ml.base     INFO    Calculating Fisher information\n"
     ]
    },
    {
     "name": "stdout",
     "output_type": "stream",
     "text": [
      "Fisher information after 300 ifb:\n",
      "[[77.59920987  2.08284195]\n",
      " [ 2.08284195 17.10510623]]\n"
     ]
    }
   ],
   "source": [
    "info_sally, _ = fisher.full_information(\n",
    "    theta=[0.0, 0.0],\n",
    "    model_file=\"models/sally\",\n",
    "    luminosity=300.0 * 1000.0,\n",
    ")\n",
    "\n",
    "print(\"Fisher information after 300 ifb:\\n{}\".format(info_sally))"
   ]
  },
  {
   "cell_type": "markdown",
   "metadata": {},
   "source": [
    "For comparison, we can calculate the Fisher information in the histogram of observables:"
   ]
  },
  {
   "cell_type": "code",
   "execution_count": 6,
   "metadata": {},
   "outputs": [
    {
     "name": "stderr",
     "output_type": "stream",
     "text": [
      "17:00 madminer.fisherinfor INFO    Bins with largest statistical uncertainties on rates:\n",
      "17:00 madminer.fisherinfor INFO      Bin 5: (0.21360 +/- 0.00999) fb (5 %)\n",
      "17:00 madminer.fisherinfor INFO      Bin 1: (0.65462 +/- 0.01781) fb (3 %)\n",
      "17:00 madminer.fisherinfor INFO      Bin 4: (1.43141 +/- 0.02562) fb (2 %)\n",
      "17:00 madminer.fisherinfor INFO      Bin 3: (4.26209 +/- 0.04397) fb (1 %)\n",
      "17:00 madminer.fisherinfor INFO      Bin 2: (8.78770 +/- 0.06473) fb (1 %)\n"
     ]
    },
    {
     "ename": "AttributeError",
     "evalue": "'NoneType' object has no attribute 'calculate_a'",
     "output_type": "error",
     "traceback": [
      "\u001b[0;31m---------------------------------------------------------------------------\u001b[0m",
      "\u001b[0;31mAttributeError\u001b[0m                            Traceback (most recent call last)",
      "\u001b[0;32m/var/folders/d0/2lg4psxs5x92hbhsm7q4cqw80000gn/T/ipykernel_49800/54343440.py\u001b[0m in \u001b[0;36m<module>\u001b[0;34m\u001b[0m\n\u001b[1;32m      4\u001b[0m     \u001b[0mobservable\u001b[0m\u001b[0;34m=\u001b[0m\u001b[0;34m\"pt_j1\"\u001b[0m\u001b[0;34m,\u001b[0m\u001b[0;34m\u001b[0m\u001b[0;34m\u001b[0m\u001b[0m\n\u001b[1;32m      5\u001b[0m     \u001b[0mbins\u001b[0m\u001b[0;34m=\u001b[0m\u001b[0;34m[\u001b[0m\u001b[0;36m30.0\u001b[0m\u001b[0;34m,\u001b[0m \u001b[0;36m100.0\u001b[0m\u001b[0;34m,\u001b[0m \u001b[0;36m200.0\u001b[0m\u001b[0;34m,\u001b[0m \u001b[0;36m400.0\u001b[0m\u001b[0;34m]\u001b[0m\u001b[0;34m,\u001b[0m\u001b[0;34m\u001b[0m\u001b[0;34m\u001b[0m\u001b[0m\n\u001b[0;32m----> 6\u001b[0;31m     \u001b[0mhistrange\u001b[0m\u001b[0;34m=\u001b[0m\u001b[0;34m[\u001b[0m\u001b[0;36m30.0\u001b[0m\u001b[0;34m,\u001b[0m \u001b[0;36m400.0\u001b[0m\u001b[0;34m]\u001b[0m\u001b[0;34m,\u001b[0m\u001b[0;34m\u001b[0m\u001b[0;34m\u001b[0m\u001b[0m\n\u001b[0m\u001b[1;32m      7\u001b[0m )\n\u001b[1;32m      8\u001b[0m \u001b[0;34m\u001b[0m\u001b[0m\n",
      "\u001b[0;32m~/work/madminer/madminer/fisherinformation/information.py\u001b[0m in \u001b[0;36mhisto_information\u001b[0;34m(self, theta, luminosity, observable, bins, histrange, cuts, efficiency_functions, n_events_dynamic_binning)\u001b[0m\n\u001b[1;32m    562\u001b[0m             \u001b[0msum_events\u001b[0m\u001b[0;34m=\u001b[0m\u001b[0;32mTrue\u001b[0m\u001b[0;34m,\u001b[0m\u001b[0;34m\u001b[0m\u001b[0;34m\u001b[0m\u001b[0m\n\u001b[1;32m    563\u001b[0m             \u001b[0mweights_benchmark_uncertainties\u001b[0m\u001b[0;34m=\u001b[0m\u001b[0mweights_benchmark_uncertainties\u001b[0m\u001b[0;34m,\u001b[0m\u001b[0;34m\u001b[0m\u001b[0;34m\u001b[0m\u001b[0m\n\u001b[0;32m--> 564\u001b[0;31m             \u001b[0mcalculate_uncertainty\u001b[0m\u001b[0;34m=\u001b[0m\u001b[0;32mTrue\u001b[0m\u001b[0;34m,\u001b[0m\u001b[0;34m\u001b[0m\u001b[0;34m\u001b[0m\u001b[0m\n\u001b[0m\u001b[1;32m    565\u001b[0m         )\n\u001b[1;32m    566\u001b[0m         \u001b[0;32mreturn\u001b[0m \u001b[0mfisher_info\u001b[0m\u001b[0;34m,\u001b[0m \u001b[0mcovariance\u001b[0m\u001b[0;34m\u001b[0m\u001b[0;34m\u001b[0m\u001b[0m\n",
      "\u001b[0;32m~/work/madminer/madminer/fisherinformation/information.py\u001b[0m in \u001b[0;36m_calculate_fisher_information\u001b[0;34m(self, theta, weights_benchmarks, luminosity, include_nuisance_parameters, sum_events, calculate_uncertainty, weights_benchmark_uncertainties)\u001b[0m\n\u001b[1;32m   1229\u001b[0m         \u001b[0;31m# Nuisance parameter Fisher info\u001b[0m\u001b[0;34m\u001b[0m\u001b[0;34m\u001b[0m\u001b[0;34m\u001b[0m\u001b[0m\n\u001b[1;32m   1230\u001b[0m         \u001b[0;32mif\u001b[0m \u001b[0minclude_nuisance_parameters\u001b[0m\u001b[0;34m:\u001b[0m\u001b[0;34m\u001b[0m\u001b[0;34m\u001b[0m\u001b[0m\n\u001b[0;32m-> 1231\u001b[0;31m             \u001b[0mnuisance_a\u001b[0m \u001b[0;34m=\u001b[0m \u001b[0mself\u001b[0m\u001b[0;34m.\u001b[0m\u001b[0mnuisance_morpher\u001b[0m\u001b[0;34m.\u001b[0m\u001b[0mcalculate_a\u001b[0m\u001b[0;34m(\u001b[0m\u001b[0mweights_benchmarks\u001b[0m\u001b[0;34m)\u001b[0m  \u001b[0;31m# Shape (n_nuisance_params, n_events)\u001b[0m\u001b[0;34m\u001b[0m\u001b[0;34m\u001b[0m\u001b[0m\n\u001b[0m\u001b[1;32m   1232\u001b[0m             \u001b[0;31m# grad_i dsigma(x), where i is a nuisance parameter, is given by\u001b[0m\u001b[0;34m\u001b[0m\u001b[0;34m\u001b[0m\u001b[0;34m\u001b[0m\u001b[0m\n\u001b[1;32m   1233\u001b[0m             \u001b[0;31m# sigma[np.newaxis, :] * a\u001b[0m\u001b[0;34m\u001b[0m\u001b[0;34m\u001b[0m\u001b[0;34m\u001b[0m\u001b[0m\n",
      "\u001b[0;31mAttributeError\u001b[0m: 'NoneType' object has no attribute 'calculate_a'"
     ]
    }
   ],
   "source": [
    "info_histo_1d, cov_histo_1d = fisher.histo_information(\n",
    "    theta=[0.0, 0.0],\n",
    "    luminosity=300.0 * 1000.0,\n",
    "    observable=\"pt_j1\",\n",
    "    bins=[30.0, 100.0, 200.0, 400.0],\n",
    "    histrange=[30.0, 400.0],\n",
    ")\n",
    "\n",
    "print(\"Histogram Fisher information after 300 ifb:\\n{}\".format(info_histo_1d))"
   ]
  },
  {
   "cell_type": "markdown",
   "metadata": {},
   "source": [
    "We can do the same thing in 2D:"
   ]
  },
  {
   "cell_type": "code",
   "execution_count": 7,
   "metadata": {},
   "outputs": [
    {
     "name": "stderr",
     "output_type": "stream",
     "text": [
      "17:00 madminer.fisherinfor INFO    Bins with largest statistical uncertainties on rates:\n",
      "17:00 madminer.fisherinfor INFO      Bin (5, 2): (0.00376 +/- 0.00118) fb (31 %)\n",
      "17:00 madminer.fisherinfor INFO      Bin (5, 3): (0.00705 +/- 0.00167) fb (24 %)\n",
      "17:00 madminer.fisherinfor INFO      Bin (4, 2): (0.03723 +/- 0.00365) fb (10 %)\n",
      "17:00 madminer.fisherinfor INFO      Bin (1, 2): (0.06269 +/- 0.00541) fb (9 %)\n",
      "17:00 madminer.fisherinfor INFO      Bin (5, 4): (0.09857 +/- 0.00686) fb (7 %)\n",
      "/Users/zimermma/work/madminer/madminer/fisherinformation/information.py:1223: RuntimeWarning: divide by zero encountered in true_divide\n",
      "  inv_sigma = sanitize_array(1.0 / sigma)  # Shape (n_events,)\n"
     ]
    },
    {
     "ename": "AttributeError",
     "evalue": "'NoneType' object has no attribute 'calculate_a'",
     "output_type": "error",
     "traceback": [
      "\u001b[0;31m---------------------------------------------------------------------------\u001b[0m",
      "\u001b[0;31mAttributeError\u001b[0m                            Traceback (most recent call last)",
      "\u001b[0;32m/var/folders/d0/2lg4psxs5x92hbhsm7q4cqw80000gn/T/ipykernel_49800/468802286.py\u001b[0m in \u001b[0;36m<module>\u001b[0;34m\u001b[0m\n\u001b[1;32m      7\u001b[0m     \u001b[0mobservable2\u001b[0m\u001b[0;34m=\u001b[0m\u001b[0;34m\"delta_phi_jj\"\u001b[0m\u001b[0;34m,\u001b[0m\u001b[0;34m\u001b[0m\u001b[0;34m\u001b[0m\u001b[0m\n\u001b[1;32m      8\u001b[0m     \u001b[0mbins2\u001b[0m\u001b[0;34m=\u001b[0m\u001b[0;36m5\u001b[0m\u001b[0;34m,\u001b[0m\u001b[0;34m\u001b[0m\u001b[0;34m\u001b[0m\u001b[0m\n\u001b[0;32m----> 9\u001b[0;31m     \u001b[0mhistrange2\u001b[0m\u001b[0;34m=\u001b[0m\u001b[0;34m[\u001b[0m\u001b[0;36m0\u001b[0m\u001b[0;34m,\u001b[0m \u001b[0;36m6.2\u001b[0m\u001b[0;34m]\u001b[0m\u001b[0;34m,\u001b[0m\u001b[0;34m\u001b[0m\u001b[0;34m\u001b[0m\u001b[0m\n\u001b[0m\u001b[1;32m     10\u001b[0m )\n\u001b[1;32m     11\u001b[0m \u001b[0;34m\u001b[0m\u001b[0m\n",
      "\u001b[0;32m~/work/madminer/madminer/fisherinformation/information.py\u001b[0m in \u001b[0;36mhisto_information_2d\u001b[0;34m(self, theta, luminosity, observable1, bins1, observable2, bins2, histrange1, histrange2, cuts, efficiency_functions, n_events_dynamic_binning)\u001b[0m\n\u001b[1;32m    727\u001b[0m             \u001b[0msum_events\u001b[0m\u001b[0;34m=\u001b[0m\u001b[0;32mTrue\u001b[0m\u001b[0;34m,\u001b[0m\u001b[0;34m\u001b[0m\u001b[0;34m\u001b[0m\u001b[0m\n\u001b[1;32m    728\u001b[0m             \u001b[0mweights_benchmark_uncertainties\u001b[0m\u001b[0;34m=\u001b[0m\u001b[0mweights_benchmark_uncertainties\u001b[0m\u001b[0;34m,\u001b[0m\u001b[0;34m\u001b[0m\u001b[0;34m\u001b[0m\u001b[0m\n\u001b[0;32m--> 729\u001b[0;31m             \u001b[0mcalculate_uncertainty\u001b[0m\u001b[0;34m=\u001b[0m\u001b[0;32mTrue\u001b[0m\u001b[0;34m,\u001b[0m\u001b[0;34m\u001b[0m\u001b[0;34m\u001b[0m\u001b[0m\n\u001b[0m\u001b[1;32m    730\u001b[0m         )\n\u001b[1;32m    731\u001b[0m \u001b[0;34m\u001b[0m\u001b[0m\n",
      "\u001b[0;32m~/work/madminer/madminer/fisherinformation/information.py\u001b[0m in \u001b[0;36m_calculate_fisher_information\u001b[0;34m(self, theta, weights_benchmarks, luminosity, include_nuisance_parameters, sum_events, calculate_uncertainty, weights_benchmark_uncertainties)\u001b[0m\n\u001b[1;32m   1229\u001b[0m         \u001b[0;31m# Nuisance parameter Fisher info\u001b[0m\u001b[0;34m\u001b[0m\u001b[0;34m\u001b[0m\u001b[0;34m\u001b[0m\u001b[0m\n\u001b[1;32m   1230\u001b[0m         \u001b[0;32mif\u001b[0m \u001b[0minclude_nuisance_parameters\u001b[0m\u001b[0;34m:\u001b[0m\u001b[0;34m\u001b[0m\u001b[0;34m\u001b[0m\u001b[0m\n\u001b[0;32m-> 1231\u001b[0;31m             \u001b[0mnuisance_a\u001b[0m \u001b[0;34m=\u001b[0m \u001b[0mself\u001b[0m\u001b[0;34m.\u001b[0m\u001b[0mnuisance_morpher\u001b[0m\u001b[0;34m.\u001b[0m\u001b[0mcalculate_a\u001b[0m\u001b[0;34m(\u001b[0m\u001b[0mweights_benchmarks\u001b[0m\u001b[0;34m)\u001b[0m  \u001b[0;31m# Shape (n_nuisance_params, n_events)\u001b[0m\u001b[0;34m\u001b[0m\u001b[0;34m\u001b[0m\u001b[0m\n\u001b[0m\u001b[1;32m   1232\u001b[0m             \u001b[0;31m# grad_i dsigma(x), where i is a nuisance parameter, is given by\u001b[0m\u001b[0;34m\u001b[0m\u001b[0;34m\u001b[0m\u001b[0;34m\u001b[0m\u001b[0m\n\u001b[1;32m   1233\u001b[0m             \u001b[0;31m# sigma[np.newaxis, :] * a\u001b[0m\u001b[0;34m\u001b[0m\u001b[0;34m\u001b[0m\u001b[0;34m\u001b[0m\u001b[0m\n",
      "\u001b[0;31mAttributeError\u001b[0m: 'NoneType' object has no attribute 'calculate_a'"
     ]
    }
   ],
   "source": [
    "info_histo_2d, cov_histo_2d = fisher.histo_information_2d(\n",
    "    theta=[0.0, 0.0],\n",
    "    luminosity=300.0 * 1000.0,\n",
    "    observable1=\"pt_j1\",\n",
    "    bins1=[30.0, 100.0, 200.0, 400.0],\n",
    "    histrange1=[30.0, 400.0],\n",
    "    observable2=\"delta_phi_jj\",\n",
    "    bins2=5,\n",
    "    histrange2=[0, 6.2],\n",
    ")\n",
    "\n",
    "print(\"Histogram Fisher information after 300 ifb:\\n{}\".format(info_histo_2d))"
   ]
  },
  {
   "cell_type": "markdown",
   "metadata": {},
   "source": [
    "## 2. Calculating the Fisher information from a SALLY model"
   ]
  },
  {
   "cell_type": "markdown",
   "metadata": {},
   "source": [
    "We can also calculate the Fisher Information using an ALICES model"
   ]
  },
  {
   "cell_type": "code",
   "execution_count": null,
   "metadata": {},
   "outputs": [],
   "source": [
    "info_alices, _ = fisher.full_information(\n",
    "    theta=[0.0, 0.0],\n",
    "    model_file=\"models/alices\",\n",
    "    luminosity=300.0 * 1000.0,\n",
    ")\n",
    "\n",
    "print(\"Fisher information using ALICES after 300 ifb:\\n{}\".format(info_alices))"
   ]
  },
  {
   "cell_type": "markdown",
   "metadata": {},
   "source": [
    "## 3. Plot Fisher distances"
   ]
  },
  {
   "cell_type": "markdown",
   "metadata": {},
   "source": [
    "We also provide a convenience function to plot contours of constant Fisher distance `d^2(theta, theta_ref) = I_ij(theta_ref) * (theta-theta_ref)_i * (theta-theta_ref)_j`:"
   ]
  },
  {
   "cell_type": "code",
   "execution_count": null,
   "metadata": {},
   "outputs": [],
   "source": [
    "_ = plot_fisher_information_contours_2d(\n",
    "    [info_sally, info_histo_1d, info_histo_2d, info_alices],\n",
    "    [None, cov_histo_1d, cov_histo_2d, None],\n",
    "    inline_labels=[\"SALLY\", \"1d\", \"2d\", \"ALICES\"],\n",
    "    xrange=(-0.3, 0.3),\n",
    "    yrange=(-0.3, 0.3),\n",
    ")"
   ]
  },
  {
   "cell_type": "code",
   "execution_count": null,
   "metadata": {},
   "outputs": [],
   "source": []
  }
 ],
 "metadata": {
  "kernelspec": {
   "display_name": "Python 3 (ipykernel)",
   "language": "python",
   "name": "python3"
  },
  "language_info": {
   "codemirror_mode": {
    "name": "ipython",
    "version": 3
   },
   "file_extension": ".py",
   "mimetype": "text/x-python",
   "name": "python",
   "nbconvert_exporter": "python",
   "pygments_lexer": "ipython3",
   "version": "3.7.13"
  }
 },
 "nbformat": 4,
 "nbformat_minor": 2
}
