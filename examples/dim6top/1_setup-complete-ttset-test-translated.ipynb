{
 "cells": [
  {
   "cell_type": "markdown",
   "metadata": {},
   "source": [
    "# MadMiner physics tutorial (part 1)\n",
    "\n",
    "Johann Brehmer, Felix Kling, Irina Espejo, and Kyle Cranmer 2018-2019"
   ]
  },
  {
   "cell_type": "markdown",
   "metadata": {},
   "source": [
    "Welcome to the MadMiner particle-physics tutorial! It consists of six numbered notebooks. They build on each other, so please go through them in the right order, starting with this notebook.\n",
    "\n",
    "In this first part, we'll show how to set up the parameter space and define a morphing setups -- typically the first steps in a MadMiner analysis.\n",
    "\n",
    "This tutorial does not try to explain the theory behind the tool. To understand what MadMiner is doing, please have a look at some papers first. In\n",
    "[\"Constraining Effective Field Theories With Machine Learning\"](https://arxiv.org/abs/1805.00013)\n",
    "we explain the basic idea of most of the methods presented here, while [\"A Guide to Constraining Effective Field Theories With Machine Learning\"](https://arxiv.org/abs/1805.00020) is an extensive 65-page handbook going through the details."
   ]
  },
  {
   "cell_type": "markdown",
   "metadata": {},
   "source": [
    "## 0. Preparations"
   ]
  },
  {
   "cell_type": "code",
   "execution_count": 1,
   "metadata": {},
   "outputs": [],
   "source": [
    "import logging"
   ]
  },
  {
   "cell_type": "markdown",
   "metadata": {},
   "source": [
    "MadMiner uses the Python `logging` module to provide additional information and debugging output. You can choose how much of this output you want to see by switching the level in the following lines to `logging.DEBUG` or `logging.WARNING`."
   ]
  },
  {
   "cell_type": "code",
   "execution_count": 2,
   "metadata": {},
   "outputs": [],
   "source": [
    "# MadMiner output\n",
    "logging.basicConfig(\n",
    "    format=\"%(asctime)-5.5s %(name)-20.20s %(levelname)-7.7s %(message)s\",\n",
    "    datefmt=\"%H:%M\",\n",
    "    level=logging.INFO,\n",
    ")\n",
    "\n",
    "# Output of all other modules (e.g. matplotlib)\n",
    "for key in logging.Logger.manager.loggerDict:\n",
    "    if \"madminer\" not in key:\n",
    "        logging.getLogger(key).setLevel(logging.WARNING)"
   ]
  },
  {
   "cell_type": "code",
   "execution_count": 3,
   "metadata": {},
   "outputs": [],
   "source": [
    "from madminer import MadMiner, plot_2d_morphing_basis, plot_nd_morphing_basis_scatter, plot_nd_morphing_basis_slices"
   ]
  },
  {
   "cell_type": "markdown",
   "metadata": {},
   "source": [
    "## 1. Input data"
   ]
  },
  {
   "cell_type": "markdown",
   "metadata": {},
   "source": [
    "As an example process, we'll simulate VBF Higgs production with a decay into two photons. We'll try to measure two EFT coefficients that affect this process.\n",
    "\n",
    "Have a look at the `cards` folder. You'll find text files (\"cards\") that specify the process simulation in typical MadGraph convention."
   ]
  },
  {
   "cell_type": "markdown",
   "metadata": {},
   "source": [
    "## 2. Define parameter space"
   ]
  },
  {
   "cell_type": "markdown",
   "metadata": {},
   "source": [
    "After creating a `MadMiner` instance, the first important step is the definition of the parameter space. Each model parameter is characterized by a name as well as the LHA block and ID.\n",
    "\n",
    "If morphing is used, one also has to specify the maximal power with which the parameter contributes to the squared matrix element. For instance, a parameter that contributes only to one vertex, will typically have `morphing_max_power=2`, while a parameter that contributes to two vertices usually has `morphing_max_power=4`. Exceptions arise for instance when the interference effects between the SM and dimension-six operators are modelled, but the square of the dimension-six amplitude (subleading in 1/Lambda) is not taken into account, in which case `morphing_max_power=1`. The `parameter_range` argument defines the range of parameter values that are used for the automatic optimization of the morphing basis.\n",
    "\n",
    "Finally, the parameter values theta used internally by MadMiner and the parameter values written to the param_card (or reweight_card) given to MadGraph do not have to be exactly the same. With the option `parm_card_transform`, the user can supply a one-parameter function that maps a parameter value theta to the value given to MadGraph. This string is a python expression, in which `theta` is parsed as the parameter value. For instance, if the internal parameters are in the range (0, 1), but should be linearly scaled to (0, 100) in the param_card, one would have to use `param_card_transform=\"100*theta\"`."
   ]
  },
  {
   "cell_type": "code",
   "execution_count": 4,
   "metadata": {},
   "outputs": [
    {
     "name": "stderr",
     "output_type": "stream",
     "text": [
      "16:48 madminer.core.madmin INFO    Adding parameter: ctG (LHA: DIM6 16, Power: 2, Range: (-2.0, 2.0))\n",
      "16:48 madminer.core.madmin WARNING Resetting benchmarks and morphing\n",
      "16:48 madminer.core.madmin INFO    Adding parameter: ctGI (LHA: DIM6 17, Power: 2, Range: (-2.0, 2.0))\n",
      "16:48 madminer.core.madmin WARNING Resetting benchmarks and morphing\n",
      "16:48 madminer.core.madmin INFO    Adding parameter: cQq83 (LHA: DIM6 51, Power: 2, Range: (-5.0, 5.0))\n",
      "16:48 madminer.core.madmin WARNING Resetting benchmarks and morphing\n",
      "16:48 madminer.core.madmin INFO    Adding parameter: cQq81 (LHA: DIM6 52, Power: 2, Range: (-5.0, 5.0))\n",
      "16:48 madminer.core.madmin WARNING Resetting benchmarks and morphing\n",
      "16:48 madminer.core.madmin INFO    Adding parameter: cQu8 (LHA: DIM6 53, Power: 2, Range: (-5.0, 5.0))\n",
      "16:48 madminer.core.madmin WARNING Resetting benchmarks and morphing\n",
      "16:48 madminer.core.madmin INFO    Adding parameter: cQd8 (LHA: DIM6 54, Power: 2, Range: (-5.0, 5.0))\n",
      "16:48 madminer.core.madmin WARNING Resetting benchmarks and morphing\n",
      "16:48 madminer.core.madmin INFO    Adding parameter: ctq8 (LHA: DIM6 55, Power: 2, Range: (-5.0, 5.0))\n",
      "16:48 madminer.core.madmin WARNING Resetting benchmarks and morphing\n",
      "16:48 madminer.core.madmin INFO    Adding parameter: ctu8 (LHA: DIM6 56, Power: 2, Range: (-5.0, 5.0))\n",
      "16:48 madminer.core.madmin WARNING Resetting benchmarks and morphing\n",
      "16:48 madminer.core.madmin INFO    Adding parameter: ctd8 (LHA: DIM6 57, Power: 2, Range: (-5.0, 5.0))\n",
      "16:48 madminer.core.madmin WARNING Resetting benchmarks and morphing\n"
     ]
    }
   ],
   "source": [
    "miner = MadMiner()\n",
    "miner.add_parameter(\n",
    "    lha_block=\"DIM6\",\n",
    "    lha_id=16,\n",
    "    parameter_name=\"ctG\",\n",
    "    morphing_max_power=2,\n",
    "    param_card_transform=\"1*theta\",\n",
    "    parameter_range=(-2.0, 2.0),\n",
    ")\n",
    "miner.add_parameter(\n",
    "    lha_block=\"DIM6\",\n",
    "    lha_id=17,\n",
    "    parameter_name=\"ctGI\",\n",
    "    morphing_max_power=2,\n",
    "    param_card_transform=\"1*theta\",\n",
    "    parameter_range=(-2.0, 2.0),\n",
    ")\n",
    "miner.add_parameter(\n",
    "    lha_block=\"DIM6\",\n",
    "    lha_id=51,\n",
    "    parameter_name=\"cQq83\",\n",
    "    morphing_max_power=2,\n",
    "    param_card_transform=\"1*theta\",\n",
    "    parameter_range=(-5.0, 5.0),\n",
    ")\n",
    "miner.add_parameter(\n",
    "    lha_block=\"DIM6\",\n",
    "    lha_id=52,\n",
    "    parameter_name=\"cQq81\",\n",
    "    morphing_max_power=2,\n",
    "    param_card_transform=\"1*theta\",\n",
    "    parameter_range=(-5.0, 5.0),\n",
    ")\n",
    "miner.add_parameter(\n",
    "    lha_block=\"DIM6\",\n",
    "    lha_id=53,\n",
    "    parameter_name=\"cQu8\",\n",
    "    morphing_max_power=2,\n",
    "    param_card_transform=\"1*theta\",\n",
    "    parameter_range=(-5.0, 5.0),\n",
    ")\n",
    "miner.add_parameter(\n",
    "    lha_block=\"DIM6\",\n",
    "    lha_id=54,\n",
    "    parameter_name=\"cQd8\",\n",
    "    morphing_max_power=2,\n",
    "    param_card_transform=\"1*theta\",\n",
    "    parameter_range=(-5.0, 5.0),\n",
    ")\n",
    "miner.add_parameter(\n",
    "    lha_block=\"DIM6\",\n",
    "    lha_id=55,\n",
    "    parameter_name=\"ctq8\",\n",
    "    morphing_max_power=2,\n",
    "    param_card_transform=\"1*theta\",\n",
    "    parameter_range=(-5.0, 5.0),\n",
    ")\n",
    "miner.add_parameter(\n",
    "    lha_block=\"DIM6\",\n",
    "    lha_id=56,\n",
    "    parameter_name=\"ctu8\",\n",
    "    morphing_max_power=2,\n",
    "    param_card_transform=\"1*theta\",\n",
    "    parameter_range=(-5.0, 5.0),\n",
    ")\n",
    "miner.add_parameter(\n",
    "    lha_block=\"DIM6\",\n",
    "    lha_id=57,\n",
    "    parameter_name=\"ctd8\",\n",
    "    morphing_max_power=2,\n",
    "    param_card_transform=\"1*theta\",\n",
    "    parameter_range=(-5.0, 5.0),\n",
    ")"
   ]
  },
  {
   "cell_type": "markdown",
   "metadata": {},
   "source": [
    "## 3. Define benchmarks manually"
   ]
  },
  {
   "cell_type": "markdown",
   "metadata": {},
   "source": [
    "The next step is the definition of all the points at which the weights (squared matrix elements) should be evaluated by MadGraph. We call these points \"benchmarks\". One can define benchmarks by hand:"
   ]
  },
  {
   "cell_type": "code",
   "execution_count": 5,
   "metadata": {},
   "outputs": [
    {
     "name": "stderr",
     "output_type": "stream",
     "text": [
      "16:48 madminer.core.madmin INFO    Added benchmark sm: ctG = 0.00e+00, ctGI = 0.00e+00, cQq83 = 0.00e+00, cQq81 = 0.00e+00, cQu8 = 0.00e+00, cQd8 = 0.00e+00, ctq8 = 0.00e+00, ctu8 = 0.00e+00, ctd8 = 0.00e+00\n",
      "16:48 madminer.core.madmin INFO    Added benchmark ctG: ctG = 2.00, ctGI = 0.00e+00, cQq83 = 0.00e+00, cQq81 = 0.00e+00, cQu8 = 0.00e+00, cQd8 = 0.00e+00, ctq8 = 0.00e+00, ctu8 = 0.00e+00, ctd8 = 0.00e+00\n",
      "16:48 madminer.core.madmin INFO    Added benchmark neg_ctG: ctG = -2.00e+00, ctGI = 0.00e+00, cQq83 = 0.00e+00, cQq81 = 0.00e+00, cQu8 = 0.00e+00, cQd8 = 0.00e+00, ctq8 = 0.00e+00, ctu8 = 0.00e+00, ctd8 = 0.00e+00\n",
      "16:48 madminer.core.madmin INFO    Added benchmark ctGI: ctG = 0.00e+00, ctGI = 2.00, cQq83 = 0.00e+00, cQq81 = 0.00e+00, cQu8 = 0.00e+00, cQd8 = 0.00e+00, ctq8 = 0.00e+00, ctu8 = 0.00e+00, ctd8 = 0.00e+00\n",
      "16:48 madminer.core.madmin INFO    Added benchmark neg_ctGI: ctG = 0.00e+00, ctGI = -2.00e+00, cQq83 = 0.00e+00, cQq81 = 0.00e+00, cQu8 = 0.00e+00, cQd8 = 0.00e+00, ctq8 = 0.00e+00, ctu8 = 0.00e+00, ctd8 = 0.00e+00\n",
      "16:48 madminer.core.madmin INFO    Added benchmark cQq83: ctG = 0.00e+00, ctGI = 0.00e+00, cQq83 = 5.00, cQq81 = 0.00e+00, cQu8 = 0.00e+00, cQd8 = 0.00e+00, ctq8 = 0.00e+00, ctu8 = 0.00e+00, ctd8 = 0.00e+00\n",
      "16:48 madminer.core.madmin INFO    Added benchmark neg_cQq83: ctG = 0.00e+00, ctGI = 0.00e+00, cQq83 = -5.00e+00, cQq81 = 0.00e+00, cQu8 = 0.00e+00, cQd8 = 0.00e+00, ctq8 = 0.00e+00, ctu8 = 0.00e+00, ctd8 = 0.00e+00\n",
      "16:48 madminer.core.madmin INFO    Added benchmark cQq81: ctG = 0.00e+00, ctGI = 0.00e+00, cQq83 = 0.00e+00, cQq81 = 5.00, cQu8 = 0.00e+00, cQd8 = 0.00e+00, ctq8 = 0.00e+00, ctu8 = 0.00e+00, ctd8 = 0.00e+00\n",
      "16:48 madminer.core.madmin INFO    Added benchmark neg_cQq81: ctG = 0.00e+00, ctGI = 0.00e+00, cQq83 = 0.00e+00, cQq81 = -5.00e+00, cQu8 = 0.00e+00, cQd8 = 0.00e+00, ctq8 = 0.00e+00, ctu8 = 0.00e+00, ctd8 = 0.00e+00\n",
      "16:48 madminer.core.madmin INFO    Added benchmark cQu8: ctG = 0.00e+00, ctGI = 0.00e+00, cQq83 = 0.00e+00, cQq81 = 0.00e+00, cQu8 = 5.00, cQd8 = 0.00e+00, ctq8 = 0.00e+00, ctu8 = 0.00e+00, ctd8 = 0.00e+00\n",
      "16:48 madminer.core.madmin INFO    Added benchmark neg_cQu8: ctG = 0.00e+00, ctGI = 0.00e+00, cQq83 = 0.00e+00, cQq81 = 0.00e+00, cQu8 = -5.00e+00, cQd8 = 0.00e+00, ctq8 = 0.00e+00, ctu8 = 0.00e+00, ctd8 = 0.00e+00\n",
      "16:48 madminer.core.madmin INFO    Added benchmark cQd8: ctG = 0.00e+00, ctGI = 0.00e+00, cQq83 = 0.00e+00, cQq81 = 0.00e+00, cQu8 = 0.00e+00, cQd8 = 5.00, ctq8 = 0.00e+00, ctu8 = 0.00e+00, ctd8 = 0.00e+00\n",
      "16:48 madminer.core.madmin INFO    Added benchmark neg_cQd8: ctG = 0.00e+00, ctGI = 0.00e+00, cQq83 = 0.00e+00, cQq81 = 0.00e+00, cQu8 = 0.00e+00, cQd8 = -5.00e+00, ctq8 = 0.00e+00, ctu8 = 0.00e+00, ctd8 = 0.00e+00\n",
      "16:48 madminer.core.madmin INFO    Added benchmark ctq8: ctG = 0.00e+00, ctGI = 0.00e+00, cQq83 = 0.00e+00, cQq81 = 0.00e+00, cQu8 = 0.00e+00, cQd8 = 0.00e+00, ctq8 = 5.00, ctu8 = 0.00e+00, ctd8 = 0.00e+00\n",
      "16:48 madminer.core.madmin INFO    Added benchmark neg_ctq8: ctG = 0.00e+00, ctGI = 0.00e+00, cQq83 = 0.00e+00, cQq81 = 0.00e+00, cQu8 = 0.00e+00, cQd8 = 0.00e+00, ctq8 = -5.00e+00, ctu8 = 0.00e+00, ctd8 = 0.00e+00\n",
      "16:48 madminer.core.madmin INFO    Added benchmark ctu8: ctG = 0.00e+00, ctGI = 0.00e+00, cQq83 = 0.00e+00, cQq81 = 0.00e+00, cQu8 = 0.00e+00, cQd8 = 0.00e+00, ctq8 = 0.00e+00, ctu8 = 5.00, ctd8 = 0.00e+00\n",
      "16:48 madminer.core.madmin INFO    Added benchmark neg_ctu8: ctG = 0.00e+00, ctGI = 0.00e+00, cQq83 = 0.00e+00, cQq81 = 0.00e+00, cQu8 = 0.00e+00, cQd8 = 0.00e+00, ctq8 = 0.00e+00, ctu8 = -5.00e+00, ctd8 = 0.00e+00\n",
      "16:48 madminer.core.madmin INFO    Added benchmark ctd8: ctG = 0.00e+00, ctGI = 0.00e+00, cQq83 = 0.00e+00, cQq81 = 0.00e+00, cQu8 = 0.00e+00, cQd8 = 0.00e+00, ctq8 = 0.00e+00, ctu8 = 0.00e+00, ctd8 = 5.00\n",
      "16:48 madminer.core.madmin INFO    Added benchmark neg_ctd8: ctG = 0.00e+00, ctGI = 0.00e+00, cQq83 = 0.00e+00, cQq81 = 0.00e+00, cQu8 = 0.00e+00, cQd8 = 0.00e+00, ctq8 = 0.00e+00, ctu8 = 0.00e+00, ctd8 = -5.00e+00\n"
     ]
    }
   ],
   "source": [
    "miner.add_benchmark({\"ctG\": 0.0,\"ctGI\": 0.0, \"cQq83\": 0.0,\"cQq81\": 0.0,\"cQu8\": 0.0,\"cQd8\": 0.0,\"ctq8\": 0.0,\"ctu8\": 0.0,\"ctd8\": 0.0}, \"sm\")\n",
    "miner.add_benchmark({\"ctG\": 2.0,\"ctGI\": 0.0, \"cQq83\": 0.0,\"cQq81\": 0.0,\"cQu8\": 0.0,\"cQd8\": 0.0,\"ctq8\": 0.0,\"ctu8\": 0.0,\"ctd8\": 0.0}, \"ctG\")\n",
    "miner.add_benchmark({\"ctG\": -2.0,\"ctGI\": 0.0, \"cQq83\": 0.0,\"cQq81\": 0.0,\"cQu8\": 0.0,\"cQd8\": 0.0,\"ctq8\": 0.0,\"ctu8\": 0.0,\"ctd8\": 0.0},\"neg_ctG\")\n",
    "miner.add_benchmark({\"ctG\": 0.0,\"ctGI\": 2.0, \"cQq83\": 0.0,\"cQq81\": 0.0,\"cQu8\": 0.0,\"cQd8\": 0.0,\"ctq8\": 0.0,\"ctu8\": 0.0,\"ctd8\": 0.0}, \"ctGI\")\n",
    "miner.add_benchmark({\"ctG\": 0.0,\"ctGI\": -2.0, \"cQq83\": 0.0,\"cQq81\": 0.0,\"cQu8\": 0.0,\"cQd8\": 0.0,\"ctq8\": 0.0,\"ctu8\": 0.0,\"ctd8\": 0.0},\"neg_ctGI\")\n",
    "miner.add_benchmark({\"ctG\": 0.0,\"ctGI\": 0.0, \"cQq83\": 5.0,\"cQq81\": 0.0,\"cQu8\": 0.0,\"cQd8\": 0.0,\"ctq8\": 0.0,\"ctu8\": 0.0,\"ctd8\": 0.0}, \"cQq83\")\n",
    "miner.add_benchmark({\"ctG\": 0.0,\"ctGI\": 0.0, \"cQq83\": -5.0,\"cQq81\": 0.0,\"cQu8\": 0.0,\"cQd8\": 0.0,\"ctq8\": 0.0,\"ctu8\": 0.0,\"ctd8\": 0.0}, \"neg_cQq83\")\n",
    "miner.add_benchmark({\"ctG\": 0.0,\"ctGI\": 0.0, \"cQq83\": 0.0,\"cQq81\": 5.0,\"cQu8\": 0.0,\"cQd8\": 0.0,\"ctq8\": 0.0,\"ctu8\": 0.0,\"ctd8\": 0.0}, \"cQq81\")\n",
    "miner.add_benchmark({\"ctG\": 0.0,\"ctGI\": 0.0, \"cQq83\": 0.0,\"cQq81\": -5.0,\"cQu8\": 0.0,\"cQd8\": 0.0,\"ctq8\": 0.0,\"ctu8\": 0.0,\"ctd8\": 0.0}, \"neg_cQq81\")\n",
    "miner.add_benchmark({\"ctG\": 0.0,\"ctGI\": 0.0, \"cQq83\": 0.0,\"cQq81\": 0.0,\"cQu8\": 5.0,\"cQd8\": 0.0,\"ctq8\": 0.0,\"ctu8\": 0.0,\"ctd8\": 0.0}, \"cQu8\")\n",
    "miner.add_benchmark({\"ctG\": 0.0,\"ctGI\": 0.0, \"cQq83\": 0.0,\"cQq81\": 0.0,\"cQu8\": -5.0,\"cQd8\": 0.0,\"ctq8\": 0.0,\"ctu8\": 0.0,\"ctd8\": 0.0}, \"neg_cQu8\")\n",
    "miner.add_benchmark({\"ctG\": 0.0,\"ctGI\": 0.0, \"cQq83\": 0.0,\"cQq81\": 0.0,\"cQu8\": 0.0,\"cQd8\": 5.0,\"ctq8\": 0.0,\"ctu8\": 0.0,\"ctd8\": 0.0}, \"cQd8\")\n",
    "miner.add_benchmark({\"ctG\": 0.0,\"ctGI\": 0.0, \"cQq83\": 0.0,\"cQq81\": 0.0,\"cQu8\": 0.0,\"cQd8\": -5.0,\"ctq8\": 0.0,\"ctu8\": 0.0,\"ctd8\": 0.0}, \"neg_cQd8\")\n",
    "miner.add_benchmark({\"ctG\": 0.0,\"ctGI\": 0.0, \"cQq83\": 0.0,\"cQq81\": 0.0,\"cQu8\": 0.0,\"cQd8\": 0.0,\"ctq8\": 5.0,\"ctu8\": 0.0,\"ctd8\": 0.0}, \"ctq8\")\n",
    "miner.add_benchmark({\"ctG\": 0.0,\"ctGI\": 0.0, \"cQq83\": 0.0,\"cQq81\": 0.0,\"cQu8\": 0.0,\"cQd8\": 0.0,\"ctq8\": -5.0,\"ctu8\": 0.0,\"ctd8\": 0.0},\"neg_ctq8\")\n",
    "miner.add_benchmark({\"ctG\": 0.0,\"ctGI\": 0.0, \"cQq83\": 0.0,\"cQq81\": 0.0,\"cQu8\": 0.0,\"cQd8\": 0.0,\"ctq8\": 0.0,\"ctu8\": 5.0,\"ctd8\": 0.0}, \"ctu8\")\n",
    "miner.add_benchmark({\"ctG\": 0.0,\"ctGI\": 0.0, \"cQq83\": 0.0,\"cQq81\": 0.0,\"cQu8\": 0.0,\"cQd8\": 0.0,\"ctq8\": 0.0,\"ctu8\": -5.0,\"ctd8\": 0.0}, \"neg_ctu8\")\n",
    "miner.add_benchmark({\"ctG\": 0.0,\"ctGI\": 0.0, \"cQq83\": 0.0,\"cQq81\": 0.0,\"cQu8\": 0.0,\"cQd8\": 0.0,\"ctq8\": 0.0,\"ctu8\": 0.0,\"ctd8\": 5.0}, \"ctd8\")\n",
    "miner.add_benchmark({\"ctG\": 0.0,\"ctGI\": 0.0, \"cQq83\": 0.0,\"cQq81\": 0.0,\"cQu8\": 0.0,\"cQd8\": 0.0,\"ctq8\": 0.0,\"ctu8\": 0.0,\"ctd8\": -5.0}, \"neg_ctd8\")\n"
   ]
  },
  {
   "cell_type": "code",
   "execution_count": 6,
   "metadata": {},
   "outputs": [
    {
     "name": "stderr",
     "output_type": "stream",
     "text": [
      "16:49 madminer.core.madmin INFO    Added benchmark ctG_ctGI: ctG = 2.00, ctGI = 2.00, cQq83 = 0.00e+00, cQq81 = 0.00e+00, cQu8 = 0.00e+00, cQd8 = 0.00e+00, ctq8 = 0.00e+00, ctu8 = 0.00e+00, ctd8 = 0.00e+00\n",
      "16:49 madminer.core.madmin INFO    Added benchmark ctG_cQq83: ctG = 2.00, ctGI = 0.00e+00, cQq83 = 5.00, cQq81 = 0.00e+00, cQu8 = 0.00e+00, cQd8 = 0.00e+00, ctq8 = 0.00e+00, ctu8 = 0.00e+00, ctd8 = 0.00e+00\n",
      "16:49 madminer.core.madmin INFO    Added benchmark ctG_cQq81: ctG = 2.00, ctGI = 0.00e+00, cQq83 = 0.00e+00, cQq81 = 5.00, cQu8 = 0.00e+00, cQd8 = 0.00e+00, ctq8 = 0.00e+00, ctu8 = 0.00e+00, ctd8 = 0.00e+00\n",
      "16:49 madminer.core.madmin INFO    Added benchmark ctG_cQu8: ctG = 2.00, ctGI = 0.00e+00, cQq83 = 0.00e+00, cQq81 = 0.00e+00, cQu8 = 5.00, cQd8 = 0.00e+00, ctq8 = 0.00e+00, ctu8 = 0.00e+00, ctd8 = 0.00e+00\n",
      "16:49 madminer.core.madmin INFO    Added benchmark ctG_cQd8: ctG = 2.00, ctGI = 0.00e+00, cQq83 = 0.00e+00, cQq81 = 0.00e+00, cQu8 = 0.00e+00, cQd8 = 5.00, ctq8 = 0.00e+00, ctu8 = 0.00e+00, ctd8 = 0.00e+00\n",
      "16:49 madminer.core.madmin INFO    Added benchmark ctG_ctq8: ctG = 2.00, ctGI = 0.00e+00, cQq83 = 0.00e+00, cQq81 = 0.00e+00, cQu8 = 0.00e+00, cQd8 = 0.00e+00, ctq8 = 5.00, ctu8 = 0.00e+00, ctd8 = 0.00e+00\n",
      "16:49 madminer.core.madmin INFO    Added benchmark ctG_ctu8: ctG = 2.00, ctGI = 0.00e+00, cQq83 = 0.00e+00, cQq81 = 0.00e+00, cQu8 = 0.00e+00, cQd8 = 0.00e+00, ctq8 = 0.00e+00, ctu8 = 5.00, ctd8 = 0.00e+00\n",
      "16:49 madminer.core.madmin INFO    Added benchmark ctG_ctd8: ctG = 2.00, ctGI = 0.00e+00, cQq83 = 0.00e+00, cQq81 = 0.00e+00, cQu8 = 0.00e+00, cQd8 = 0.00e+00, ctq8 = 0.00e+00, ctu8 = 0.00e+00, ctd8 = 5.00\n"
     ]
    }
   ],
   "source": [
    "miner.add_benchmark({\"ctG\": 2.0,\"ctGI\": 2.0, \"cQq83\": 0.0,\"cQq81\": 0.0,\"cQu8\": 0.0,\"cQd8\": 0.0,\"ctq8\": 0.0,\"ctu8\": 0.0,\"ctd8\": 0.0}, \"ctG_ctGI\")\n",
    "miner.add_benchmark({\"ctG\": 2.0,\"ctGI\": 0.0, \"cQq83\": 5.0,\"cQq81\": 0.0,\"cQu8\": 0.0,\"cQd8\": 0.0,\"ctq8\": 0.0,\"ctu8\": 0.0,\"ctd8\": 0.0}, \"ctG_cQq83\")\n",
    "miner.add_benchmark({\"ctG\": 2.0,\"ctGI\": 0.0, \"cQq83\": 0.0,\"cQq81\": 5.0,\"cQu8\": 0.0,\"cQd8\": 0.0,\"ctq8\": 0.0,\"ctu8\": 0.0,\"ctd8\": 0.0}, \"ctG_cQq81\")\n",
    "miner.add_benchmark({\"ctG\": 2.0,\"ctGI\": 0.0, \"cQq83\": 0.0,\"cQq81\": 0.0,\"cQu8\": 5.0,\"cQd8\": 0.0,\"ctq8\": 0.0,\"ctu8\": 0.0,\"ctd8\": 0.0}, \"ctG_cQu8\")\n",
    "miner.add_benchmark({\"ctG\": 2.0,\"ctGI\": 0.0, \"cQq83\": 0.0,\"cQq81\": 0.0,\"cQu8\": 0.0,\"cQd8\": 5.0,\"ctq8\": 0.0,\"ctu8\": 0.0,\"ctd8\": 0.0}, \"ctG_cQd8\")\n",
    "miner.add_benchmark({\"ctG\": 2.0,\"ctGI\": 0.0, \"cQq83\": 0.0,\"cQq81\": 0.0,\"cQu8\": 0.0,\"cQd8\": 0.0,\"ctq8\": 5.0,\"ctu8\": 0.0,\"ctd8\": 0.0}, \"ctG_ctq8\")\n",
    "miner.add_benchmark({\"ctG\": 2.0,\"ctGI\": 0.0, \"cQq83\": 0.0,\"cQq81\": 0.0,\"cQu8\": 0.0,\"cQd8\": 0.0,\"ctq8\": 0.0,\"ctu8\": 5.0,\"ctd8\": 0.0}, \"ctG_ctu8\")\n",
    "miner.add_benchmark({\"ctG\": 2.0,\"ctGI\": 0.0, \"cQq83\": 0.0,\"cQq81\": 0.0,\"cQu8\": 0.0,\"cQd8\": 0.0,\"ctq8\": 0.0,\"ctu8\": 0.0,\"ctd8\": 5.0}, \"ctG_ctd8\")"
   ]
  },
  {
   "cell_type": "code",
   "execution_count": 7,
   "metadata": {},
   "outputs": [
    {
     "name": "stderr",
     "output_type": "stream",
     "text": [
      "16:50 madminer.core.madmin INFO    Added benchmark ctGI_cQq83: ctG = 0.00e+00, ctGI = 2.00, cQq83 = 5.00, cQq81 = 0.00e+00, cQu8 = 0.00e+00, cQd8 = 0.00e+00, ctq8 = 0.00e+00, ctu8 = 0.00e+00, ctd8 = 0.00e+00\n",
      "16:50 madminer.core.madmin INFO    Added benchmark ctGI_cQq81: ctG = 0.00e+00, ctGI = 2.00, cQq83 = 0.00e+00, cQq81 = 5.00, cQu8 = 0.00e+00, cQd8 = 0.00e+00, ctq8 = 0.00e+00, ctu8 = 0.00e+00, ctd8 = 0.00e+00\n",
      "16:50 madminer.core.madmin INFO    Added benchmark ctGI_cQu8: ctG = 0.00e+00, ctGI = 2.00, cQq83 = 0.00e+00, cQq81 = 0.00e+00, cQu8 = 5.00, cQd8 = 0.00e+00, ctq8 = 0.00e+00, ctu8 = 0.00e+00, ctd8 = 0.00e+00\n",
      "16:50 madminer.core.madmin INFO    Added benchmark ctGI_cQd8: ctG = 0.00e+00, ctGI = 2.00, cQq83 = 0.00e+00, cQq81 = 0.00e+00, cQu8 = 0.00e+00, cQd8 = 5.00, ctq8 = 0.00e+00, ctu8 = 0.00e+00, ctd8 = 0.00e+00\n",
      "16:50 madminer.core.madmin INFO    Added benchmark ctGI_ctq8: ctG = 0.00e+00, ctGI = 2.00, cQq83 = 0.00e+00, cQq81 = 0.00e+00, cQu8 = 0.00e+00, cQd8 = 0.00e+00, ctq8 = 5.00, ctu8 = 0.00e+00, ctd8 = 0.00e+00\n",
      "16:50 madminer.core.madmin INFO    Added benchmark ctGI_ctu8: ctG = 0.00e+00, ctGI = 2.00, cQq83 = 0.00e+00, cQq81 = 0.00e+00, cQu8 = 0.00e+00, cQd8 = 0.00e+00, ctq8 = 0.00e+00, ctu8 = 5.00, ctd8 = 0.00e+00\n",
      "16:50 madminer.core.madmin INFO    Added benchmark ctGI_ctd8: ctG = 0.00e+00, ctGI = 2.00, cQq83 = 0.00e+00, cQq81 = 0.00e+00, cQu8 = 0.00e+00, cQd8 = 0.00e+00, ctq8 = 0.00e+00, ctu8 = 0.00e+00, ctd8 = 5.00\n"
     ]
    }
   ],
   "source": [
    "miner.add_benchmark({\"ctG\":0.0 ,\"ctGI\": 2.0, \"cQq83\": 5.0,\"cQq81\": 0.0,\"cQu8\": 0.0,\"cQd8\": 0.0,\"ctq8\": 0.0,\"ctu8\": 0.0,\"ctd8\": 0.0}, \"ctGI_cQq83\")\n",
    "miner.add_benchmark({\"ctG\":0.0 ,\"ctGI\": 2.0, \"cQq83\": 0.0,\"cQq81\": 5.0,\"cQu8\": 0.0,\"cQd8\": 0.0,\"ctq8\": 0.0,\"ctu8\": 0.0,\"ctd8\": 0.0}, \"ctGI_cQq81\")\n",
    "miner.add_benchmark({\"ctG\":0.0 ,\"ctGI\": 2.0, \"cQq83\": 0.0,\"cQq81\": 0.0,\"cQu8\": 5.0,\"cQd8\": 0.0,\"ctq8\": 0.0,\"ctu8\": 0.0,\"ctd8\": 0.0}, \"ctGI_cQu8\")\n",
    "miner.add_benchmark({\"ctG\":0.0 ,\"ctGI\": 2.0, \"cQq83\": 0.0,\"cQq81\": 0.0,\"cQu8\": 0.0,\"cQd8\": 5.0,\"ctq8\": 0.0,\"ctu8\": 0.0,\"ctd8\": 0.0}, \"ctGI_cQd8\")\n",
    "miner.add_benchmark({\"ctG\":0.0 ,\"ctGI\": 2.0, \"cQq83\": 0.0,\"cQq81\": 0.0,\"cQu8\": 0.0,\"cQd8\": 0.0,\"ctq8\": 5.0,\"ctu8\": 0.0,\"ctd8\": 0.0}, \"ctGI_ctq8\")\n",
    "miner.add_benchmark({\"ctG\":0.0 ,\"ctGI\": 2.0, \"cQq83\": 0.0,\"cQq81\": 0.0,\"cQu8\": 0.0,\"cQd8\": 0.0,\"ctq8\": 0.0,\"ctu8\": 5.0,\"ctd8\": 0.0}, \"ctGI_ctu8\")\n",
    "miner.add_benchmark({\"ctG\":0.0 ,\"ctGI\": 2.0, \"cQq83\": 0.0,\"cQq81\": 0.0,\"cQu8\": 0.0,\"cQd8\": 0.0,\"ctq8\": 0.0,\"ctu8\": 0.0,\"ctd8\": 5.0}, \"ctGI_ctd8\")"
   ]
  },
  {
   "cell_type": "code",
   "execution_count": 8,
   "metadata": {},
   "outputs": [
    {
     "name": "stderr",
     "output_type": "stream",
     "text": [
      "16:51 madminer.core.madmin INFO    Added benchmark cQq83_cQq81: ctG = 0.00e+00, ctGI = 0.00e+00, cQq83 = 5.00, cQq81 = 5.00, cQu8 = 0.00e+00, cQd8 = 0.00e+00, ctq8 = 0.00e+00, ctu8 = 0.00e+00, ctd8 = 0.00e+00\n",
      "16:51 madminer.core.madmin INFO    Added benchmark cQq83_cQu8: ctG = 0.00e+00, ctGI = 0.00e+00, cQq83 = 5.00, cQq81 = 0.00e+00, cQu8 = 5.00, cQd8 = 0.00e+00, ctq8 = 0.00e+00, ctu8 = 0.00e+00, ctd8 = 0.00e+00\n",
      "16:51 madminer.core.madmin INFO    Added benchmark cQq83_cQd8: ctG = 0.00e+00, ctGI = 0.00e+00, cQq83 = 5.00, cQq81 = 0.00e+00, cQu8 = 0.00e+00, cQd8 = 5.00, ctq8 = 0.00e+00, ctu8 = 0.00e+00, ctd8 = 0.00e+00\n",
      "16:51 madminer.core.madmin INFO    Added benchmark cQq83_ctq8: ctG = 0.00e+00, ctGI = 0.00e+00, cQq83 = 5.00, cQq81 = 0.00e+00, cQu8 = 0.00e+00, cQd8 = 0.00e+00, ctq8 = 5.00, ctu8 = 0.00e+00, ctd8 = 0.00e+00\n",
      "16:51 madminer.core.madmin INFO    Added benchmark cQq83_ctu8: ctG = 0.00e+00, ctGI = 0.00e+00, cQq83 = 5.00, cQq81 = 0.00e+00, cQu8 = 0.00e+00, cQd8 = 0.00e+00, ctq8 = 0.00e+00, ctu8 = 5.00, ctd8 = 0.00e+00\n",
      "16:51 madminer.core.madmin INFO    Added benchmark cQq83_ctd8: ctG = 0.00e+00, ctGI = 0.00e+00, cQq83 = 5.00, cQq81 = 0.00e+00, cQu8 = 0.00e+00, cQd8 = 0.00e+00, ctq8 = 0.00e+00, ctu8 = 0.00e+00, ctd8 = 5.00\n"
     ]
    }
   ],
   "source": [
    "miner.add_benchmark({\"ctG\":0.0 ,\"ctGI\": 0.0, \"cQq83\": 5.0,\"cQq81\": 5.0,\"cQu8\": 0.0,\"cQd8\": 0.0,\"ctq8\": 0.0,\"ctu8\": 0.0,\"ctd8\": 0.0}, \"cQq83_cQq81\")\n",
    "miner.add_benchmark({\"ctG\":0.0 ,\"ctGI\": 0.0, \"cQq83\":5.0,\"cQq81\": 0.0,\"cQu8\": 5.0,\"cQd8\": 0.0,\"ctq8\": 0.0,\"ctu8\": 0.0,\"ctd8\": 0.0}, \"cQq83_cQu8\")\n",
    "miner.add_benchmark({\"ctG\":0.0 ,\"ctGI\": 0.0, \"cQq83\": 5.0,\"cQq81\": 0.0,\"cQu8\": 0.0,\"cQd8\": 5.0,\"ctq8\": 0.0,\"ctu8\": 0.0,\"ctd8\": 0.0}, \"cQq83_cQd8\")\n",
    "miner.add_benchmark({\"ctG\":0.0 ,\"ctGI\": 0.0, \"cQq83\": 5.0,\"cQq81\": 0.0,\"cQu8\": 0.0,\"cQd8\": 0.0,\"ctq8\": 5.0,\"ctu8\": 0.0,\"ctd8\": 0.0}, \"cQq83_ctq8\")\n",
    "miner.add_benchmark({\"ctG\":0.0 ,\"ctGI\": 0.0, \"cQq83\": 5.0,\"cQq81\": 0.0,\"cQu8\": 0.0,\"cQd8\": 0.0,\"ctq8\": 0.0,\"ctu8\": 5.0,\"ctd8\": 0.0}, \"cQq83_ctu8\")\n",
    "miner.add_benchmark({\"ctG\":0.0 ,\"ctGI\": 0.0, \"cQq83\": 5.0,\"cQq81\": 0.0,\"cQu8\": 0.0,\"cQd8\": 0.0,\"ctq8\": 0.0,\"ctu8\": 0.0,\"ctd8\": 5.0}, \"cQq83_ctd8\")"
   ]
  },
  {
   "cell_type": "code",
   "execution_count": 9,
   "metadata": {},
   "outputs": [
    {
     "name": "stderr",
     "output_type": "stream",
     "text": [
      "16:51 madminer.core.madmin INFO    Added benchmark cQq81_cQu8: ctG = 0.00e+00, ctGI = 0.00e+00, cQq83 = 0.00e+00, cQq81 = 5.00, cQu8 = 5.00, cQd8 = 0.00e+00, ctq8 = 0.00e+00, ctu8 = 0.00e+00, ctd8 = 0.00e+00\n",
      "16:51 madminer.core.madmin INFO    Added benchmark cQq81_cQd8: ctG = 0.00e+00, ctGI = 0.00e+00, cQq83 = 0.00e+00, cQq81 = 5.00, cQu8 = 0.00e+00, cQd8 = 5.00, ctq8 = 0.00e+00, ctu8 = 0.00e+00, ctd8 = 0.00e+00\n",
      "16:51 madminer.core.madmin INFO    Added benchmark cQq81_ctq8: ctG = 0.00e+00, ctGI = 0.00e+00, cQq83 = 0.00e+00, cQq81 = 5.00, cQu8 = 0.00e+00, cQd8 = 0.00e+00, ctq8 = 5.00, ctu8 = 0.00e+00, ctd8 = 0.00e+00\n",
      "16:51 madminer.core.madmin INFO    Added benchmark cQq81_ctu8: ctG = 0.00e+00, ctGI = 0.00e+00, cQq83 = 0.00e+00, cQq81 = 5.00, cQu8 = 0.00e+00, cQd8 = 0.00e+00, ctq8 = 0.00e+00, ctu8 = 5.00, ctd8 = 0.00e+00\n",
      "16:51 madminer.core.madmin INFO    Added benchmark cQq81_ctd8: ctG = 0.00e+00, ctGI = 0.00e+00, cQq83 = 0.00e+00, cQq81 = 5.00, cQu8 = 0.00e+00, cQd8 = 0.00e+00, ctq8 = 0.00e+00, ctu8 = 0.00e+00, ctd8 = 5.00\n"
     ]
    }
   ],
   "source": [
    "miner.add_benchmark({\"ctG\":0.0 ,\"ctGI\": 0.0, \"cQq83\":0.0,\"cQq81\": 5.0,\"cQu8\": 5.0,\"cQd8\": 0.0,\"ctq8\": 0.0,\"ctu8\": 0.0,\"ctd8\": 0.0}, \"cQq81_cQu8\")\n",
    "miner.add_benchmark({\"ctG\":0.0 ,\"ctGI\": 0.0, \"cQq83\": 0.0,\"cQq81\": 5.0,\"cQu8\": 0.0,\"cQd8\": 5.0,\"ctq8\": 0.0,\"ctu8\": 0.0,\"ctd8\": 0.0}, \"cQq81_cQd8\")\n",
    "miner.add_benchmark({\"ctG\":0.0 ,\"ctGI\": 0.0, \"cQq83\": 0.0,\"cQq81\": 5.0,\"cQu8\": 0.0,\"cQd8\": 0.0,\"ctq8\": 5.0,\"ctu8\": 0.0,\"ctd8\": 0.0}, \"cQq81_ctq8\")\n",
    "miner.add_benchmark({\"ctG\":0.0 ,\"ctGI\": 0.0, \"cQq83\": 0.0,\"cQq81\": 5.0,\"cQu8\": 0.0,\"cQd8\": 0.0,\"ctq8\": 0.0,\"ctu8\": 5.0,\"ctd8\": 0.0}, \"cQq81_ctu8\")\n",
    "miner.add_benchmark({\"ctG\":0.0 ,\"ctGI\": 0.0, \"cQq83\": 0.0,\"cQq81\": 5.0,\"cQu8\": 0.0,\"cQd8\": 0.0,\"ctq8\": 0.0,\"ctu8\": 0.0,\"ctd8\": 5.0}, \"cQq81_ctd8\")"
   ]
  },
  {
   "cell_type": "code",
   "execution_count": 10,
   "metadata": {},
   "outputs": [
    {
     "name": "stderr",
     "output_type": "stream",
     "text": [
      "16:52 madminer.core.madmin INFO    Added benchmark cQu8_cQd8: ctG = 0.00e+00, ctGI = 0.00e+00, cQq83 = 0.00e+00, cQq81 = 0.00e+00, cQu8 = 5.00, cQd8 = 5.00, ctq8 = 0.00e+00, ctu8 = 0.00e+00, ctd8 = 0.00e+00\n",
      "16:52 madminer.core.madmin INFO    Added benchmark cQu8_ctq8: ctG = 0.00e+00, ctGI = 0.00e+00, cQq83 = 0.00e+00, cQq81 = 0.00e+00, cQu8 = 5.00, cQd8 = 0.00e+00, ctq8 = 5.00, ctu8 = 0.00e+00, ctd8 = 0.00e+00\n",
      "16:52 madminer.core.madmin INFO    Added benchmark cQu8_ctu8: ctG = 0.00e+00, ctGI = 0.00e+00, cQq83 = 0.00e+00, cQq81 = 0.00e+00, cQu8 = 5.00, cQd8 = 0.00e+00, ctq8 = 0.00e+00, ctu8 = 5.00, ctd8 = 0.00e+00\n",
      "16:52 madminer.core.madmin INFO    Added benchmark cQu8_ctd8: ctG = 0.00e+00, ctGI = 0.00e+00, cQq83 = 0.00e+00, cQq81 = 0.00e+00, cQu8 = 5.00, cQd8 = 0.00e+00, ctq8 = 0.00e+00, ctu8 = 0.00e+00, ctd8 = 5.00\n"
     ]
    }
   ],
   "source": [
    "miner.add_benchmark({\"ctG\":0.0 ,\"ctGI\": 0.0, \"cQq83\": 0.0,\"cQq81\": 0.0,\"cQu8\": 5.0,\"cQd8\": 5.0,\"ctq8\": 0.0,\"ctu8\": 0.0,\"ctd8\": 0.0}, \"cQu8_cQd8\")\n",
    "miner.add_benchmark({\"ctG\":0.0 ,\"ctGI\": 0.0, \"cQq83\": 0.0,\"cQq81\": 0.0,\"cQu8\": 5.0,\"cQd8\": 0.0,\"ctq8\": 5.0,\"ctu8\": 0.0,\"ctd8\": 0.0}, \"cQu8_ctq8\")\n",
    "miner.add_benchmark({\"ctG\":0.0 ,\"ctGI\": 0.0, \"cQq83\": 0.0,\"cQq81\": 0.0,\"cQu8\": 5.0,\"cQd8\": 0.0,\"ctq8\": 0.0,\"ctu8\": 5.0,\"ctd8\": 0.0}, \"cQu8_ctu8\")\n",
    "miner.add_benchmark({\"ctG\":0.0 ,\"ctGI\": 0.0, \"cQq83\": 0.0,\"cQq81\": 0.0,\"cQu8\": 5.0,\"cQd8\": 0.0,\"ctq8\": 0.0,\"ctu8\": 0.0,\"ctd8\": 5.0}, \"cQu8_ctd8\")"
   ]
  },
  {
   "cell_type": "code",
   "execution_count": 11,
   "metadata": {},
   "outputs": [
    {
     "name": "stderr",
     "output_type": "stream",
     "text": [
      "16:52 madminer.core.madmin INFO    Added benchmark cQd8_ctq8: ctG = 0.00e+00, ctGI = 0.00e+00, cQq83 = 0.00e+00, cQq81 = 0.00e+00, cQu8 = 0.00e+00, cQd8 = 5.00, ctq8 = 5.00, ctu8 = 0.00e+00, ctd8 = 0.00e+00\n",
      "16:52 madminer.core.madmin INFO    Added benchmark cQd8_ctu8: ctG = 0.00e+00, ctGI = 0.00e+00, cQq83 = 0.00e+00, cQq81 = 0.00e+00, cQu8 = 0.00e+00, cQd8 = 5.00, ctq8 = 0.00e+00, ctu8 = 5.00, ctd8 = 0.00e+00\n",
      "16:52 madminer.core.madmin INFO    Added benchmark cQd8_ctd8: ctG = 0.00e+00, ctGI = 0.00e+00, cQq83 = 0.00e+00, cQq81 = 0.00e+00, cQu8 = 0.00e+00, cQd8 = 5.00, ctq8 = 0.00e+00, ctu8 = 0.00e+00, ctd8 = 5.00\n"
     ]
    }
   ],
   "source": [
    "miner.add_benchmark({\"ctG\":0.0 ,\"ctGI\": 0.0, \"cQq83\": 0.0,\"cQq81\": 0.0,\"cQu8\": 0.0,\"cQd8\": 5.0,\"ctq8\": 5.0,\"ctu8\": 0.0,\"ctd8\": 0.0}, \"cQd8_ctq8\")\n",
    "miner.add_benchmark({\"ctG\":0.0 ,\"ctGI\": 0.0, \"cQq83\": 0.0,\"cQq81\": 0.0,\"cQu8\": 0.0,\"cQd8\": 5.0,\"ctq8\": 0.0,\"ctu8\": 5.0,\"ctd8\": 0.0}, \"cQd8_ctu8\")\n",
    "miner.add_benchmark({\"ctG\":0.0 ,\"ctGI\": 0.0, \"cQq83\": 0.0,\"cQq81\": 0.0,\"cQu8\": 0.0,\"cQd8\": 5.0,\"ctq8\": 0.0,\"ctu8\": 0.0,\"ctd8\": 5.0}, \"cQd8_ctd8\")"
   ]
  },
  {
   "cell_type": "code",
   "execution_count": 12,
   "metadata": {},
   "outputs": [
    {
     "name": "stderr",
     "output_type": "stream",
     "text": [
      "16:52 madminer.core.madmin INFO    Added benchmark ctq8_ctu8: ctG = 0.00e+00, ctGI = 0.00e+00, cQq83 = 0.00e+00, cQq81 = 0.00e+00, cQu8 = 0.00e+00, cQd8 = 0.00e+00, ctq8 = 5.00, ctu8 = 5.00, ctd8 = 0.00e+00\n",
      "16:52 madminer.core.madmin INFO    Added benchmark ctq8_ctd8: ctG = 0.00e+00, ctGI = 0.00e+00, cQq83 = 0.00e+00, cQq81 = 0.00e+00, cQu8 = 0.00e+00, cQd8 = 0.00e+00, ctq8 = 5.00, ctu8 = 0.00e+00, ctd8 = 5.00\n"
     ]
    }
   ],
   "source": [
    "miner.add_benchmark({\"ctG\":0.0 ,\"ctGI\": 0.0, \"cQq83\": 0.0,\"cQq81\": 0.0,\"cQu8\": 0.0,\"cQd8\": 0.0,\"ctq8\": 5.0,\"ctu8\": 5.0,\"ctd8\": 0.0}, \"ctq8_ctu8\")\n",
    "miner.add_benchmark({\"ctG\":0.0 ,\"ctGI\": 0.0, \"cQq83\": 0.0,\"cQq81\": 0.0,\"cQu8\": 0.0,\"cQd8\": 0.0,\"ctq8\": 5.0,\"ctu8\": 0.0,\"ctd8\": 5.0}, \"ctq8_ctd8\")"
   ]
  },
  {
   "cell_type": "code",
   "execution_count": 13,
   "metadata": {},
   "outputs": [
    {
     "name": "stderr",
     "output_type": "stream",
     "text": [
      "16:52 madminer.core.madmin INFO    Added benchmark ctu8_ctd8: ctG = 0.00e+00, ctGI = 0.00e+00, cQq83 = 0.00e+00, cQq81 = 0.00e+00, cQu8 = 0.00e+00, cQd8 = 0.00e+00, ctq8 = 0.00e+00, ctu8 = 5.00, ctd8 = 5.00\n"
     ]
    }
   ],
   "source": [
    "miner.add_benchmark({\"ctG\":0.0 ,\"ctGI\": 0.0, \"cQq83\": 0.0,\"cQq81\": 0.0,\"cQu8\": 0.0,\"cQd8\": 0.0,\"ctq8\": 0.0,\"ctu8\": 5.0,\"ctd8\": 5.0}, \"ctu8_ctd8\")"
   ]
  },
  {
   "cell_type": "markdown",
   "metadata": {},
   "source": [
    "## 4. Morphing"
   ]
  },
  {
   "cell_type": "markdown",
   "metadata": {},
   "source": [
    "Morphing is a powerful technique that allows for the fast and exact interpolation of event weights (or any derived quantity) from a set of original benchmark points (the \"morphing basis\") to anywhere in theory parameter space. This procedure depends on the powers with which the parameters affect the differential cross sections (this is why `add_parameter()` wants to know about this). Please see Sec. II.C.2 of [\"A Guide to Constraining Effective Field Theories With Machine Learning\"](https://arxiv.org/abs/1805.00020) for an explanation of the technique.\n",
    "\n",
    "Morphing is not strictly necessary to run MadMiner, but it makes life easier in so many ways (and many methods are so far only implemented for morphing-based problems). We strongly recommend to use this wherever possible.\n",
    "\n",
    "To activate morphing, the function `set_morphing` has to be called. With the option `include_existing_benchmarks=True`, MadMiner will keep all the benchmark points defined beforehand and run a simple optimization algorithm to fix the remaining ones for the basis (which may be none). Otherwise, MadMiner will optimize the full basis and forget about all previously defined benchmark points.\n",
    "\n",
    "The other important keyword is `max_overall_power`. This sets the maximal combined power with which all parameters together contribute to the squared matrix element (cross section). This constraint is in addition to the `morphing_max_power` keyword of `add_parameter()` (see above). For instance, if there are two parameters of interest `a` and `b`, and it is known that there are contributions proportional to `1` (constant), `a`, `a^2`, `b`, `b^2`, and `ab`, then `max_overall_power=2`. If there are also contributions proportional to `a^2 b`, `a b^2`, and `a^2 b^2`, then `max_overall_power=4`."
   ]
  },
  {
   "cell_type": "code",
   "execution_count": 14,
   "metadata": {
    "scrolled": true
   },
   "outputs": [
    {
     "name": "stderr",
     "output_type": "stream",
     "text": [
      "16:52 madminer.core.madmin INFO    Optimizing basis for morphing\n",
      "16:53 madminer.core.madmin INFO    Set up morphing with 9 parameters, 55 morphing components, 55 predefined basis points, and 0 new basis points\n"
     ]
    }
   ],
   "source": [
    "miner.set_morphing(include_existing_benchmarks=True, max_overall_power=2)"
   ]
  },
  {
   "cell_type": "markdown",
   "metadata": {},
   "source": [
    "Let's have a look at the resulting morphing basis and the \"morphing error\", i.e. the sum of squared morphing weights as a function of the parameter space. The black dots mark the benchmarks at which the squared matrix element will be evaluated when MadGraph is run. In between them, the morphing will interpolate. Since the morphing knows about the functional form of the amplitudes, there is only a small numerical uncertainty in this interpolation, we expect that the color in this plot is indicative of this uncertainty."
   ]
  },
  {
   "cell_type": "code",
   "execution_count": 15,
   "metadata": {},
   "outputs": [
    {
     "name": "stdout",
     "output_type": "stream",
     "text": [
      "Object `madminer.plotting.morphing` not found.\n"
     ]
    }
   ],
   "source": [
    "madminer.plotting.morphing?"
   ]
  },
  {
   "cell_type": "code",
   "execution_count": 16,
   "metadata": {},
   "outputs": [
    {
     "ename": "AssertionError",
     "evalue": "Only 2d problems can be plotted with this function",
     "output_type": "error",
     "traceback": [
      "\u001b[0;31m---------------------------------------------------------------------------\u001b[0m",
      "\u001b[0;31mAssertionError\u001b[0m                            Traceback (most recent call last)",
      "\u001b[0;32m/tmp/ipykernel_56631/370730534.py\u001b[0m in \u001b[0;36m<module>\u001b[0;34m\u001b[0m\n\u001b[1;32m      4\u001b[0m     \u001b[0mylabel\u001b[0m\u001b[0;34m=\u001b[0m\u001b[0;34mr\"$c_{tq8} / \\Lambda^2$\"\u001b[0m\u001b[0;34m,\u001b[0m\u001b[0;34m\u001b[0m\u001b[0;34m\u001b[0m\u001b[0m\n\u001b[1;32m      5\u001b[0m     \u001b[0mxrange\u001b[0m\u001b[0;34m=\u001b[0m\u001b[0;34m(\u001b[0m\u001b[0;34m-\u001b[0m\u001b[0;36m2.1\u001b[0m\u001b[0;34m,\u001b[0m \u001b[0;36m2.1\u001b[0m\u001b[0;34m)\u001b[0m\u001b[0;34m,\u001b[0m\u001b[0;34m\u001b[0m\u001b[0;34m\u001b[0m\u001b[0m\n\u001b[0;32m----> 6\u001b[0;31m     \u001b[0myrange\u001b[0m\u001b[0;34m=\u001b[0m\u001b[0;34m(\u001b[0m\u001b[0;34m-\u001b[0m\u001b[0;36m5.1\u001b[0m\u001b[0;34m,\u001b[0m \u001b[0;36m5.1\u001b[0m\u001b[0;34m)\u001b[0m\u001b[0;34m,\u001b[0m\u001b[0;34m\u001b[0m\u001b[0;34m\u001b[0m\u001b[0m\n\u001b[0m\u001b[1;32m      7\u001b[0m )\n",
      "\u001b[0;32m/nfs/dust/cms/user/zimermma/madminer/madminer/plotting/morphing.py\u001b[0m in \u001b[0;36mplot_2d_morphing_basis\u001b[0;34m(morpher, xlabel, ylabel, xrange, yrange, crange, resolution)\u001b[0m\n\u001b[1;32m    106\u001b[0m \u001b[0;34m\u001b[0m\u001b[0m\n\u001b[1;32m    107\u001b[0m     \u001b[0;32massert\u001b[0m \u001b[0mbasis\u001b[0m \u001b[0;32mis\u001b[0m \u001b[0;32mnot\u001b[0m \u001b[0;32mNone\u001b[0m\u001b[0;34m,\u001b[0m \u001b[0;34m\"No basis defined\"\u001b[0m\u001b[0;34m\u001b[0m\u001b[0;34m\u001b[0m\u001b[0m\n\u001b[0;32m--> 108\u001b[0;31m     \u001b[0;32massert\u001b[0m \u001b[0mbasis\u001b[0m\u001b[0;34m.\u001b[0m\u001b[0mshape\u001b[0m\u001b[0;34m[\u001b[0m\u001b[0;36m1\u001b[0m\u001b[0;34m]\u001b[0m \u001b[0;34m==\u001b[0m \u001b[0;36m2\u001b[0m\u001b[0;34m,\u001b[0m \u001b[0;34m\"Only 2d problems can be plotted with this function\"\u001b[0m\u001b[0;34m\u001b[0m\u001b[0;34m\u001b[0m\u001b[0m\n\u001b[0m\u001b[1;32m    109\u001b[0m \u001b[0;34m\u001b[0m\u001b[0m\n\u001b[1;32m    110\u001b[0m     \u001b[0mxi\u001b[0m\u001b[0;34m,\u001b[0m \u001b[0myi\u001b[0m \u001b[0;34m=\u001b[0m \u001b[0;34m(\u001b[0m\u001b[0mnp\u001b[0m\u001b[0;34m.\u001b[0m\u001b[0mlinspace\u001b[0m\u001b[0;34m(\u001b[0m\u001b[0mxrange\u001b[0m\u001b[0;34m[\u001b[0m\u001b[0;36m0\u001b[0m\u001b[0;34m]\u001b[0m\u001b[0;34m,\u001b[0m \u001b[0mxrange\u001b[0m\u001b[0;34m[\u001b[0m\u001b[0;36m1\u001b[0m\u001b[0;34m]\u001b[0m\u001b[0;34m,\u001b[0m \u001b[0mresolution\u001b[0m\u001b[0;34m)\u001b[0m\u001b[0;34m,\u001b[0m \u001b[0mnp\u001b[0m\u001b[0;34m.\u001b[0m\u001b[0mlinspace\u001b[0m\u001b[0;34m(\u001b[0m\u001b[0myrange\u001b[0m\u001b[0;34m[\u001b[0m\u001b[0;36m0\u001b[0m\u001b[0;34m]\u001b[0m\u001b[0;34m,\u001b[0m \u001b[0myrange\u001b[0m\u001b[0;34m[\u001b[0m\u001b[0;36m1\u001b[0m\u001b[0;34m]\u001b[0m\u001b[0;34m,\u001b[0m \u001b[0mresolution\u001b[0m\u001b[0;34m)\u001b[0m\u001b[0;34m)\u001b[0m\u001b[0;34m\u001b[0m\u001b[0;34m\u001b[0m\u001b[0m\n",
      "\u001b[0;31mAssertionError\u001b[0m: Only 2d problems can be plotted with this function"
     ]
    }
   ],
   "source": [
    "fig = plot_2d_morphing_basis(\n",
    "    miner.morpher,\n",
    "    xlabel=r\"$c_{tG} / \\Lambda^2$\",\n",
    "    ylabel=r\"$c_{tq8} / \\Lambda^2$\",\n",
    "    xrange=(-2.1, 2.1),\n",
    "    yrange=(-5.1, 5.1),\n",
    ")"
   ]
  },
  {
   "cell_type": "markdown",
   "metadata": {},
   "source": [
    "Note that squared weights (the colormap here) up to 1000 or even 10000 can still be perfectly fine and are in fact sometimes unavoidable."
   ]
  },
  {
   "cell_type": "markdown",
   "metadata": {},
   "source": [
    "## 5. Save setup"
   ]
  },
  {
   "cell_type": "markdown",
   "metadata": {},
   "source": [
    "The parameter space, benchmark points, and morphing setup are saved in a HDF5 file:"
   ]
  },
  {
   "cell_type": "code",
   "execution_count": 17,
   "metadata": {},
   "outputs": [
    {
     "name": "stderr",
     "output_type": "stream",
     "text": [
      "16:53 madminer.core.madmin INFO    Saving setup (including morphing) to data/setup-complete_ttbarLOset-test.h5\n"
     ]
    }
   ],
   "source": [
    "miner.save(\"data/setup-complete_ttbarLOset-test.h5\")"
   ]
  },
  {
   "cell_type": "code",
   "execution_count": null,
   "metadata": {},
   "outputs": [],
   "source": []
  },
  {
   "cell_type": "markdown",
   "metadata": {},
   "source": [
    "They can now be loaded again with `miner.load(filename)`."
   ]
  },
  {
   "cell_type": "markdown",
   "metadata": {},
   "source": [
    "That's it for the setup (we'll only add one step when talking about systematic uncertainties in part 5 of the tutorial). Please continue with part 2a **or** part 2b, depending on whether you want to run the faster parton-level analysis or the more realistic Delphes-level analysis."
   ]
  },
  {
   "cell_type": "code",
   "execution_count": 18,
   "metadata": {},
   "outputs": [
    {
     "data": {
      "text/plain": [
       "<KeysViewHDF5 ['benchmarks', 'morphing', 'parameters']>"
      ]
     },
     "execution_count": 18,
     "metadata": {},
     "output_type": "execute_result"
    }
   ],
   "source": [
    "import h5py\n",
    "import numpy as np\n",
    "setupfile = \"data/setup-complete_ttbarLOset-test.h5\"\n",
    "f = h5py.File(setupfile)\n",
    "f.keys()\n"
   ]
  },
  {
   "cell_type": "code",
   "execution_count": 19,
   "metadata": {},
   "outputs": [
    {
     "name": "stdout",
     "output_type": "stream",
     "text": [
      "--------------------------------------------------------------\n",
      "benchmarks:\n",
      "   is_nuisance: [0 0 0 0 0 0 0 0 0 0 0 0 0 0 0 0 0 0 0 0 0 0 0 0 0 0 0 0 0 0 0 0 0 0 0 0 0\n",
      " 0 0 0 0 0 0 0 0 0 0 0 0 0 0 0 0 0 0]\n",
      "   is_reference: [0 0 0 0 0 0 0 0 0 0 0 0 0 0 0 0 0 0 0 0 0 0 0 0 0 0 0 0 0 0 0 0 0 0 0 0 0\n",
      " 0 0 0 0 0 0 0 0 0 0 0 0 0 0 0 0 0 0]\n",
      "   names: [b'sm' b'ctG' b'neg_ctG' b'ctGI' b'neg_ctGI' b'cQq83' b'neg_cQq83'\n",
      " b'cQq81' b'neg_cQq81' b'cQu8' b'neg_cQu8' b'cQd8' b'neg_cQd8' b'ctq8'\n",
      " b'neg_ctq8' b'ctu8' b'neg_ctu8' b'ctd8' b'neg_ctd8' b'ctG_ctGI'\n",
      " b'ctG_cQq83' b'ctG_cQq81' b'ctG_cQu8' b'ctG_cQd8' b'ctG_ctq8' b'ctG_ctu8'\n",
      " b'ctG_ctd8' b'ctGI_cQq83' b'ctGI_cQq81' b'ctGI_cQu8' b'ctGI_cQd8'\n",
      " b'ctGI_ctq8' b'ctGI_ctu8' b'ctGI_ctd8' b'cQq83_cQq81' b'cQq83_cQu8'\n",
      " b'cQq83_cQd8' b'cQq83_ctq8' b'cQq83_ctu8' b'cQq83_ctd8' b'cQq81_cQu8'\n",
      " b'cQq81_cQd8' b'cQq81_ctq8' b'cQq81_ctu8' b'cQq81_ctd8' b'cQu8_cQd8'\n",
      " b'cQu8_ctq8' b'cQu8_ctu8' b'cQu8_ctd8' b'cQd8_ctq8' b'cQd8_ctu8'\n",
      " b'cQd8_ctd8' b'ctq8_ctu8' b'ctq8_ctd8' b'ctu8_ctd8']\n",
      "   values: [[ 0.  0.  0.  0.  0.  0.  0.  0.  0.]\n",
      " [ 2.  0.  0.  0.  0.  0.  0.  0.  0.]\n",
      " [-2.  0.  0.  0.  0.  0.  0.  0.  0.]\n",
      " [ 0.  2.  0.  0.  0.  0.  0.  0.  0.]\n",
      " [ 0. -2.  0.  0.  0.  0.  0.  0.  0.]\n",
      " [ 0.  0.  5.  0.  0.  0.  0.  0.  0.]\n",
      " [ 0.  0. -5.  0.  0.  0.  0.  0.  0.]\n",
      " [ 0.  0.  0.  5.  0.  0.  0.  0.  0.]\n",
      " [ 0.  0.  0. -5.  0.  0.  0.  0.  0.]\n",
      " [ 0.  0.  0.  0.  5.  0.  0.  0.  0.]\n",
      " [ 0.  0.  0.  0. -5.  0.  0.  0.  0.]\n",
      " [ 0.  0.  0.  0.  0.  5.  0.  0.  0.]\n",
      " [ 0.  0.  0.  0.  0. -5.  0.  0.  0.]\n",
      " [ 0.  0.  0.  0.  0.  0.  5.  0.  0.]\n",
      " [ 0.  0.  0.  0.  0.  0. -5.  0.  0.]\n",
      " [ 0.  0.  0.  0.  0.  0.  0.  5.  0.]\n",
      " [ 0.  0.  0.  0.  0.  0.  0. -5.  0.]\n",
      " [ 0.  0.  0.  0.  0.  0.  0.  0.  5.]\n",
      " [ 0.  0.  0.  0.  0.  0.  0.  0. -5.]\n",
      " [ 2.  2.  0.  0.  0.  0.  0.  0.  0.]\n",
      " [ 2.  0.  5.  0.  0.  0.  0.  0.  0.]\n",
      " [ 2.  0.  0.  5.  0.  0.  0.  0.  0.]\n",
      " [ 2.  0.  0.  0.  5.  0.  0.  0.  0.]\n",
      " [ 2.  0.  0.  0.  0.  5.  0.  0.  0.]\n",
      " [ 2.  0.  0.  0.  0.  0.  5.  0.  0.]\n",
      " [ 2.  0.  0.  0.  0.  0.  0.  5.  0.]\n",
      " [ 2.  0.  0.  0.  0.  0.  0.  0.  5.]\n",
      " [ 0.  2.  5.  0.  0.  0.  0.  0.  0.]\n",
      " [ 0.  2.  0.  5.  0.  0.  0.  0.  0.]\n",
      " [ 0.  2.  0.  0.  5.  0.  0.  0.  0.]\n",
      " [ 0.  2.  0.  0.  0.  5.  0.  0.  0.]\n",
      " [ 0.  2.  0.  0.  0.  0.  5.  0.  0.]\n",
      " [ 0.  2.  0.  0.  0.  0.  0.  5.  0.]\n",
      " [ 0.  2.  0.  0.  0.  0.  0.  0.  5.]\n",
      " [ 0.  0.  5.  5.  0.  0.  0.  0.  0.]\n",
      " [ 0.  0.  5.  0.  5.  0.  0.  0.  0.]\n",
      " [ 0.  0.  5.  0.  0.  5.  0.  0.  0.]\n",
      " [ 0.  0.  5.  0.  0.  0.  5.  0.  0.]\n",
      " [ 0.  0.  5.  0.  0.  0.  0.  5.  0.]\n",
      " [ 0.  0.  5.  0.  0.  0.  0.  0.  5.]\n",
      " [ 0.  0.  0.  5.  5.  0.  0.  0.  0.]\n",
      " [ 0.  0.  0.  5.  0.  5.  0.  0.  0.]\n",
      " [ 0.  0.  0.  5.  0.  0.  5.  0.  0.]\n",
      " [ 0.  0.  0.  5.  0.  0.  0.  5.  0.]\n",
      " [ 0.  0.  0.  5.  0.  0.  0.  0.  5.]\n",
      " [ 0.  0.  0.  0.  5.  5.  0.  0.  0.]\n",
      " [ 0.  0.  0.  0.  5.  0.  5.  0.  0.]\n",
      " [ 0.  0.  0.  0.  5.  0.  0.  5.  0.]\n",
      " [ 0.  0.  0.  0.  5.  0.  0.  0.  5.]\n",
      " [ 0.  0.  0.  0.  0.  5.  5.  0.  0.]\n",
      " [ 0.  0.  0.  0.  0.  5.  0.  5.  0.]\n",
      " [ 0.  0.  0.  0.  0.  5.  0.  0.  5.]\n",
      " [ 0.  0.  0.  0.  0.  0.  5.  5.  0.]\n",
      " [ 0.  0.  0.  0.  0.  0.  5.  0.  5.]\n",
      " [ 0.  0.  0.  0.  0.  0.  0.  5.  5.]]\n",
      "--------------------------------------------------------------\n",
      "morphing:\n",
      "   components: [[0 0 0 0 0 0 0 0 0]\n",
      " [0 0 0 0 0 0 0 0 1]\n",
      " [0 0 0 0 0 0 0 0 2]\n",
      " [0 0 0 0 0 0 0 1 0]\n",
      " [0 0 0 0 0 0 0 1 1]\n",
      " [0 0 0 0 0 0 0 2 0]\n",
      " [0 0 0 0 0 0 1 0 0]\n",
      " [0 0 0 0 0 0 1 0 1]\n",
      " [0 0 0 0 0 0 1 1 0]\n",
      " [0 0 0 0 0 0 2 0 0]\n",
      " [0 0 0 0 0 1 0 0 0]\n",
      " [0 0 0 0 0 1 0 0 1]\n",
      " [0 0 0 0 0 1 0 1 0]\n",
      " [0 0 0 0 0 1 1 0 0]\n",
      " [0 0 0 0 0 2 0 0 0]\n",
      " [0 0 0 0 1 0 0 0 0]\n",
      " [0 0 0 0 1 0 0 0 1]\n",
      " [0 0 0 0 1 0 0 1 0]\n",
      " [0 0 0 0 1 0 1 0 0]\n",
      " [0 0 0 0 1 1 0 0 0]\n",
      " [0 0 0 0 2 0 0 0 0]\n",
      " [0 0 0 1 0 0 0 0 0]\n",
      " [0 0 0 1 0 0 0 0 1]\n",
      " [0 0 0 1 0 0 0 1 0]\n",
      " [0 0 0 1 0 0 1 0 0]\n",
      " [0 0 0 1 0 1 0 0 0]\n",
      " [0 0 0 1 1 0 0 0 0]\n",
      " [0 0 0 2 0 0 0 0 0]\n",
      " [0 0 1 0 0 0 0 0 0]\n",
      " [0 0 1 0 0 0 0 0 1]\n",
      " [0 0 1 0 0 0 0 1 0]\n",
      " [0 0 1 0 0 0 1 0 0]\n",
      " [0 0 1 0 0 1 0 0 0]\n",
      " [0 0 1 0 1 0 0 0 0]\n",
      " [0 0 1 1 0 0 0 0 0]\n",
      " [0 0 2 0 0 0 0 0 0]\n",
      " [0 1 0 0 0 0 0 0 0]\n",
      " [0 1 0 0 0 0 0 0 1]\n",
      " [0 1 0 0 0 0 0 1 0]\n",
      " [0 1 0 0 0 0 1 0 0]\n",
      " [0 1 0 0 0 1 0 0 0]\n",
      " [0 1 0 0 1 0 0 0 0]\n",
      " [0 1 0 1 0 0 0 0 0]\n",
      " [0 1 1 0 0 0 0 0 0]\n",
      " [0 2 0 0 0 0 0 0 0]\n",
      " [1 0 0 0 0 0 0 0 0]\n",
      " [1 0 0 0 0 0 0 0 1]\n",
      " [1 0 0 0 0 0 0 1 0]\n",
      " [1 0 0 0 0 0 1 0 0]\n",
      " [1 0 0 0 0 1 0 0 0]\n",
      " [1 0 0 0 1 0 0 0 0]\n",
      " [1 0 0 1 0 0 0 0 0]\n",
      " [1 0 1 0 0 0 0 0 0]\n",
      " [1 1 0 0 0 0 0 0 0]\n",
      " [2 0 0 0 0 0 0 0 0]]\n",
      "   morphing_matrix: [[ 1.     0.     0.    ...  0.     0.     0.   ]\n",
      " [ 0.     0.     0.    ...  0.     0.     0.   ]\n",
      " [-0.04   0.     0.    ...  0.     0.     0.   ]\n",
      " ...\n",
      " [ 0.1   -0.1    0.    ...  0.     0.     0.   ]\n",
      " [ 0.25  -0.25  -0.    ... -0.    -0.    -0.   ]\n",
      " [-0.25   0.125  0.125 ...  0.     0.     0.   ]]\n",
      "--------------------------------------------------------------\n",
      "parameters:\n",
      "   lha_blocks: [b'DIM6' b'DIM6' b'DIM6' b'DIM6' b'DIM6' b'DIM6' b'DIM6' b'DIM6' b'DIM6']\n",
      "   lha_ids: [16 17 51 52 53 54 55 56 57]\n",
      "   max_power: [2 2 2 2 2 2 2 2 2]\n",
      "   names: [b'ctG' b'ctGI' b'cQq83' b'cQq81' b'cQu8' b'cQd8' b'ctq8' b'ctu8' b'ctd8']\n",
      "   transforms: [b'1*theta' b'1*theta' b'1*theta' b'1*theta' b'1*theta' b'1*theta'\n",
      " b'1*theta' b'1*theta' b'1*theta']\n",
      "   val_ranges: [[-2.  2.]\n",
      " [-2.  2.]\n",
      " [-5.  5.]\n",
      " [-5.  5.]\n",
      " [-5.  5.]\n",
      " [-5.  5.]\n",
      " [-5.  5.]\n",
      " [-5.  5.]\n",
      " [-5.  5.]]\n"
     ]
    }
   ],
   "source": [
    "for key in f.keys():\n",
    "    print(\"--------------------------------------------------------------\")\n",
    "    print(key+\":\")\n",
    "    for string in np.array(f[key]):\n",
    "        print(\"  \",string +\":\", np.array(f[key][string]))\n",
    "    print\n",
    "f.close()"
   ]
  },
  {
   "cell_type": "code",
   "execution_count": 20,
   "metadata": {},
   "outputs": [
    {
     "name": "stdout",
     "output_type": "stream",
     "text": [
      "[[ 0.  0.  0.  0.  0.  0.  0.  0.  0.]\n",
      " [ 2.  0.  0.  0.  0.  0.  0.  0.  0.]\n",
      " [-2.  0.  0.  0.  0.  0.  0.  0.  0.]\n",
      " [ 0.  2.  0.  0.  0.  0.  0.  0.  0.]\n",
      " [ 0. -2.  0.  0.  0.  0.  0.  0.  0.]\n",
      " [ 0.  0.  5.  0.  0.  0.  0.  0.  0.]\n",
      " [ 0.  0. -5.  0.  0.  0.  0.  0.  0.]\n",
      " [ 0.  0.  0.  5.  0.  0.  0.  0.  0.]\n",
      " [ 0.  0.  0. -5.  0.  0.  0.  0.  0.]\n",
      " [ 0.  0.  0.  0.  5.  0.  0.  0.  0.]\n",
      " [ 0.  0.  0.  0. -5.  0.  0.  0.  0.]\n",
      " [ 0.  0.  0.  0.  0.  5.  0.  0.  0.]\n",
      " [ 0.  0.  0.  0.  0. -5.  0.  0.  0.]\n",
      " [ 0.  0.  0.  0.  0.  0.  5.  0.  0.]\n",
      " [ 0.  0.  0.  0.  0.  0. -5.  0.  0.]\n",
      " [ 0.  0.  0.  0.  0.  0.  0.  5.  0.]\n",
      " [ 0.  0.  0.  0.  0.  0.  0. -5.  0.]\n",
      " [ 0.  0.  0.  0.  0.  0.  0.  0.  5.]\n",
      " [ 0.  0.  0.  0.  0.  0.  0.  0. -5.]\n",
      " [ 2.  2.  0.  0.  0.  0.  0.  0.  0.]\n",
      " [ 2.  0.  5.  0.  0.  0.  0.  0.  0.]\n",
      " [ 2.  0.  0.  5.  0.  0.  0.  0.  0.]\n",
      " [ 2.  0.  0.  0.  5.  0.  0.  0.  0.]\n",
      " [ 2.  0.  0.  0.  0.  5.  0.  0.  0.]\n",
      " [ 2.  0.  0.  0.  0.  0.  5.  0.  0.]\n",
      " [ 2.  0.  0.  0.  0.  0.  0.  5.  0.]\n",
      " [ 2.  0.  0.  0.  0.  0.  0.  0.  5.]\n",
      " [ 0.  2.  5.  0.  0.  0.  0.  0.  0.]\n",
      " [ 0.  2.  0.  5.  0.  0.  0.  0.  0.]\n",
      " [ 0.  2.  0.  0.  5.  0.  0.  0.  0.]\n",
      " [ 0.  2.  0.  0.  0.  5.  0.  0.  0.]\n",
      " [ 0.  2.  0.  0.  0.  0.  5.  0.  0.]\n",
      " [ 0.  2.  0.  0.  0.  0.  0.  5.  0.]\n",
      " [ 0.  2.  0.  0.  0.  0.  0.  0.  5.]\n",
      " [ 0.  0.  5.  5.  0.  0.  0.  0.  0.]\n",
      " [ 0.  0.  5.  0.  5.  0.  0.  0.  0.]\n",
      " [ 0.  0.  5.  0.  0.  5.  0.  0.  0.]\n",
      " [ 0.  0.  5.  0.  0.  0.  5.  0.  0.]\n",
      " [ 0.  0.  5.  0.  0.  0.  0.  5.  0.]\n",
      " [ 0.  0.  5.  0.  0.  0.  0.  0.  5.]\n",
      " [ 0.  0.  0.  5.  5.  0.  0.  0.  0.]\n",
      " [ 0.  0.  0.  5.  0.  5.  0.  0.  0.]\n",
      " [ 0.  0.  0.  5.  0.  0.  5.  0.  0.]\n",
      " [ 0.  0.  0.  5.  0.  0.  0.  5.  0.]\n",
      " [ 0.  0.  0.  5.  0.  0.  0.  0.  5.]\n",
      " [ 0.  0.  0.  0.  5.  5.  0.  0.  0.]\n",
      " [ 0.  0.  0.  0.  5.  0.  5.  0.  0.]\n",
      " [ 0.  0.  0.  0.  5.  0.  0.  5.  0.]\n",
      " [ 0.  0.  0.  0.  5.  0.  0.  0.  5.]\n",
      " [ 0.  0.  0.  0.  0.  5.  5.  0.  0.]\n",
      " [ 0.  0.  0.  0.  0.  5.  0.  5.  0.]\n",
      " [ 0.  0.  0.  0.  0.  5.  0.  0.  5.]\n",
      " [ 0.  0.  0.  0.  0.  0.  5.  5.  0.]\n",
      " [ 0.  0.  0.  0.  0.  0.  5.  0.  5.]\n",
      " [ 0.  0.  0.  0.  0.  0.  0.  5.  5.]]\n"
     ]
    }
   ],
   "source": [
    "import h5py\n",
    "import numpy as np\n",
    "setupfile = \"data/setup-complete_ttbarLOset-test.h5\"\n",
    "f = h5py.File(setupfile)\n",
    "print(np.array(f['benchmarks']['values']))\n",
    "\n"
   ]
  },
  {
   "cell_type": "code",
   "execution_count": 21,
   "metadata": {},
   "outputs": [
    {
     "data": {
      "text/plain": [
       "55"
      ]
     },
     "execution_count": 21,
     "metadata": {},
     "output_type": "execute_result"
    }
   ],
   "source": [
    "len(np.array(f['benchmarks']['values']))"
   ]
  },
  {
   "cell_type": "code",
   "execution_count": 22,
   "metadata": {},
   "outputs": [],
   "source": [
    "nscenarios=len(np.array(f['benchmarks']['values']))\n",
    "ncouplings=len(np.array(f['benchmarks']['values'][0]))\n",
    "i=0\n",
    "dim6topMatrix=np.zeros((nscenarios,ncouplings))\n",
    "for scenario in np.array(f['benchmarks']['values']):\n",
    "    j=0\n",
    "    for coupling in scenario:\n",
    "        dim6topMatrix[i,j] = coupling\n",
    "        j=j+1\n",
    "    i=i+1"
   ]
  },
  {
   "cell_type": "code",
   "execution_count": 23,
   "metadata": {},
   "outputs": [
    {
     "name": "stdout",
     "output_type": "stream",
     "text": [
      "[[ 0.  0.  0.  0.  0.  0.  0.  0.  0.]\n",
      " [ 2.  0.  0.  0.  0.  0.  0.  0.  0.]\n",
      " [-2.  0.  0.  0.  0.  0.  0.  0.  0.]\n",
      " [ 0.  2.  0.  0.  0.  0.  0.  0.  0.]\n",
      " [ 0. -2.  0.  0.  0.  0.  0.  0.  0.]\n",
      " [ 0.  0.  5.  0.  0.  0.  0.  0.  0.]\n",
      " [ 0.  0. -5.  0.  0.  0.  0.  0.  0.]\n",
      " [ 0.  0.  0.  5.  0.  0.  0.  0.  0.]\n",
      " [ 0.  0.  0. -5.  0.  0.  0.  0.  0.]\n",
      " [ 0.  0.  0.  0.  5.  0.  0.  0.  0.]\n",
      " [ 0.  0.  0.  0. -5.  0.  0.  0.  0.]\n",
      " [ 0.  0.  0.  0.  0.  5.  0.  0.  0.]\n",
      " [ 0.  0.  0.  0.  0. -5.  0.  0.  0.]\n",
      " [ 0.  0.  0.  0.  0.  0.  5.  0.  0.]\n",
      " [ 0.  0.  0.  0.  0.  0. -5.  0.  0.]\n",
      " [ 0.  0.  0.  0.  0.  0.  0.  5.  0.]\n",
      " [ 0.  0.  0.  0.  0.  0.  0. -5.  0.]\n",
      " [ 0.  0.  0.  0.  0.  0.  0.  0.  5.]\n",
      " [ 0.  0.  0.  0.  0.  0.  0.  0. -5.]\n",
      " [ 2.  2.  0.  0.  0.  0.  0.  0.  0.]\n",
      " [ 2.  0.  5.  0.  0.  0.  0.  0.  0.]\n",
      " [ 2.  0.  0.  5.  0.  0.  0.  0.  0.]\n",
      " [ 2.  0.  0.  0.  5.  0.  0.  0.  0.]\n",
      " [ 2.  0.  0.  0.  0.  5.  0.  0.  0.]\n",
      " [ 2.  0.  0.  0.  0.  0.  5.  0.  0.]\n",
      " [ 2.  0.  0.  0.  0.  0.  0.  5.  0.]\n",
      " [ 2.  0.  0.  0.  0.  0.  0.  0.  5.]\n",
      " [ 0.  2.  5.  0.  0.  0.  0.  0.  0.]\n",
      " [ 0.  2.  0.  5.  0.  0.  0.  0.  0.]\n",
      " [ 0.  2.  0.  0.  5.  0.  0.  0.  0.]\n",
      " [ 0.  2.  0.  0.  0.  5.  0.  0.  0.]\n",
      " [ 0.  2.  0.  0.  0.  0.  5.  0.  0.]\n",
      " [ 0.  2.  0.  0.  0.  0.  0.  5.  0.]\n",
      " [ 0.  2.  0.  0.  0.  0.  0.  0.  5.]\n",
      " [ 0.  0.  5.  5.  0.  0.  0.  0.  0.]\n",
      " [ 0.  0.  5.  0.  5.  0.  0.  0.  0.]\n",
      " [ 0.  0.  5.  0.  0.  5.  0.  0.  0.]\n",
      " [ 0.  0.  5.  0.  0.  0.  5.  0.  0.]\n",
      " [ 0.  0.  5.  0.  0.  0.  0.  5.  0.]\n",
      " [ 0.  0.  5.  0.  0.  0.  0.  0.  5.]\n",
      " [ 0.  0.  0.  5.  5.  0.  0.  0.  0.]\n",
      " [ 0.  0.  0.  5.  0.  5.  0.  0.  0.]\n",
      " [ 0.  0.  0.  5.  0.  0.  5.  0.  0.]\n",
      " [ 0.  0.  0.  5.  0.  0.  0.  5.  0.]\n",
      " [ 0.  0.  0.  5.  0.  0.  0.  0.  5.]\n",
      " [ 0.  0.  0.  0.  5.  5.  0.  0.  0.]\n",
      " [ 0.  0.  0.  0.  5.  0.  5.  0.  0.]\n",
      " [ 0.  0.  0.  0.  5.  0.  0.  5.  0.]\n",
      " [ 0.  0.  0.  0.  5.  0.  0.  0.  5.]\n",
      " [ 0.  0.  0.  0.  0.  5.  5.  0.  0.]\n",
      " [ 0.  0.  0.  0.  0.  5.  0.  5.  0.]\n",
      " [ 0.  0.  0.  0.  0.  5.  0.  0.  5.]\n",
      " [ 0.  0.  0.  0.  0.  0.  5.  5.  0.]\n",
      " [ 0.  0.  0.  0.  0.  0.  5.  0.  5.]\n",
      " [ 0.  0.  0.  0.  0.  0.  0.  5.  5.]]\n"
     ]
    }
   ],
   "source": [
    "print(dim6topMatrix)"
   ]
  },
  {
   "cell_type": "code",
   "execution_count": 24,
   "metadata": {},
   "outputs": [
    {
     "name": "stdout",
     "output_type": "stream",
     "text": [
      "COUPSDIM6TOP[0]=' ctG ; 0 ;  2 ;  -2 ;  0 ;  0 ;  0 ;  0 ;  0 ;  0 ;  0 ;  0 ;  0 ;  0 ;  0 ;  0 ;  0 ;  0 ;  0 ;  0 ;  2 ;  2 ;  2 ;  2 ;  2 ;  2 ;  2 ;  2 ;  0 ;  0 ;  0 ;  0 ;  0 ;  0 ;  0 ;  0 ;  0 ;  0 ;  0 ;  0 ;  0 ;  0 ;  0 ;  0 ;  0 ;  0 ;  0 ;  0 ;  0 ;  0 ;  0 ;  0 ;  0 ;  0 ;  0 ;  0 ;  0 ' \n",
      "COUPSDIM6TOP[1]=' ctGI ; 0 ;  0 ;  0 ;  2 ;  -2 ;  0 ;  0 ;  0 ;  0 ;  0 ;  0 ;  0 ;  0 ;  0 ;  0 ;  0 ;  0 ;  0 ;  0 ;  2 ;  0 ;  0 ;  0 ;  0 ;  0 ;  0 ;  0 ;  2 ;  2 ;  2 ;  2 ;  2 ;  2 ;  2 ;  0 ;  0 ;  0 ;  0 ;  0 ;  0 ;  0 ;  0 ;  0 ;  0 ;  0 ;  0 ;  0 ;  0 ;  0 ;  0 ;  0 ;  0 ;  0 ;  0 ;  0 ;  0 ' \n",
      "COUPSDIM6TOP[2]=' cQq83 ; 0 ;  0 ;  0 ;  0 ;  0 ;  5 ;  -5 ;  0 ;  0 ;  0 ;  0 ;  0 ;  0 ;  0 ;  0 ;  0 ;  0 ;  0 ;  0 ;  0 ;  5 ;  0 ;  0 ;  0 ;  0 ;  0 ;  0 ;  5 ;  0 ;  0 ;  0 ;  0 ;  0 ;  0 ;  5 ;  5 ;  5 ;  5 ;  5 ;  5 ;  0 ;  0 ;  0 ;  0 ;  0 ;  0 ;  0 ;  0 ;  0 ;  0 ;  0 ;  0 ;  0 ;  0 ;  0 ;  0 ' \n",
      "COUPSDIM6TOP[3]=' cQq81 ; 0 ;  0 ;  0 ;  0 ;  0 ;  0 ;  0 ;  5 ;  -5 ;  0 ;  0 ;  0 ;  0 ;  0 ;  0 ;  0 ;  0 ;  0 ;  0 ;  0 ;  0 ;  5 ;  0 ;  0 ;  0 ;  0 ;  0 ;  0 ;  5 ;  0 ;  0 ;  0 ;  0 ;  0 ;  5 ;  0 ;  0 ;  0 ;  0 ;  0 ;  5 ;  5 ;  5 ;  5 ;  5 ;  0 ;  0 ;  0 ;  0 ;  0 ;  0 ;  0 ;  0 ;  0 ;  0 ;  0 ' \n",
      "COUPSDIM6TOP[4]=' cQu8 ; 0 ;  0 ;  0 ;  0 ;  0 ;  0 ;  0 ;  0 ;  0 ;  5 ;  -5 ;  0 ;  0 ;  0 ;  0 ;  0 ;  0 ;  0 ;  0 ;  0 ;  0 ;  0 ;  5 ;  0 ;  0 ;  0 ;  0 ;  0 ;  0 ;  5 ;  0 ;  0 ;  0 ;  0 ;  0 ;  5 ;  0 ;  0 ;  0 ;  0 ;  5 ;  0 ;  0 ;  0 ;  0 ;  5 ;  5 ;  5 ;  5 ;  0 ;  0 ;  0 ;  0 ;  0 ;  0 ;  5 ' \n",
      "COUPSDIM6TOP[5]=' cQd8 ; 0 ;  0 ;  0 ;  0 ;  0 ;  0 ;  0 ;  0 ;  0 ;  0 ;  0 ;  5 ;  -5 ;  0 ;  0 ;  0 ;  0 ;  0 ;  0 ;  0 ;  0 ;  0 ;  0 ;  5 ;  0 ;  0 ;  0 ;  0 ;  0 ;  0 ;  5 ;  0 ;  0 ;  0 ;  0 ;  0 ;  5 ;  0 ;  0 ;  0 ;  0 ;  5 ;  0 ;  0 ;  0 ;  5 ;  0 ;  0 ;  0 ;  5 ;  5 ;  5 ;  0 ;  0 ;  0 ;  0 ' \n",
      "COUPSDIM6TOP[6]=' ctq8 ; 0 ;  0 ;  0 ;  0 ;  0 ;  0 ;  0 ;  0 ;  0 ;  0 ;  0 ;  0 ;  0 ;  5 ;  -5 ;  0 ;  0 ;  0 ;  0 ;  0 ;  0 ;  0 ;  0 ;  0 ;  5 ;  0 ;  0 ;  0 ;  0 ;  0 ;  0 ;  5 ;  0 ;  0 ;  0 ;  0 ;  0 ;  5 ;  0 ;  0 ;  0 ;  0 ;  5 ;  0 ;  0 ;  0 ;  5 ;  0 ;  0 ;  5 ;  0 ;  0 ;  5 ;  5 ;  0 ;  0 ' \n",
      "COUPSDIM6TOP[7]=' ctu8 ; 0 ;  0 ;  0 ;  0 ;  0 ;  0 ;  0 ;  0 ;  0 ;  0 ;  0 ;  0 ;  0 ;  0 ;  0 ;  5 ;  -5 ;  0 ;  0 ;  0 ;  0 ;  0 ;  0 ;  0 ;  0 ;  5 ;  0 ;  0 ;  0 ;  0 ;  0 ;  0 ;  5 ;  0 ;  0 ;  0 ;  0 ;  0 ;  5 ;  0 ;  0 ;  0 ;  0 ;  5 ;  0 ;  0 ;  0 ;  5 ;  0 ;  0 ;  5 ;  0 ;  5 ;  0 ;  5 ;  0 ' \n",
      "COUPSDIM6TOP[8]=' ctd8 ; 0 ;  0 ;  0 ;  0 ;  0 ;  0 ;  0 ;  0 ;  0 ;  0 ;  0 ;  0 ;  0 ;  0 ;  0 ;  0 ;  0 ;  5 ;  -5 ;  0 ;  0 ;  0 ;  0 ;  0 ;  0 ;  0 ;  5 ;  0 ;  0 ;  0 ;  0 ;  0 ;  0 ;  5 ;  0 ;  0 ;  0 ;  0 ;  0 ;  5 ;  0 ;  0 ;  0 ;  0 ;  5 ;  0 ;  0 ;  0 ;  5 ;  0 ;  0 ;  5 ;  0 ;  5 ;  5 ;  0 ' \n"
     ]
    }
   ],
   "source": [
    "nscenarios=len(np.array(f['benchmarks']['values']))\n",
    "dim6top = [ \"ctG\",\"ctGI\", \"cQq83\",\"cQq81\",\"cQu8\",\"cQd8\",\"ctq8\",\"ctu8\",\"ctd8\" ]\n",
    "for i in range(len(dim6top)):\n",
    "    COUPTAG = (\"COUPSDIM6TOP[%s]=' %s ;\"%(i,dim6top[i]))\n",
    "    j=0\n",
    "    for j in range(nscenarios):\n",
    "        COUPTAG = COUPTAG + (\" %.4g ; \"%dim6topMatrix[j,i]) \n",
    "    COUPTAG = COUPTAG + (\" %.4g ' \"%dim6topMatrix[len(dim6top),i]) \n",
    "    print(COUPTAG)"
   ]
  },
  {
   "cell_type": "code",
   "execution_count": null,
   "metadata": {},
   "outputs": [],
   "source": []
  }
 ],
 "metadata": {
  "kernelspec": {
   "display_name": "Python 3",
   "language": "python",
   "name": "python3"
  },
  "language_info": {
   "codemirror_mode": {
    "name": "ipython",
    "version": 3
   },
   "file_extension": ".py",
   "mimetype": "text/x-python",
   "name": "python",
   "nbconvert_exporter": "python",
   "pygments_lexer": "ipython3",
   "version": "3.7.13"
  }
 },
 "nbformat": 4,
 "nbformat_minor": 2
}
