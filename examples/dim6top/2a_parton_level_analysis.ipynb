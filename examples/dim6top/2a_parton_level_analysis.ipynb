{
 "cells": [
  {
   "cell_type": "markdown",
   "metadata": {},
   "source": [
    "# MadMiner physics tutorial (part 2A)\n",
    "\n",
    "Johann Brehmer, Felix Kling, Irina Espejo, and Kyle Cranmer 2018-2019"
   ]
  },
  {
   "cell_type": "markdown",
   "metadata": {},
   "source": [
    "In this second part of the tutorial, we'll generate events and extract the observables and weights from them. You have two options: In this notebook we'll do this at parton level, in the alternative part 2b we use Delphes."
   ]
  },
  {
   "cell_type": "markdown",
   "metadata": {},
   "source": [
    "## 0. Preparations"
   ]
  },
  {
   "cell_type": "markdown",
   "metadata": {},
   "source": [
    "Before you execute this notebook, make sure you have a running installation of MadGraph."
   ]
  },
  {
   "cell_type": "code",
   "execution_count": 1,
   "metadata": {},
   "outputs": [],
   "source": [
    "import os\n",
    "import logging\n",
    "import numpy as np\n",
    "\n",
    "from madminer.core import MadMiner\n",
    "from madminer.lhe import LHEReader\n",
    "from madminer.sampling import combine_and_shuffle\n",
    "from madminer.plotting import plot_distributions\n",
    "from particle import Particle"
   ]
  },
  {
   "cell_type": "code",
   "execution_count": 2,
   "metadata": {},
   "outputs": [],
   "source": [
    "# MadMiner output\n",
    "logging.basicConfig(\n",
    "    format=\"%(asctime)-5.5s %(name)-20.20s %(levelname)-7.7s %(message)s\",\n",
    "    datefmt=\"%H:%M\",\n",
    "    level=logging.DEBUG,\n",
    ")\n",
    "\n",
    "# Output of all other modules (e.g. matplotlib)\n",
    "for key in logging.Logger.manager.loggerDict:\n",
    "    if \"madminer\" not in key:\n",
    "        logging.getLogger(key).setLevel(logging.WARNING)"
   ]
  },
  {
   "cell_type": "code",
   "execution_count": 3,
   "metadata": {},
   "outputs": [],
   "source": [
    "#mg_dir = os.getenv(\"/Users/zimermma/work/MG5_aMC_v3_1_0/\")\n",
    "mg_dir=\"/nfs/dust/cms/user/zimermma/madminer/MG5_aMC_v2_8_3_2\""
   ]
  },
  {
   "cell_type": "markdown",
   "metadata": {},
   "source": [
    "## 1. Generate events"
   ]
  },
  {
   "cell_type": "markdown",
   "metadata": {},
   "source": [
    "Please enter here the environment variable pointing to your MG5 installation folder."
   ]
  },
  {
   "cell_type": "markdown",
   "metadata": {},
   "source": [
    "Let's load our setup:"
   ]
  },
  {
   "cell_type": "code",
   "execution_count": 4,
   "metadata": {},
   "outputs": [
    {
     "name": "stderr",
     "output_type": "stream",
     "text": [
      "12:20 madminer.utils.inter ERROR   HDF5 file does not contain nuisance parameters information\n",
      "12:20 madminer.utils.inter ERROR   HDF5 file does not contain finite difference information\n",
      "12:20 madminer.utils.inter ERROR   HDF5 file does not contain observables information\n",
      "12:20 madminer.utils.inter ERROR   HDF5 file does not contain sample summary information\n",
      "12:20 madminer.utils.inter ERROR   HDF5 file does not contain sample information\n",
      "12:20 madminer.utils.inter ERROR   HDF5 file does not contain systematic information\n",
      "12:20 madminer.core.madmin INFO    Found 2 parameters:\n",
      "12:20 madminer.core.madmin INFO       ctG (LHA: DIM6 16, Power: 2, Range: (-2.0, 2.0)Label: None)\n",
      "12:20 madminer.core.madmin INFO       ctq8 (LHA: DIM6 55, Power: 2, Range: (-5.0, 5.0)Label: None)\n",
      "12:20 madminer.core.madmin INFO    Found 6 benchmarks:\n",
      "12:20 madminer.core.madmin INFO       sm: ctG = 0.00e+00, ctq8 = 0.00e+00\n",
      "12:20 madminer.core.madmin INFO       ctG: ctG = 2.00, ctq8 = 0.00e+00\n",
      "12:20 madminer.core.madmin INFO       neg_ctG: ctG = -2.00e+00, ctq8 = 0.00e+00\n",
      "12:20 madminer.core.madmin INFO       ctq8: ctG = 0.00e+00, ctq8 = 5.00\n",
      "12:20 madminer.core.madmin INFO       neg_ctq8: ctG = 0.00e+00, ctq8 = -5.00e+00\n",
      "12:20 madminer.core.madmin INFO       morphing_basis_vector_5: ctG = 1.96, ctq8 = -4.89e+00\n",
      "12:20 madminer.core.madmin INFO    Found morphing setup with 6 components\n",
      "12:20 madminer.core.madmin INFO    Did not find systematics setup.\n"
     ]
    }
   ],
   "source": [
    "miner = MadMiner()\n",
    "miner.load(\"data/setup-Jonas-test.h5\")"
   ]
  },
  {
   "cell_type": "markdown",
   "metadata": {},
   "source": [
    "In a next step, MadMiner starts MadGraph to generate events and calculate the weights. You can use `run()` or `run_multiple()`; the latter allows to generate different runs with different run cards and optimizing the phase space for different benchmark points. \n",
    "\n",
    "In either case, you have to provide paths to the process card, run card, param card (the entries corresponding to the parameters of interest will be automatically adapted), and an empty reweight card. Log files in the `log_directory` folder collect the MadGraph output and are important for debugging.\n",
    "\n",
    "The `sample_benchmark` (or in the case of `run_all`, `sample_benchmarks`) option can be used to specify which benchmark should be used for sampling, i.e. for which benchmark point the phase space is optimized. If you just use one benchmark, reweighting to far-away points in parameter space can lead to large event weights and thus large statistical fluctuations. It is therefore often a good idea to combine a lot of events at the \"reference hypothesis\" (for us the SM) and smaller samples from other benchmarks that span the parameter space.\n"
   ]
  },
  {
   "cell_type": "code",
   "execution_count": null,
   "metadata": {},
   "outputs": [],
   "source": [
    "miner.run(\n",
    "    sample_benchmark=\"sm\",\n",
    "    mg_directory=mg_dir,\n",
    "    mg_process_directory=\"./mg_processes/signal1\",\n",
    "    proc_card_file=\"cards/proc_card_signal.dat\",\n",
    "    param_card_template_file=\"cards/param_card_template.dat\",\n",
    "    run_card_file=\"cards/run_card_signal_large.dat\",\n",
    "    log_directory=\"logs/signal\",\n",
    "    python_executable=\"python3\",\n",
    ")"
   ]
  },
  {
   "cell_type": "code",
   "execution_count": 6,
   "metadata": {},
   "outputs": [],
   "source": [
    "additional_benchmarks = [\"ctG\", \"neg_ctG\", \"ctq8\", \"neg_ctq8\"]"
   ]
  },
  {
   "cell_type": "code",
   "execution_count": 7,
   "metadata": {},
   "outputs": [
    {
     "name": "stderr",
     "output_type": "stream",
     "text": [
      "14:37 madminer.core.madmin INFO    Adding python3 bin folder to PATH\n",
      "14:37 madminer.core.madmin INFO    Using Python executable /nfs/dust/cms/user/zimermma/miniconda3/envs/madminer/bin/python3\n",
      "14:37 madminer.utils.inter INFO    Generating MadGraph process folder from cards/proc_card_signal.dat at ./mg_processes/signal2\n",
      "14:37 madminer.utils.inter INFO    Calling MadGraph: export PATH=/nfs/dust/cms/user/zimermma/miniconda3/envs/madminer/bin:$PATH; python3 /nfs/dust/cms/user/zimermma/madminer/MG5_aMC_v2_8_3_2/bin/mg5_aMC /tmp/generate.mg5\n",
      "14:38 madminer.core.madmin INFO    Run 0\n",
      "14:38 madminer.core.madmin INFO      Sampling from benchmark: ctG\n",
      "14:38 madminer.core.madmin INFO      Original run card:       cards/run_card_signal_small.dat\n",
      "14:38 madminer.core.madmin INFO      Original Pythia8 card:   None\n",
      "14:38 madminer.core.madmin INFO      Original config card:    None\n",
      "14:38 madminer.core.madmin INFO      Copied run card:         madminer/cards/run_card_0.dat\n",
      "14:38 madminer.core.madmin INFO      Copied Pythia8 card:     None\n",
      "14:38 madminer.core.madmin INFO      Copied config card:      None\n",
      "14:38 madminer.core.madmin INFO      Param card:              madminer/cards/param_card_0.dat\n",
      "14:38 madminer.core.madmin INFO      Reweight card:           madminer/cards/reweight_card_0.dat\n",
      "14:38 madminer.core.madmin INFO      Log file:                run_0.log\n",
      "14:38 madminer.core.madmin INFO    Creating param and reweight cards in ./mg_processes/signal2/madminer/cards/param_card_0.dat, ./mg_processes/signal2/madminer/cards/reweight_card_0.dat\n",
      "14:38 madminer.utils.inter INFO    Starting MadGraph and Pythia in ./mg_processes/signal2\n",
      "14:38 madminer.utils.inter INFO    Calling MadGraph: export PATH=/nfs/dust/cms/user/zimermma/miniconda3/envs/madminer/bin:$PATH; python3 /nfs/dust/cms/user/zimermma/madminer/MG5_aMC_v2_8_3_2/bin/mg5_aMC ./mg_processes/signal2/madminer/cards/mg_commands_0.dat\n",
      "14:40 madminer.core.madmin INFO    Run 1\n",
      "14:40 madminer.core.madmin INFO      Sampling from benchmark: neg_ctG\n",
      "14:40 madminer.core.madmin INFO      Original run card:       cards/run_card_signal_small.dat\n",
      "14:40 madminer.core.madmin INFO      Original Pythia8 card:   None\n",
      "14:40 madminer.core.madmin INFO      Original config card:    None\n",
      "14:40 madminer.core.madmin INFO      Copied run card:         madminer/cards/run_card_1.dat\n",
      "14:40 madminer.core.madmin INFO      Copied Pythia8 card:     None\n",
      "14:40 madminer.core.madmin INFO      Copied config card:      None\n",
      "14:40 madminer.core.madmin INFO      Param card:              madminer/cards/param_card_1.dat\n",
      "14:40 madminer.core.madmin INFO      Reweight card:           madminer/cards/reweight_card_1.dat\n",
      "14:40 madminer.core.madmin INFO      Log file:                run_1.log\n",
      "14:40 madminer.core.madmin INFO    Creating param and reweight cards in ./mg_processes/signal2/madminer/cards/param_card_1.dat, ./mg_processes/signal2/madminer/cards/reweight_card_1.dat\n",
      "14:40 madminer.utils.inter INFO    Starting MadGraph and Pythia in ./mg_processes/signal2\n",
      "14:40 madminer.utils.inter INFO    Calling MadGraph: export PATH=/nfs/dust/cms/user/zimermma/miniconda3/envs/madminer/bin:$PATH; python3 /nfs/dust/cms/user/zimermma/madminer/MG5_aMC_v2_8_3_2/bin/mg5_aMC ./mg_processes/signal2/madminer/cards/mg_commands_1.dat\n",
      "14:43 madminer.core.madmin INFO    Run 2\n",
      "14:43 madminer.core.madmin INFO      Sampling from benchmark: ctq8\n",
      "14:43 madminer.core.madmin INFO      Original run card:       cards/run_card_signal_small.dat\n",
      "14:43 madminer.core.madmin INFO      Original Pythia8 card:   None\n",
      "14:43 madminer.core.madmin INFO      Original config card:    None\n",
      "14:43 madminer.core.madmin INFO      Copied run card:         madminer/cards/run_card_2.dat\n",
      "14:43 madminer.core.madmin INFO      Copied Pythia8 card:     None\n",
      "14:43 madminer.core.madmin INFO      Copied config card:      None\n",
      "14:43 madminer.core.madmin INFO      Param card:              madminer/cards/param_card_2.dat\n",
      "14:43 madminer.core.madmin INFO      Reweight card:           madminer/cards/reweight_card_2.dat\n",
      "14:43 madminer.core.madmin INFO      Log file:                run_2.log\n",
      "14:43 madminer.core.madmin INFO    Creating param and reweight cards in ./mg_processes/signal2/madminer/cards/param_card_2.dat, ./mg_processes/signal2/madminer/cards/reweight_card_2.dat\n",
      "14:43 madminer.utils.inter INFO    Starting MadGraph and Pythia in ./mg_processes/signal2\n",
      "14:43 madminer.utils.inter INFO    Calling MadGraph: export PATH=/nfs/dust/cms/user/zimermma/miniconda3/envs/madminer/bin:$PATH; python3 /nfs/dust/cms/user/zimermma/madminer/MG5_aMC_v2_8_3_2/bin/mg5_aMC ./mg_processes/signal2/madminer/cards/mg_commands_2.dat\n",
      "14:45 madminer.core.madmin INFO    Run 3\n",
      "14:45 madminer.core.madmin INFO      Sampling from benchmark: neg_ctq8\n",
      "14:45 madminer.core.madmin INFO      Original run card:       cards/run_card_signal_small.dat\n",
      "14:45 madminer.core.madmin INFO      Original Pythia8 card:   None\n",
      "14:45 madminer.core.madmin INFO      Original config card:    None\n",
      "14:45 madminer.core.madmin INFO      Copied run card:         madminer/cards/run_card_3.dat\n",
      "14:45 madminer.core.madmin INFO      Copied Pythia8 card:     None\n",
      "14:45 madminer.core.madmin INFO      Copied config card:      None\n",
      "14:45 madminer.core.madmin INFO      Param card:              madminer/cards/param_card_3.dat\n",
      "14:45 madminer.core.madmin INFO      Reweight card:           madminer/cards/reweight_card_3.dat\n",
      "14:45 madminer.core.madmin INFO      Log file:                run_3.log\n",
      "14:45 madminer.core.madmin INFO    Creating param and reweight cards in ./mg_processes/signal2/madminer/cards/param_card_3.dat, ./mg_processes/signal2/madminer/cards/reweight_card_3.dat\n",
      "14:45 madminer.utils.inter INFO    Starting MadGraph and Pythia in ./mg_processes/signal2\n",
      "14:45 madminer.utils.inter INFO    Calling MadGraph: export PATH=/nfs/dust/cms/user/zimermma/miniconda3/envs/madminer/bin:$PATH; python3 /nfs/dust/cms/user/zimermma/madminer/MG5_aMC_v2_8_3_2/bin/mg5_aMC ./mg_processes/signal2/madminer/cards/mg_commands_3.dat\n",
      "14:47 madminer.core.madmin INFO    Finished running MadGraph! Please check that events were successfully generated in the following folders:\n",
      "\n",
      "./mg_processes/signal2/Events/run_01\n",
      "./mg_processes/signal2/Events/run_02\n",
      "./mg_processes/signal2/Events/run_03\n",
      "./mg_processes/signal2/Events/run_04\n",
      "\n",
      "\n"
     ]
    }
   ],
   "source": [
    "miner.run_multiple(\n",
    "    sample_benchmarks=additional_benchmarks,\n",
    "    mg_directory=mg_dir,\n",
    "    mg_process_directory=\"./mg_processes/signal2\",\n",
    "    proc_card_file=\"cards/proc_card_signal.dat\",\n",
    "    param_card_template_file=\"cards/param_card_template.dat\",\n",
    "    run_card_files=[\"cards/run_card_signal_small.dat\"],\n",
    "    log_directory=\"logs/signal\",\n",
    "    python_executable=\"python3\",\n",
    ")"
   ]
  },
  {
   "cell_type": "markdown",
   "metadata": {},
   "source": [
    "This will take a moment -- time for a coffee break!\n",
    "\n",
    "After running any event generation through MadMiner, you should check whether the run succeeded: are the usual output files there, do the log files show any error messages? MadMiner does not (yet) perform any explicit checks, and if something went wrong in the event generation, it will only notice later when trying to load the event files."
   ]
  },
  {
   "cell_type": "markdown",
   "metadata": {},
   "source": [
    "### Backgrounds"
   ]
  },
  {
   "cell_type": "markdown",
   "metadata": {},
   "source": [
    "We can also easily add other processes like backgrounds. An important option is the `is_background` keyword, which should be used for processes that do *not* depend on the parameters theta. `is_background=True` will disable the reweighting and re-use the same weights for all cross sections.\n",
    "\n",
    "To reduce the runtime of the notebook, the background part is commented out here. Feel free to activate it and let it run during a lunch break."
   ]
  },
  {
   "cell_type": "code",
   "execution_count": 23,
   "metadata": {},
   "outputs": [],
   "source": [
    "#miner.run(\n",
    "#    is_background=True,\n",
    "#    sample_benchmark='sm',\n",
    "#    mg_directory=mg_dir,\n",
    "#    mg_process_directory='./mg_processes/background',\n",
    "#    proc_card_file='cards/proc_card_background.dat',\n",
    "#    param_card_template_file='cards/param_card_template.dat',\n",
    "#    run_card_file='cards/run_card_background.dat',\n",
    "#    log_directory='logs/background',\n",
    "#)\n"
   ]
  },
  {
   "cell_type": "markdown",
   "metadata": {},
   "source": [
    "Finally, note that both `MadMiner.run()` and `MadMiner.run_multiple()` have a `only_create_script` keyword. If that is set to True, MadMiner will not start the event generation directly, but prepare folders with all the right settings and ready-to-run bash scripts. This might make it much easier to generate Events on a high-performance computing system. "
   ]
  },
  {
   "cell_type": "markdown",
   "metadata": {},
   "source": [
    "## 2. Prepare analysis of the LHE samples"
   ]
  },
  {
   "cell_type": "markdown",
   "metadata": {},
   "source": [
    "The `madminer.lhe` submodule allows us to extract observables directly from the parton-level LHE samples, including an approximate description of the detector response with smearing functions. The central object is an instance of the `LHEProcessor` class, which has to be initialized with a MadMiner file:"
   ]
  },
  {
   "cell_type": "code",
   "execution_count": 5,
   "metadata": {},
   "outputs": [
    {
     "name": "stderr",
     "output_type": "stream",
     "text": [
      "12:07 madminer.utils.inter ERROR   HDF5 file does not contain nuisance parameters information\n",
      "12:07 madminer.utils.inter ERROR   HDF5 file does not contain finite difference information\n",
      "12:07 madminer.utils.inter ERROR   HDF5 file does not contain observables information\n",
      "12:07 madminer.utils.inter ERROR   HDF5 file does not contain sample summary information\n",
      "12:07 madminer.utils.inter ERROR   HDF5 file does not contain sample information\n",
      "12:07 madminer.utils.inter ERROR   HDF5 file does not contain systematic information\n"
     ]
    },
    {
     "name": "stdout",
     "output_type": "stream",
     "text": [
      "--------------------------------------------------------------\n",
      "benchmarks:\n",
      "   is_nuisance: [0 0 0 0 0 0]\n",
      "   is_reference: [0 0 0 0 0 0]\n",
      "   names: [b'sm' b'ctG' b'neg_ctG' b'ctq8' b'neg_ctq8' b'morphing_basis_vector_5']\n",
      "   values: [[ 0.          0.        ]\n",
      " [ 2.          0.        ]\n",
      " [-2.          0.        ]\n",
      " [ 0.          5.        ]\n",
      " [ 0.         -5.        ]\n",
      " [ 1.95544762 -4.89358365]]\n",
      "--------------------------------------------------------------\n",
      "morphing:\n",
      "   components: [[0 0]\n",
      " [0 1]\n",
      " [0 2]\n",
      " [1 0]\n",
      " [1 1]\n",
      " [2 0]]\n",
      "   morphing_matrix: [[ 1.00000000e+00  0.00000000e+00  0.00000000e+00  0.00000000e+00\n",
      "   0.00000000e+00  0.00000000e+00]\n",
      " [ 4.16333634e-18  0.00000000e+00  0.00000000e+00  1.00000000e-01\n",
      "  -1.00000000e-01  0.00000000e+00]\n",
      " [-4.00000000e-02  0.00000000e+00  0.00000000e+00  2.00000000e-02\n",
      "   2.00000000e-02  0.00000000e+00]\n",
      " [ 0.00000000e+00  2.50000000e-01 -2.50000000e-01  0.00000000e+00\n",
      "  -0.00000000e+00  0.00000000e+00]\n",
      " [-9.54975752e-02  1.01036579e-01 -1.13803039e-03 -1.08840914e-03\n",
      "   1.01189963e-01 -1.04502528e-01]\n",
      " [-2.50000000e-01  1.25000000e-01  1.25000000e-01  0.00000000e+00\n",
      "   0.00000000e+00  0.00000000e+00]]\n",
      "--------------------------------------------------------------\n",
      "parameters:\n",
      "   lha_blocks: [b'DIM6' b'DIM6']\n",
      "   lha_ids: [16 55]\n",
      "   max_power: [2 2]\n",
      "   names: [b'ctG' b'ctq8']\n",
      "   transforms: [b'1*theta' b'1*theta']\n",
      "   val_ranges: [[-2.  2.]\n",
      " [-5.  5.]]\n"
     ]
    }
   ],
   "source": [
    "lhe = LHEReader(\"data/setup-Jonas-test.h5\")\n",
    "import h5py\n",
    "import numpy as np\n",
    "setupfile = \"data/setup-Jonas-test.h5\"\n",
    "f = h5py.File(setupfile)\n",
    "f.keys()\n",
    "for key in f.keys():\n",
    "    print(\"--------------------------------------------------------------\")\n",
    "    print(key+\":\")\n",
    "    for string in np.array(f[key]):\n",
    "        print(\"  \",string +\":\", np.array(f[key][string]))\n",
    "    print"
   ]
  },
  {
   "cell_type": "markdown",
   "metadata": {},
   "source": [
    "After creating the `LHEReader` object, one can add a number of event samples (the output of running MadGraph in step 1) with the `add_sample()` function.\n",
    "\n",
    "In addition, you have to provide the information which sample was generated from which benchmark with the `sampled_from_benchmark` keyword, and set `is_background=True` for all background samples."
   ]
  },
  {
   "cell_type": "code",
   "execution_count": 5,
   "metadata": {
    "scrolled": false
   },
   "outputs": [
    {
     "name": "stderr",
     "output_type": "stream",
     "text": [
      "12:20 madminer.utils.inter ERROR   HDF5 file does not contain nuisance parameters information\n",
      "12:20 madminer.utils.inter ERROR   HDF5 file does not contain finite difference information\n",
      "12:20 madminer.utils.inter ERROR   HDF5 file does not contain observables information\n",
      "12:20 madminer.utils.inter ERROR   HDF5 file does not contain sample summary information\n",
      "12:20 madminer.utils.inter ERROR   HDF5 file does not contain sample information\n",
      "12:20 madminer.utils.inter ERROR   HDF5 file does not contain systematic information\n",
      "12:20 madminer.lhe.lhe_rea DEBUG   Adding event sample mg_processes/signal1/Events/run_01/unweighted_events.lhe.gz\n"
     ]
    },
    {
     "ename": "NameError",
     "evalue": "name 'additional_benchmarks' is not defined",
     "output_type": "error",
     "traceback": [
      "\u001b[0;31m---------------------------------------------------------------------------\u001b[0m",
      "\u001b[0;31mNameError\u001b[0m                                 Traceback (most recent call last)",
      "\u001b[0;32m/tmp/ipykernel_3092/1626812953.py\u001b[0m in \u001b[0;36m<module>\u001b[0;34m\u001b[0m\n\u001b[1;32m      6\u001b[0m     \u001b[0mk_factor\u001b[0m\u001b[0;34m=\u001b[0m\u001b[0;36m1.0\u001b[0m\u001b[0;34m,\u001b[0m\u001b[0;34m\u001b[0m\u001b[0;34m\u001b[0m\u001b[0m\n\u001b[1;32m      7\u001b[0m )\n\u001b[0;32m----> 8\u001b[0;31m \u001b[0;32mfor\u001b[0m \u001b[0mi\u001b[0m\u001b[0;34m,\u001b[0m \u001b[0mbenchmark\u001b[0m \u001b[0;32min\u001b[0m \u001b[0menumerate\u001b[0m\u001b[0;34m(\u001b[0m\u001b[0madditional_benchmarks\u001b[0m\u001b[0;34m)\u001b[0m\u001b[0;34m:\u001b[0m\u001b[0;34m\u001b[0m\u001b[0;34m\u001b[0m\u001b[0m\n\u001b[0m\u001b[1;32m      9\u001b[0m     lhe.add_sample(\n\u001b[1;32m     10\u001b[0m         \u001b[0mlhe_filename\u001b[0m\u001b[0;34m=\u001b[0m\u001b[0;34m\"mg_processes/signal2/Events/run_0{}/unweighted_events.lhe.gz\"\u001b[0m\u001b[0;34m.\u001b[0m\u001b[0mformat\u001b[0m\u001b[0;34m(\u001b[0m\u001b[0mi\u001b[0m \u001b[0;34m+\u001b[0m \u001b[0;36m1\u001b[0m\u001b[0;34m)\u001b[0m\u001b[0;34m,\u001b[0m\u001b[0;34m\u001b[0m\u001b[0;34m\u001b[0m\u001b[0m\n",
      "\u001b[0;31mNameError\u001b[0m: name 'additional_benchmarks' is not defined"
     ]
    }
   ],
   "source": [
    "\n",
    "lhe = LHEReader(\"data/setup-Jonas-test.h5\")\n",
    "lhe.add_sample(\n",
    "    lhe_filename=\"mg_processes/signal1/Events/run_01/unweighted_events.lhe.gz\",\n",
    "    sampled_from_benchmark=\"sm\",\n",
    "    is_background=False,\n",
    "    k_factor=1.0,\n",
    ")\n",
    "for i, benchmark in enumerate(additional_benchmarks):\n",
    "    lhe.add_sample(\n",
    "        lhe_filename=\"mg_processes/signal2/Events/run_0{}/unweighted_events.lhe.gz\".format(i + 1),\n",
    "        sampled_from_benchmark=benchmark,\n",
    "        is_background=False,\n",
    "        k_factor=1.0,\n",
    "    )\n",
    "\n",
    "\n",
    "#lhe.add_sample(\n",
    "#    lhe_filename='mg_processes/background/Events/run_01/unweighted_events.lhe.gz',\n",
    "#    sampled_from_benchmark='sm',\n",
    "#    is_background=True,\n",
    "#    k_factor=1.0,\n",
    "#)\n"
   ]
  },
  {
   "cell_type": "markdown",
   "metadata": {},
   "source": [
    "## 3. Smearing functions to model the detector response"
   ]
  },
  {
   "cell_type": "markdown",
   "metadata": {},
   "source": [
    "Now we have to define the smearing functions that are used (in lieu of a proper shower and detector simulation). Here we will assume a simple 10% uncertainty on the jet energy measurements and a $\\pm 0.1$ smearing for jet $\\eta$ and $\\phi$. The transverse momenta of the jets are then derived from the smeared energy and the on-shell condition for the quarks (this is what `pt_resolution_abs=None` does). The photons from the Higgs are assumed to be measured perfectly (otherwise we'd have to call `set_smearing` another time with `pdgis=[22]`)."
   ]
  },
  {
   "cell_type": "code",
   "execution_count": 28,
   "metadata": {},
   "outputs": [
    {
     "name": "stdout",
     "output_type": "stream",
     "text": [
      "t\n"
     ]
    }
   ],
   "source": [
    "# Partons giving rise to jets\n",
    "particles = [\n",
    "    *Particle.findall(lambda p: p.pdgid.is_quark),\n",
    "    *Particle.findall(pdg_name=\"g\"),\n",
    "]\n",
    "\n",
    "lhe.set_smearing(\n",
    "    pdgids=[int(p.pdgid) for p in particles],\n",
    "    energy_resolution_abs=0.0,\n",
    "    energy_resolution_rel=0.1,\n",
    "    pt_resolution_abs=None,\n",
    "    pt_resolution_rel=None,\n",
    "    eta_resolution_abs=0.1,\n",
    "    eta_resolution_rel=0.0,\n",
    "    phi_resolution_abs=0.1,\n",
    "    phi_resolution_rel=0.0,\n",
    ")\n",
    "\n",
    "# Partons giving rise to jets\n",
    "top = [p for p in particles if p.pdgid==6]\n",
    "print(top[0])"
   ]
  },
  {
   "cell_type": "markdown",
   "metadata": {},
   "source": [
    "In addition, we can define noise that only affects MET. This adds Gaussian noise with mean 0 and std `abs_ + rel * HT` to MET_x and MET_y separately."
   ]
  },
  {
   "cell_type": "code",
   "execution_count": 7,
   "metadata": {},
   "outputs": [],
   "source": [
    "lhe.set_met_noise(abs_=10.0, rel=0.05)"
   ]
  },
  {
   "cell_type": "code",
   "execution_count": 8,
   "metadata": {},
   "outputs": [
    {
     "name": "stdout",
     "output_type": "stream",
     "text": [
      "[<function <listcomp>.<lambda> at 0x7fd596610ef0>, <function <listcomp>.<lambda> at 0x7fd596610f80>, <function <listcomp>.<lambda> at 0x7fd59662a050>, <function <listcomp>.<lambda> at 0x7fd59662a0e0>, <function <listcomp>.<lambda> at 0x7fd59662a170>, <function <listcomp>.<lambda> at 0x7fd59662a200>, <function <listcomp>.<lambda> at 0x7fd59662a290>, <function <listcomp>.<lambda> at 0x7fd59662a320>, <function <listcomp>.<lambda> at 0x7fd59662a3b0>, <function <listcomp>.<lambda> at 0x7fd59662a440>, <function <listcomp>.<lambda> at 0x7fd59662a4d0>, <function <listcomp>.<lambda> at 0x7fd59662a560>, <function <listcomp>.<lambda> at 0x7fd59662a5f0>]\n",
      "t~\n"
     ]
    }
   ],
   "source": [
    "tops = [lambda p: p.pdgid==6 for p in particles]\n",
    "print(tops)\n",
    "atops = [ *Particle.findall(pdgid=-6)]\n",
    "print(atops[0])"
   ]
  },
  {
   "cell_type": "code",
   "execution_count": 9,
   "metadata": {},
   "outputs": [
    {
     "ename": "SyntaxError",
     "evalue": "unexpected EOF while parsing (2066863071.py, line 1)",
     "output_type": "error",
     "traceback": [
      "\u001b[0;36m  File \u001b[0;32m\"/tmp/ipykernel_1864/2066863071.py\"\u001b[0;36m, line \u001b[0;32m1\u001b[0m\n\u001b[0;31m    lhe.add_observable(\u001b[0m\n\u001b[0m                       ^\u001b[0m\n\u001b[0;31mSyntaxError\u001b[0m\u001b[0;31m:\u001b[0m unexpected EOF while parsing\n"
     ]
    }
   ],
   "source": [
    "lhe.add_observable("
   ]
  },
  {
   "cell_type": "code",
   "execution_count": 6,
   "metadata": {
    "scrolled": false
   },
   "outputs": [
    {
     "name": "stderr",
     "output_type": "stream",
     "text": [
      "01:31 madminer.utils.inter ERROR   HDF5 file does not contain nuisance parameters information\n",
      "01:31 madminer.utils.inter ERROR   HDF5 file does not contain finite difference information\n",
      "01:31 madminer.utils.inter ERROR   HDF5 file does not contain observables information\n",
      "01:31 madminer.utils.inter ERROR   HDF5 file does not contain sample summary information\n",
      "01:31 madminer.utils.inter ERROR   HDF5 file does not contain sample information\n",
      "01:31 madminer.utils.inter ERROR   HDF5 file does not contain systematic information\n",
      "01:31 madminer.lhe.lhe_rea DEBUG   Adding event sample mg_processes/signal1/Events/run_01/unweighted_events.lhe.gz\n",
      "01:31 madminer.lhe.lhe_rea DEBUG   Adding optional observable chel defined through external function with default None\n",
      "01:31 madminer.lhe.lhe_rea DEBUG   Adding required observable pt_e1 = l[0].pt\n",
      "01:31 madminer.lhe.lhe_rea DEBUG   Adding required observable mass_p0 = p[0].m\n",
      "01:31 madminer.lhe.lhe_rea DEBUG   Adding optional observable ttbar_boost = -(p[10]+p[11]).boost with default 0.0\n",
      "01:31 madminer.lhe.lhe_rea DEBUG   Adding optional observable ttbar_boost = -(p[10]+p[11]).boost with default 0.0\n",
      "01:31 madminer.lhe.lhe_rea INFO    Analysing LHE sample mg_processes/signal1/Events/run_01/unweighted_events.lhe.gz: Calculating 4 observables, requiring 0 selection cuts, using 0 efficiency factors, associated with no systematics\n",
      "01:31 madminer.lhe.lhe_rea DEBUG   Extracting nuisance parameter definitions from LHE file\n",
      "01:31 madminer.utils.inter DEBUG   Parsing nuisance parameter setup from LHE file at mg_processes/signal1/Events/run_01/unweighted_events.lhe.gz\n",
      "01:31 madminer.utils.inter DEBUG   Systematics setup: OrderedDict()\n",
      "01:31 madminer.utils.inter DEBUG   1 weight groups\n",
      "01:31 madminer.lhe.lhe_rea DEBUG   systematics_dict: OrderedDict()\n",
      "01:31 madminer.utils.inter DEBUG   Parsing LHE file mg_processes/signal1/Events/run_01/unweighted_events.lhe.gz\n",
      "01:31 madminer.utils.inter DEBUG   Parsing header and events as XML with ElementTree\n",
      "01:31 madminer.utils.inter DEBUG   Found entry event_norm = average in LHE header. Interpreting this as weight_norm_is_average = True.\n",
      "01:31 madminer.utils.inter DEBUG   Event 1 passes observations, passes cuts, passes efficiencies -> passes\n",
      "01:31 madminer.utils.inter DEBUG   Event 2 passes observations, passes cuts, passes efficiencies -> passes\n",
      "01:31 madminer.utils.inter DEBUG   Event 3 passes observations, passes cuts, passes efficiencies -> passes\n",
      "01:31 madminer.utils.inter DEBUG   Event 4 passes observations, passes cuts, passes efficiencies -> passes\n",
      "01:31 madminer.utils.inter DEBUG   Event 5 passes observations, passes cuts, passes efficiencies -> passes\n",
      "01:31 madminer.utils.inter DEBUG   Event 6 passes observations, passes cuts, passes efficiencies -> passes\n",
      "01:31 madminer.utils.inter DEBUG   Event 7 passes observations, passes cuts, passes efficiencies -> passes\n",
      "01:31 madminer.utils.inter DEBUG   Event 8 passes observations, passes cuts, passes efficiencies -> passes\n",
      "01:31 madminer.utils.inter DEBUG   Event 9 passes observations, passes cuts, passes efficiencies -> passes\n"
     ]
    },
    {
     "name": "stdout",
     "output_type": "stream",
     "text": [
      "lcos_phi:  -0.24967734383694765\n",
      "lcos_phi:  0.7740576002152391\n",
      "lcos_phi:  0.9832044465694763\n",
      "lcos_phi:  0.7005897548949858\n",
      "lcos_phi:  -0.3993640792166597\n",
      "lcos_phi:  0.24000647599135091\n",
      "lcos_phi:  0.21770850975129766\n",
      "lcos_phi:  0.8082327581165882\n",
      "lcos_phi:  -0.6205287703801691\n"
     ]
    },
    {
     "name": "stderr",
     "output_type": "stream",
     "text": [
      "01:31 madminer.utils.inter DEBUG   Event 10 passes observations, passes cuts, passes efficiencies -> passes\n",
      "01:31 madminer.utils.inter DEBUG   Event 11 passes observations, passes cuts, passes efficiencies -> passes\n",
      "01:31 madminer.utils.inter DEBUG   Event 12 passes observations, passes cuts, passes efficiencies -> passes\n",
      "01:31 madminer.utils.inter DEBUG   Event 13 passes observations, passes cuts, passes efficiencies -> passes\n",
      "01:31 madminer.utils.inter DEBUG   Event 14 passes observations, passes cuts, passes efficiencies -> passes\n",
      "01:31 madminer.utils.inter DEBUG   Event 15 passes observations, passes cuts, passes efficiencies -> passes\n",
      "01:31 madminer.utils.inter DEBUG   Event 16 passes observations, passes cuts, passes efficiencies -> passes\n",
      "01:31 madminer.utils.inter DEBUG   Event 17 passes observations, passes cuts, passes efficiencies -> passes\n",
      "01:31 madminer.utils.inter DEBUG   Event 18 passes observations, passes cuts, passes efficiencies -> passes\n",
      "01:31 madminer.utils.inter DEBUG   Event 19 passes observations, passes cuts, passes efficiencies -> passes\n",
      "01:31 madminer.utils.inter DEBUG   Event 20 passes observations, passes cuts, passes efficiencies -> passes\n"
     ]
    },
    {
     "name": "stdout",
     "output_type": "stream",
     "text": [
      "lcos_phi:  0.34552659095556565\n",
      "lcos_phi:  -0.14928607975030053\n",
      "lcos_phi:  0.8781054679071231\n",
      "lcos_phi:  0.7818085361246837\n",
      "lcos_phi:  0.7976085916306606\n",
      "lcos_phi:  -0.1607439682781871\n",
      "lcos_phi:  -0.15569842554332328\n",
      "lcos_phi:  0.8746823916441091\n",
      "lcos_phi:  -0.5207470071496063\n",
      "lcos_phi:  0.520174660209742\n",
      "lcos_phi:  0.2221410321947063\n",
      "lcos_phi:  -0.22740645719826028\n",
      "lcos_phi:  0.8137726896657645\n",
      "lcos_phi:  0.4721896094881216\n",
      "lcos_phi:  -0.11566088136560598\n",
      "lcos_phi:  0.299133758317094\n",
      "lcos_phi:  -0.931358954234489\n",
      "lcos_phi:  0.8869562472352163\n",
      "lcos_phi:  -0.7950683833857397\n",
      "lcos_phi:  0.3991097583494636\n",
      "lcos_phi:  -0.5368940805650232\n",
      "lcos_phi:  0.6771673374140882\n",
      "lcos_phi:  -0.06262740721346985\n",
      "lcos_phi:  0.6825633855290613\n",
      "lcos_phi:  -0.28590315755129836\n",
      "lcos_phi:  0.8376828406428262\n",
      "lcos_phi:  0.06395148430481011\n",
      "lcos_phi:  0.8643233293527256\n",
      "lcos_phi:  -0.660516988283992\n",
      "lcos_phi:  -0.47069070576816424\n",
      "lcos_phi:  -0.2284522206273738\n",
      "lcos_phi:  0.2064324659069738\n",
      "lcos_phi:  -0.8765557630438865\n",
      "lcos_phi:  0.20124765849778986\n",
      "lcos_phi:  0.061856633744178824\n",
      "lcos_phi:  0.17988786350205332\n",
      "lcos_phi:  0.30955631905188213\n",
      "lcos_phi:  0.8102041578055366\n",
      "lcos_phi:  0.523633348767532\n",
      "lcos_phi:  -0.5224245334792187\n",
      "lcos_phi:  -0.9128562598944908\n",
      "lcos_phi:  -0.4190118042963033\n",
      "lcos_phi:  0.7329223627342257\n",
      "lcos_phi:  0.10287033104723389\n",
      "lcos_phi:  -0.14710924050446034\n",
      "lcos_phi:  -0.9891831128258269\n",
      "lcos_phi:  0.057420370078334684\n",
      "lcos_phi:  0.5489654424649563\n",
      "lcos_phi:  0.2562296807921514\n",
      "lcos_phi:  -0.6886995536062934\n",
      "lcos_phi:  0.9785164255885291\n",
      "lcos_phi:  0.398068005069122\n",
      "lcos_phi:  -0.8548079377125263\n",
      "lcos_phi:  -0.2463293168486136\n",
      "lcos_phi:  0.9159619868688472\n",
      "lcos_phi:  -0.36477645044238866\n",
      "lcos_phi:  -0.179784394454709\n",
      "lcos_phi:  -0.1178632982980944\n",
      "lcos_phi:  -0.3447292028125315\n",
      "lcos_phi:  0.09461842749732871\n",
      "lcos_phi:  -0.9518750953542823\n",
      "lcos_phi:  0.3741169979462166\n",
      "lcos_phi:  0.5327415839214797\n",
      "lcos_phi:  0.31975425500562554\n",
      "lcos_phi:  0.1545079465854535\n",
      "lcos_phi:  0.30818321387078235\n",
      "lcos_phi:  -0.645645925516031\n",
      "lcos_phi:  0.3222207611930008\n",
      "lcos_phi:  0.18889054313810316\n",
      "lcos_phi:  -0.263639488799127\n",
      "lcos_phi:  -0.9402728138925821\n",
      "lcos_phi:  -0.5287905815091819\n",
      "lcos_phi:  -0.0015841151570630272\n",
      "lcos_phi:  0.736534767636391\n",
      "lcos_phi:  0.5738331312596434\n",
      "lcos_phi:  0.8967288551303991\n",
      "lcos_phi:  -0.44424449920285963\n",
      "lcos_phi:  0.4124053061382525\n",
      "lcos_phi:  0.20404816844104795\n",
      "lcos_phi:  -0.06114960121025388\n",
      "lcos_phi:  -0.7010130427474781\n",
      "lcos_phi:  -0.34534931574670036\n",
      "lcos_phi:  -0.10587793953939535\n",
      "lcos_phi:  0.9522745791423891\n",
      "lcos_phi:  0.9412098541167173\n",
      "lcos_phi:  0.08439605249472752\n",
      "lcos_phi:  0.5079992011424006\n",
      "lcos_phi:  -0.482898930417489\n",
      "lcos_phi:  0.9297780643362829\n"
     ]
    },
    {
     "name": "stderr",
     "output_type": "stream",
     "text": [
      "01:31 madminer.utils.inter INFO      Break at event 100/50000\n",
      "01:31 madminer.lhe.lhe_rea DEBUG   Found weights ['sm', 'ctG', 'neg_ctG', 'ctq8', 'neg_ctq8', 'morphing_basis_vector_5'] in LHE file\n",
      "01:31 madminer.lhe.lhe_rea DEBUG   Found 99 events\n",
      "01:31 madminer.lhe.lhe_rea DEBUG   Found 99 events\n",
      "01:31 madminer.lhe.lhe_rea INFO    Analysed number of events per sampling benchmark:\n",
      "01:31 madminer.lhe.lhe_rea INFO      99 from sm\n",
      "01:31 madminer.lhe.lhe_rea DEBUG   Loading HDF5 data from data/setup-Jonas-test.h5 and saving file to data/lhe_data_Jonas.h5\n",
      "01:31 madminer.lhe.lhe_rea DEBUG   Weight names: ['sm', 'ctG', 'neg_ctG', 'ctq8', 'neg_ctq8', 'morphing_basis_vector_5']\n",
      "01:31 madminer.utils.inter DEBUG   Benchmark ctG already in the list of benchmarks\n",
      "01:31 madminer.utils.inter DEBUG   Benchmark ctq8 already in the list of benchmarks\n",
      "01:31 madminer.utils.inter DEBUG   Benchmark morphing_basis_vector_5 already in the list of benchmarks\n",
      "01:31 madminer.utils.inter DEBUG   Benchmark neg_ctG already in the list of benchmarks\n",
      "01:31 madminer.utils.inter DEBUG   Benchmark neg_ctq8 already in the list of benchmarks\n",
      "01:31 madminer.utils.inter DEBUG   Benchmark sm already in the list of benchmarks\n",
      "01:31 madminer.utils.inter DEBUG   Weight names to save in event file: odict_keys(['sm', 'ctG', 'neg_ctG', 'ctq8', 'neg_ctq8', 'morphing_basis_vector_5'])\n",
      "01:31 madminer.utils.inter DEBUG   Benchmark names to save in event file: ['sm', 'ctG', 'neg_ctG', 'ctq8', 'neg_ctq8', 'morphing_basis_vector_5']\n",
      "01:31 madminer.sampling.co DEBUG   Combining and shuffling samples\n",
      "01:31 madminer.sampling.co DEBUG   Copying setup from data/lhe_data_Jonas.h5 to data/lhe_data_Jonas.h5\n",
      "01:31 madminer.sampling.co DEBUG   Loading samples from file 1 / 1 at data/lhe_data_Jonas.h5, multiplying weights with k factor 1.0\n",
      "01:31 madminer.utils.inter ERROR   HDF5 file does not contain nuisance parameters information\n",
      "01:31 madminer.utils.inter ERROR   HDF5 file does not contain finite difference information\n",
      "01:31 madminer.utils.inter ERROR   HDF5 file does not contain systematic information\n",
      "01:31 madminer.sampling.co DEBUG   Sampling benchmarks: [0 0 0 0 0 0 0 0 0 0 0 0 0 0 0 0 0 0 0 0 0 0 0 0 0 0 0 0 0 0 0 0 0 0 0 0 0\n",
      " 0 0 0 0 0 0 0 0 0 0 0 0 0 0 0 0 0 0 0 0 0 0 0 0 0 0 0 0 0 0 0 0 0 0 0 0 0\n",
      " 0 0 0 0 0 0 0 0 0 0 0 0 0 0 0 0 0 0 0 0 0 0 0 0 0]\n",
      "01:31 madminer.sampling.co DEBUG   Combined sampling benchmarks: [0 0 0 0 0 0 0 0 0 0 0 0 0 0 0 0 0 0 0 0 0 0 0 0 0 0 0 0 0 0 0 0 0 0 0 0 0\n",
      " 0 0 0 0 0 0 0 0 0 0 0 0 0 0 0 0 0 0 0 0 0 0 0 0 0 0 0 0 0 0 0 0 0 0 0 0 0\n",
      " 0 0 0 0 0 0 0 0 0 0 0 0 0 0 0 0 0 0 0 0 0 0 0 0 0]\n",
      "01:31 madminer.sampling.co DEBUG   Recalculated event numbers per benchmark: [99  0  0  0  0  0], background: 0\n",
      "01:31 madminer.analysis.da INFO    Loading data from data/lhe_data_Jonas.h5\n",
      "01:31 madminer.utils.inter ERROR   HDF5 file does not contain nuisance parameters information\n",
      "01:31 madminer.utils.inter ERROR   HDF5 file does not contain finite difference information\n",
      "01:31 madminer.utils.inter ERROR   HDF5 file does not contain systematic information\n",
      "01:31 madminer.analysis.da INFO    Found 2 parameters\n",
      "01:31 madminer.analysis.da INFO      0: ctG (LHA: DIM6 16, Power: 2, Range: (-2.0, 2.0)Label: None)\n",
      "01:31 madminer.analysis.da INFO      1: ctq8 (LHA: DIM6 55, Power: 2, Range: (-5.0, 5.0)Label: None)\n",
      "01:31 madminer.analysis.da INFO    Did not find nuisance parameters\n",
      "01:31 madminer.analysis.da INFO    Found 6 benchmarks\n",
      "01:31 madminer.analysis.da DEBUG      sm: ctG = 0.00e+00, ctq8 = 0.00e+00\n",
      "01:31 madminer.analysis.da DEBUG      ctG: ctG = 2.00, ctq8 = 0.00e+00\n",
      "01:31 madminer.analysis.da DEBUG      neg_ctG: ctG = -2.00e+00, ctq8 = 0.00e+00\n",
      "01:31 madminer.analysis.da DEBUG      ctq8: ctG = 0.00e+00, ctq8 = 5.00\n",
      "01:31 madminer.analysis.da DEBUG      neg_ctq8: ctG = 0.00e+00, ctq8 = -5.00e+00\n",
      "01:31 madminer.analysis.da DEBUG      morphing_basis_vector_5: ctG = 1.96, ctq8 = -4.89e+00\n",
      "01:31 madminer.analysis.da INFO    Found 4 observables\n",
      "01:31 madminer.analysis.da DEBUG      0 chel\n",
      "01:31 madminer.analysis.da DEBUG      1 pt_e1\n",
      "01:31 madminer.analysis.da DEBUG      2 mass_p0\n",
      "01:31 madminer.analysis.da DEBUG      3 ttbar_boost\n",
      "01:31 madminer.analysis.da INFO    Found 99 events\n",
      "01:31 madminer.analysis.da INFO      99 signal events sampled from benchmark sm\n",
      "01:31 madminer.analysis.da INFO      0 signal events sampled from benchmark ctG\n",
      "01:31 madminer.analysis.da INFO      0 signal events sampled from benchmark neg_ctG\n",
      "01:31 madminer.analysis.da INFO      0 signal events sampled from benchmark ctq8\n",
      "01:31 madminer.analysis.da INFO      0 signal events sampled from benchmark neg_ctq8\n"
     ]
    },
    {
     "name": "stdout",
     "output_type": "stream",
     "text": [
      "lcos_phi:  -0.730587005547092\n"
     ]
    },
    {
     "name": "stderr",
     "output_type": "stream",
     "text": [
      "01:31 madminer.analysis.da INFO      0 signal events sampled from benchmark morphing_basis_vector_5\n",
      "01:31 madminer.analysis.da INFO    Found morphing setup with 6 components\n",
      "01:31 madminer.analysis.da INFO    Did not find nuisance morphing setup\n",
      "01:31 madminer.plotting.di DEBUG   Observable indices: [0, 1, 2, 3]\n",
      "01:31 madminer.plotting.di DEBUG   Calculated 2 theta matrices\n",
      "01:31 madminer.analysis.da DEBUG   Sampling benchmark closest to None: None\n",
      "01:31 madminer.analysis.da DEBUG   Events per benchmark: [99.  0.  0.  0.  0.  0.]\n",
      "01:31 madminer.plotting.di DEBUG   Loaded raw data with shapes (99, 4), (99, 6)\n",
      "01:31 madminer.analysis.da DEBUG   Sampling benchmark closest to [0. 0.]: 0\n",
      "01:31 madminer.analysis.da DEBUG   Sampling benchmark closest to [10.  0.]: 0\n",
      "01:31 madminer.plotting.di DEBUG   Plotting panel 0: observable 0, label chel\n",
      "01:31 madminer.plotting.di DEBUG   Ranges for observable chel: min = [-0.9891831128258269, -0.9891831128258269], max = [0.9832044465694763, 0.9832044465694763]\n",
      "01:31 madminer.plotting.di DEBUG   Plotting panel 1: observable 1, label pt_e1\n",
      "01:31 madminer.plotting.di DEBUG   Ranges for observable pt_e1: min = [17.397288266962104, 17.397288266962104], max = [189.69306419979853, 194.8712319686914]\n",
      "01:31 madminer.plotting.di DEBUG   Plotting panel 2: observable 2, label mass_p0\n",
      "01:31 madminer.plotting.di DEBUG   Ranges for observable mass_p0: min = [163.42031473236534, 164.3396488351356], max = [179.0790384172842, 179.1905750658522]\n",
      "01:31 madminer.plotting.di DEBUG   Plotting panel 3: observable 3, label ttbar_boost\n",
      "01:31 madminer.plotting.di DEBUG   Ranges for observable ttbar_boost: min = [0.0, 0.0], max = [0.0, 0.0]\n",
      "/nfs/dust/cms/user/zimermma/madminer/madminer/plotting/distributions.py:385: UserWarning: Attempting to set identical left == right == 0.0 results in singular transformations; automatically expanding.\n",
      "  plt.xlim(x_range[0], x_range[1])\n"
     ]
    },
    {
     "data": {
      "image/png": "[encoded data removed]",
      "text/plain": [
       "<Figure size 864x576 with 4 Axes>"
      ]
     },
     "metadata": {
      "needs_background": "light"
     },
     "output_type": "display_data"
    }
   ],
   "source": [
    "import os\n",
    "import logging\n",
    "import numpy as np\n",
    "\n",
    "from madminer.core import MadMiner\n",
    "from madminer.lhe import LHEReader\n",
    "from madminer.sampling import combine_and_shuffle\n",
    "from madminer.plotting import plot_distributions\n",
    "from particle import Particle\n",
    "\n",
    "# MadMiner output\n",
    "logging.basicConfig(\n",
    "    format=\"%(asctime)-5.5s %(name)-20.20s %(levelname)-7.7s %(message)s\",\n",
    "    datefmt=\"%H:%M\",\n",
    "    level=logging.DEBUG,\n",
    ")\n",
    "\n",
    "# Output of all other modules (e.g. matplotlib)\n",
    "for key in logging.Logger.manager.loggerDict:\n",
    "    if \"madminer\" not in key:\n",
    "        logging.getLogger(key).setLevel(logging.WARNING)\n",
    "        \n",
    "lhe = LHEReader(\"data/setup-Jonas-test.h5\")\n",
    "lhe.add_sample(\n",
    "    lhe_filename=\"mg_processes/signal1/Events/run_01/unweighted_events.lhe.gz\",\n",
    "    sampled_from_benchmark=\"sm\",\n",
    "    is_background=False,\n",
    "    k_factor=1.0,\n",
    ")\n",
    "# Partons giving rise to jets\n",
    "particles = [\n",
    "    *Particle.findall(lambda p: p.pdgid.is_quark),\n",
    "    *Particle.findall(pdg_name=\"g\"),\n",
    "]\n",
    "\n",
    "lhe.set_smearing(\n",
    "    pdgids=[int(p.pdgid) for p in particles],\n",
    "    energy_resolution_abs=0.0,\n",
    "    energy_resolution_rel=0.1,\n",
    "    pt_resolution_abs=None,\n",
    "    pt_resolution_rel=None,\n",
    "    eta_resolution_abs=0.1,\n",
    "    eta_resolution_rel=0.0,\n",
    "    phi_resolution_abs=0.1,\n",
    "    phi_resolution_rel=0.0,\n",
    ")\n",
    "\n",
    "#Prescription to select tops and leptons\n",
    "\n",
    "def chel(p,l,a,j,met):\n",
    "    top = [top for top in p if top.pdgid==6][0]\n",
    "    antitop = [top for top in p if top.pdgid==-6][0]\n",
    "    lep = [lep for lep in l if lep.pdgid>0][0]\n",
    "    lepbar = [lep for lep in l if lep.pdgid<0][0]\n",
    "    #Boosting to the ttbar frame\n",
    "    ttbar=top+antitop\n",
    "    #tt_boost=-1*ttbar.to_beta3()\n",
    "    top_ZMFtt = top.boostCM_of(ttbar)\n",
    "    antitop_ZMFtt = antitop.boostCM_of(ttbar)\n",
    "    lep_ZMFtt = lep.boostCM_of(ttbar)\n",
    "    lepbar_ZMFtt = lepbar.boostCM_of(ttbar)\n",
    "    #Boosting leptons to their helicity frame\n",
    "    #t_boost = -1*top_ZMFtt.to_beta3()\n",
    "    #tbar_boost = -1*antitop_ZMFtt.to_beta3()\n",
    "    lepbar_ZMFt = lepbar_ZMFtt.boostCM_of(top_ZMFtt).to_Vector3D()\n",
    "    lep_ZMFtbar = lep_ZMFtt.boostCM_of(antitop_ZMFtt).to_Vector3D()\n",
    "    mag_lepbar_ZMFt = lepbar_ZMFt.mag\n",
    "    mag_lep_ZMFtbar = lep_ZMFtbar.mag\n",
    "    cos_phi=lepbar_ZMFt.dot(lep_ZMFtbar)/(mag_lepbar_ZMFt*mag_lep_ZMFtbar)\n",
    "    print(\"lcos_phi: \", cos_phi)\n",
    "    return cos_phi\n",
    "#ttbar=f\"({t}+{tbar})\"\n",
    "#def lep():\n",
    "#    return \"[lep for lep in l if lep.pdgid>0][0]\"\n",
    "\n",
    "#def lepbar():\n",
    "#    return \"[lep for lep in l if lep.pdgid<0][0]\"\n",
    "#t=\"[top for top in p if top.pdgid==6][0]\"\n",
    "#tbar=\"[top for top in p if top.pdgid==-6][0]\"\n",
    "#lep=\"[lep for lep in l if lep.pdgid>0][0]\"\n",
    "#lepbar=\"[lep for lep in l if lep.pdgid<0][0]\"\n",
    "\n",
    "#Prescription to boost to the ttbar system\n",
    "#def tt_boost():\n",
    "#    return f\"-1 * ({t()}+{tbar()}).to_beta3()\" \n",
    "\n",
    "#def t_ZMFtt():\n",
    "#    return f\"{t()}.boost({tt_boost()})\"\n",
    "\n",
    "#def tbar_ZMFtt():\n",
    "#    return f\"{tbar()}.boost({tt_boost()})\"\n",
    "\n",
    "#def lep_ZMFtt():\n",
    "#    return f\"{lep()}.boost({tt_boost()})\"\n",
    "\n",
    "#def lepbar_ZMFtt():\n",
    "#    return f\"{lepbar()}).boost({tt_boost()})\"\n",
    "#tt_boost=f\"-1*({t}+{tbar}).to_beta3()\" #finds the beta vector for boosting to the ttbar system\n",
    "#t_ZMFtt=f\"({t}).boost({tt_boost})\"\n",
    "#tbar_ZMFtt=f\"({tbar}).boost({tt_boost})\"\n",
    "#lep_ZMFtt = f\"({lep}).boost({tt_boost})\"\n",
    "#lepbar_ZMFtt = f\"({lepbar}).boost({tt_boost})\"\n",
    "\n",
    "#now prescrition to boost leptons to their helicity frame\n",
    "#def t_boost():\n",
    "#    return f\"-1 * ({t_ZMFtt()}).to_beta3()\"\n",
    "\n",
    "#def tbar_boost():\n",
    "#    return f\"- 1 * ({tbar_ZMFtt()}).to_beta3()\"\n",
    "\n",
    "#def lep_ZMFtbar():\n",
    "#    return f\"{lep_ZMFtt()}).boost({t_boost()})\"\n",
    "\n",
    "#def lepbar_ZMFt():\n",
    "#    return f\"{lepbar_ZMFtt()}).boost({t_boost()})\"\n",
    "#t_boost = f\"-1*({t_ZMFtt}).to_beta3()\"\n",
    "#tbar_boost = f\"-1*({tbar_ZMFtt}).to_beta3()\"\n",
    "#lep_ZMFtbar = f\"({lep_ZMFtt}).boost({tbar_boost})\"\n",
    "#lepbar_ZMFt = f\"{lepbar_ZMFtt}.boost({t_boost})\"\n",
    "\n",
    "#spin observables\n",
    "#def chel():\n",
    "#    return f\"{lep_ZMFtbar}.dot({lepbar_ZMFt})/({lep_ZMFtbar}.rho*{lep_ZMFtbar}.rho)\"\n",
    "\n",
    "def pt_lepbar_ZMFt():\n",
    "    return compile(f\"{lep_ZMFtbar}.pt\",\"<string>\",\"eval\")\n",
    "#chel=f\"{lep_ZMFtbar}.dot({lepbar_ZMFt})/({lep_ZMFtbar}.rho*{lep_ZMFtbar}.rho)\"\n",
    "\n",
    "#lhe.add_default_observables(n_leptons_max=2,n_photons_max=2,n_jets_max=2,include_met=True,include_visible_sum=True,include_numbers=True,include_charge=True)\n",
    "#lhe.add_observable_from_function(\"find_top_pdgId\",f\"[topCandidate.pdgid for topCandidate in p if topCandidate.t_tag and topCandidate.charge>0][0]\")\n",
    "#lhe.add_observable_from_function(\"pdgId_p[0]\",f\"p[0].pdgid\")\n",
    "#lhe.add_observable_from_function(\"ttbarpt\",f\"ttbar.pt\")\n",
    "#lhe.add_observable_from_function(\"m_{tt}\",f\"([top for top in p if top.pdgid==6][0]+[atop for atop in p if atop.pdgid==-6][0]).m\")\n",
    "#lhe.add_observable_from_function(\"t_pt_ZMFtt\",f\"([top for top in p if top.pdgid==6][0]).boost( -1 * ( [top for top in p if top.pdgid==6][0]+[atop for atop in p if atop.pdgid==-6][0] ).to_beta3() ).pt\")\n",
    "lhe.add_observable_from_function(\"chel\",chel)\n",
    "#lhe.add_observable_from_function(\"t_pt\",t_pt)\n",
    "#lhe.add_observable_from_function(\"m_{ll}\",f\"({lep}+{lepbar}).m\")\n",
    "#lhe.add_observable_from_function(\"tpt_tt\",f\"({t_ZMFtt}).pt\")\n",
    "#lhe.add_observable_from_function(\"tbarpt_tt\",f\"({tbar_ZMFtt}).pt\")\n",
    "#lhe.add_observable_from_function(\"leppt_tt\",f\"({lep_ZMFtt}).pt\")\n",
    "#lhe.add_observable_from_function(\"lepbarpt_tt\",f\"({lepbar_ZMFtt}).pt\")\n",
    "#lhe.add_observable_from_function(\"t_boost\",f\"({t_boost}).z\")\n",
    "#lhe.add_observable_from_function(\"leppt_tbar\",pt_lepbar_ZMFt())\n",
    "#lhe.add_observable_from_function(\"lepbarpt_t\",f\"({lep_ZMFtbar}).pt\")\n",
    "#lhe.add_observable_from_function(\"ttbarpt_tt\",f\"({t_ZMFtt}+{tbar_ZMFtt}).pt\")\n",
    "#lhe.add_observable_from_function(\"llpt_tt\",f\"({lep_ZMFtt}+{lepbar_ZMFtt}).pt\")\n",
    "#lhe.add_observable_from_function(\"m_{ll}hel\",f\"({lep_ZMFtbar}+{lepbar_ZMFt}).m\")\n",
    "#lhe.add_observable_from_function(\"pdgId_p[1]\",f\"p[1].pdgid\")\n",
    "#lhe.add_observable_from_function(\"pdgId_p[2]\",f\"p[2].pdgid\")\n",
    "#lhe.add_observable_from_function(\"pdgId_p[3]\",f\"p[3].pdgid\")\n",
    "#lhe.add_observable_from_function(\"pdgId_p[4]\",f\"p[4].pdgid\")\n",
    "#lhe.add_observable_from_function(\"pdgId_p[5]\",f\"p[5].pdgid\")\n",
    "\n",
    "lhe.add_observable(\n",
    "    \"pt_e1\",\n",
    "    \"l[0].pt\",\n",
    "    required=True,\n",
    "    default=0.0,\n",
    ")\n",
    "\n",
    "lhe.add_observable(\n",
    "    \"mass_p0\",\n",
    "    \"p[0].m\",\n",
    "    required=True,\n",
    "    default=0.0,\n",
    ")\n",
    "\n",
    "\n",
    "lhe.add_observable(\n",
    "    \"ttbar_boost\",\n",
    "    \"-(p[10]+p[11]).boost\",\n",
    "    required=False,\n",
    "    default=0.0,\n",
    ")\n",
    "\n",
    "\n",
    "lhe.add_observable(\n",
    "    \"ttbar_boost\",\n",
    "    \"-(p[10]+p[11]).boost\",\n",
    "    required=False,\n",
    "    default=0.0,\n",
    ")\n",
    "lhe.analyse_samples()\n",
    "lhe.save(\"data/lhe_data_Jonas.h5\")\n",
    "_ = plot_distributions(\n",
    "    filename=\"data/lhe_data_Jonas.h5\",\n",
    "    parameter_points=[\"sm\", np.array([10.0, 0.0])],\n",
    "    line_labels=[\"SM\", \"BSM\"],\n",
    "    uncertainties=\"none\",\n",
    "    n_bins=10,\n",
    "    n_cols=3,\n",
    "    normalize=True,\n",
    "    sample_only_from_closest_benchmark=True,\n",
    ")"
   ]
  },
  {
   "cell_type": "code",
   "execution_count": 35,
   "metadata": {},
   "outputs": [
    {
     "name": "stdout",
     "output_type": "stream",
     "text": [
      "-1 * ((([top for top in p if top.pdgid==6][0])).boost(-1 * (([top for top in p if top.pdgid==6][0])+([top for top in p if top.pdgid==-6][0])).to_beta3())).to_beta3()\n"
     ]
    }
   ],
   "source": [
    "t=\"([top for top in p if top.pdgid==6][0])\"\n",
    "tbar=\"([top for top in p if top.pdgid==-6][0])\"\n",
    "lep=\"([lep for lep in l if lep.pdgid>0][0])\"\n",
    "lepbar=\"([lep for lep in l if lep.pdgid<0][0])\"\n",
    "\n",
    "#Prescription to boost to the ttbar system\n",
    "tt_boost=f\"-1 * ({t}+{tbar}).to_beta3()\" #finds the beta vector for boosting to the ttbar system\n",
    "t_ZMFtt=f\"({t}).boost({tt_boost})\"\n",
    "tbar_ZMFtt=f\"({tbar}).boost({tt_boost})\"\n",
    "lep_ZMFtt = f\"({lep}).boost({tt_boost})\"\n",
    "lepbar_ZMFtt = f\"({lepbar}).boost({tt_boost})\"\n",
    "\n",
    "#now prescrition to boost leptons to their helicity frame\n",
    "t_boost = f\"-1 * ({t_ZMFtt}).to_beta3()\"\n",
    "tbar_boost = f\"- 1 * ({tbar_ZMFtt}).to_beta3()\"\n",
    "lep_ZMFtbar = f\"({lep_ZMFtt}).boost({t_boost})\"\n",
    "lepbar_ZMFt = f\"({lepbar_ZMFtt}).boost({t_boost})\"\n",
    "print(t_boost)"
   ]
  },
  {
   "cell_type": "code",
   "execution_count": 64,
   "metadata": {},
   "outputs": [],
   "source": []
  },
  {
   "cell_type": "code",
   "execution_count": 63,
   "metadata": {},
   "outputs": [
    {
     "ename": "AttributeError",
     "evalue": "'int' object has no attribute 'pdgid'",
     "output_type": "error",
     "traceback": [
      "\u001b[0;31m---------------------------------------------------------------------------\u001b[0m",
      "\u001b[0;31mAttributeError\u001b[0m                            Traceback (most recent call last)",
      "\u001b[0;32m/tmp/ipykernel_9496/1339668064.py\u001b[0m in \u001b[0;36m<module>\u001b[0;34m\u001b[0m\n\u001b[0;32m----> 1\u001b[0;31m \u001b[0mfindTop\u001b[0m\u001b[0;34m(\u001b[0m\u001b[0;34m[\u001b[0m\u001b[0;36m2\u001b[0m\u001b[0;34m,\u001b[0m\u001b[0;36m3\u001b[0m\u001b[0;34m]\u001b[0m\u001b[0;34m)\u001b[0m\u001b[0;34m\u001b[0m\u001b[0;34m\u001b[0m\u001b[0m\n\u001b[0m",
      "\u001b[0;32m/tmp/ipykernel_9496/283403502.py\u001b[0m in \u001b[0;36mfindTop\u001b[0;34m(p)\u001b[0m\n\u001b[1;32m      1\u001b[0m \u001b[0;32mdef\u001b[0m \u001b[0mfindTop\u001b[0m\u001b[0;34m(\u001b[0m\u001b[0mp\u001b[0m\u001b[0;34m)\u001b[0m\u001b[0;34m:\u001b[0m\u001b[0;34m\u001b[0m\u001b[0;34m\u001b[0m\u001b[0m\n\u001b[0;32m----> 2\u001b[0;31m     \u001b[0;32mreturn\u001b[0m \u001b[0;34m[\u001b[0m\u001b[0mtop\u001b[0m \u001b[0;32mfor\u001b[0m \u001b[0mtop\u001b[0m \u001b[0;32min\u001b[0m \u001b[0mp\u001b[0m \u001b[0;32mif\u001b[0m \u001b[0mtop\u001b[0m\u001b[0;34m.\u001b[0m\u001b[0mpdgid\u001b[0m\u001b[0;34m==\u001b[0m\u001b[0;36m6\u001b[0m\u001b[0;34m]\u001b[0m\u001b[0;34m[\u001b[0m\u001b[0;36m0\u001b[0m\u001b[0;34m]\u001b[0m\u001b[0;34m\u001b[0m\u001b[0;34m\u001b[0m\u001b[0m\n\u001b[0m",
      "\u001b[0;32m/tmp/ipykernel_9496/283403502.py\u001b[0m in \u001b[0;36m<listcomp>\u001b[0;34m(.0)\u001b[0m\n\u001b[1;32m      1\u001b[0m \u001b[0;32mdef\u001b[0m \u001b[0mfindTop\u001b[0m\u001b[0;34m(\u001b[0m\u001b[0mp\u001b[0m\u001b[0;34m)\u001b[0m\u001b[0;34m:\u001b[0m\u001b[0;34m\u001b[0m\u001b[0;34m\u001b[0m\u001b[0m\n\u001b[0;32m----> 2\u001b[0;31m     \u001b[0;32mreturn\u001b[0m \u001b[0;34m[\u001b[0m\u001b[0mtop\u001b[0m \u001b[0;32mfor\u001b[0m \u001b[0mtop\u001b[0m \u001b[0;32min\u001b[0m \u001b[0mp\u001b[0m \u001b[0;32mif\u001b[0m \u001b[0mtop\u001b[0m\u001b[0;34m.\u001b[0m\u001b[0mpdgid\u001b[0m\u001b[0;34m==\u001b[0m\u001b[0;36m6\u001b[0m\u001b[0;34m]\u001b[0m\u001b[0;34m[\u001b[0m\u001b[0;36m0\u001b[0m\u001b[0;34m]\u001b[0m\u001b[0;34m\u001b[0m\u001b[0;34m\u001b[0m\u001b[0m\n\u001b[0m",
      "\u001b[0;31mAttributeError\u001b[0m: 'int' object has no attribute 'pdgid'"
     ]
    }
   ],
   "source": []
  },
  {
   "cell_type": "code",
   "execution_count": 52,
   "metadata": {},
   "outputs": [],
   "source": [
    "def squared(x):\n",
    "    return lambda x: x**2\n"
   ]
  },
  {
   "cell_type": "code",
   "execution_count": 55,
   "metadata": {},
   "outputs": [
    {
     "data": {
      "text/plain": [
       "<function __main__.squared.<locals>.<lambda>(x)>"
      ]
     },
     "execution_count": 55,
     "metadata": {},
     "output_type": "execute_result"
    }
   ],
   "source": [
    "squared(2)"
   ]
  },
  {
   "cell_type": "code",
   "execution_count": 54,
   "metadata": {},
   "outputs": [
    {
     "data": {
      "text/plain": [
       "'<function squared.<locals>.<lambda> at 0x7f8e106f4dd0>'"
      ]
     },
     "execution_count": 54,
     "metadata": {},
     "output_type": "execute_result"
    }
   ],
   "source": [
    "f\"{squared(2)}\""
   ]
  },
  {
   "cell_type": "markdown",
   "metadata": {},
   "source": [
    "## 4. Observables and cuts"
   ]
  },
  {
   "cell_type": "markdown",
   "metadata": {},
   "source": [
    "The next step is the definition of observables, either through a Python function or an expression that can be evaluated. Here we demonstrate the latter, which is implemented in `add_observable()`. In the expression string, you can use the terms `j[i]`, `e[i]`, `mu[i]`, `a[i]`, `met`, where the indices `i` refer to a ordering by the transverse momentum. In addition, you can use `p[i]`, which denotes the `i`-th particle in the order given in the LHE sample (which is the order in which the final-state particles where defined in MadGraph).\n",
    "\n",
    "All of these represent objects inheriting from scikit-hep [LorentzVectors](http://scikit-hep.org/api/math.html#vector-classes), see the link for a documentation of their properties. In addition, they have `charge` and `pdg_id` properties.\n",
    "\n",
    "`add_observable()` has an optional keyword `required`. If `required=True`, we will only keep events where the observable can be parsed, i.e. all involved particles have been detected. If `required=False`, un-parseable observables will be filled with the value of another keyword `default`.\n",
    "\n",
    "In a realistic project, you would want to add a large number of observables that capture all information in your events. Here we will just define two observables, the transverse momentum of the leading (= higher-pT) jet, and the azimuthal angle between the two leading jets."
   ]
  },
  {
   "cell_type": "code",
   "execution_count": 52,
   "metadata": {},
   "outputs": [
    {
     "name": "stderr",
     "output_type": "stream",
     "text": [
      "15:59 madminer.utils.inter ERROR   HDF5 file does not contain nuisance parameters information\n",
      "15:59 madminer.utils.inter ERROR   HDF5 file does not contain finite difference information\n",
      "15:59 madminer.utils.inter ERROR   HDF5 file does not contain observables information\n",
      "15:59 madminer.utils.inter ERROR   HDF5 file does not contain sample summary information\n",
      "15:59 madminer.utils.inter ERROR   HDF5 file does not contain sample information\n",
      "15:59 madminer.utils.inter ERROR   HDF5 file does not contain systematic information\n",
      "15:59 madminer.lhe.lhe_rea DEBUG   Adding event sample mg_processes/signal1/Events/run_01/unweighted_events.lhe.gz\n",
      "15:59 madminer.lhe.lhe_rea DEBUG   Adding event sample mg_processes/signal2/Events/run_01/unweighted_events.lhe.gz\n",
      "15:59 madminer.lhe.lhe_rea DEBUG   Adding event sample mg_processes/signal2/Events/run_02/unweighted_events.lhe.gz\n",
      "15:59 madminer.lhe.lhe_rea DEBUG   Adding event sample mg_processes/signal2/Events/run_03/unweighted_events.lhe.gz\n",
      "15:59 madminer.lhe.lhe_rea DEBUG   Adding event sample mg_processes/signal2/Events/run_04/unweighted_events.lhe.gz\n",
      "15:59 madminer.lhe.lhe_rea DEBUG   Adding event sample mg_processes/signal2/Events/run_05/unweighted_events.lhe.gz\n",
      "15:59 madminer.lhe.lhe_rea DEBUG   Adding required observable pt_e = l[0].pt\n",
      "15:59 madminer.lhe.lhe_rea DEBUG   Adding required observable delta_phi_ee = l[0].deltaphi(l[1]) * (-1.0 + 2.0 * float(l[0].eta > l[1].eta))\n",
      "15:59 madminer.lhe.lhe_rea DEBUG   Adding required observable met = met.pt\n"
     ]
    }
   ],
   "source": [
    "lhe = LHEReader(\"data/setup-Jonas.h5\")\n",
    "lhe.add_sample(\n",
    "    lhe_filename=\"mg_processes/signal1/Events/run_01/unweighted_events.lhe.gz\",\n",
    "    sampled_from_benchmark=\"sm\",\n",
    "    is_background=False,\n",
    "    k_factor=1.0,\n",
    ")\n",
    "for i, benchmark in enumerate(additional_benchmarks):\n",
    "    lhe.add_sample(\n",
    "        lhe_filename=\"mg_processes/signal2/Events/run_0{}/unweighted_events.lhe.gz\".format(i + 1),\n",
    "        sampled_from_benchmark=benchmark,\n",
    "        is_background=False,\n",
    "        k_factor=1.0,\n",
    "    )\n",
    "    \n",
    "lhe.add_observable(\n",
    "    \"pt_e1\",\n",
    "    \"l[0].pt\",\n",
    "    required=True,\n",
    "    default=0.0,\n",
    ")\n",
    "\n",
    "lhe.add_observable(\n",
    "    \"delta_phi_ee\",\n",
    "    \"l[0].deltaphi(l[1]) * (-1.0 + 2.0 * float(l[0].eta > l[1].eta))\",\n",
    "    required=True,\n",
    ")\n",
    "\n",
    "lhe.add_observable(\n",
    "    \"pt_j1\",\n",
    "    \"j[0].pt\",\n",
    "    required=False,\n",
    "    default=0.0,\n",
    ")\n",
    "lhe.add_observable(\n",
    "    \"delta_phi_jj\",\n",
    "    \"j[0].deltaphi(j[1]) * (-1.0 + 2.0 * float(j[0].eta > j[1].eta))\",\n",
    "    required=True,\n",
    ")\n",
    "\n",
    "lhe.add_observable(\n",
    "    \"met\",\n",
    "    \"met.pt\",\n",
    "    required=True,\n",
    ")\n"
   ]
  },
  {
   "cell_type": "code",
   "execution_count": null,
   "metadata": {},
   "outputs": [],
   "source": [
    "lhe.add_observable?"
   ]
  },
  {
   "cell_type": "code",
   "execution_count": 1,
   "metadata": {},
   "outputs": [
    {
     "ename": "NameError",
     "evalue": "name 'lhe' is not defined",
     "output_type": "error",
     "traceback": [
      "\u001b[0;31m---------------------------------------------------------------------------\u001b[0m",
      "\u001b[0;31mNameError\u001b[0m                                 Traceback (most recent call last)",
      "\u001b[0;32m/tmp/ipykernel_2639/3648918570.py\u001b[0m in \u001b[0;36m<module>\u001b[0;34m\u001b[0m\n\u001b[0;32m----> 1\u001b[0;31m lhe.add_observable(\n\u001b[0m\u001b[1;32m      2\u001b[0m     \u001b[0;34m\"pt_t\"\u001b[0m\u001b[0;34m,\u001b[0m\u001b[0;34m\u001b[0m\u001b[0;34m\u001b[0m\u001b[0m\n\u001b[1;32m      3\u001b[0m     \u001b[0;34m\"t[0].pt\"\u001b[0m\u001b[0;34m,\u001b[0m\u001b[0;34m\u001b[0m\u001b[0;34m\u001b[0m\u001b[0m\n\u001b[1;32m      4\u001b[0m     \u001b[0mrequired\u001b[0m\u001b[0;34m=\u001b[0m\u001b[0;32mTrue\u001b[0m\u001b[0;34m,\u001b[0m\u001b[0;34m\u001b[0m\u001b[0;34m\u001b[0m\u001b[0m\n\u001b[1;32m      5\u001b[0m     \u001b[0mdefault\u001b[0m\u001b[0;34m=\u001b[0m\u001b[0;36m0.0\u001b[0m\u001b[0;34m,\u001b[0m\u001b[0;34m\u001b[0m\u001b[0;34m\u001b[0m\u001b[0m\n",
      "\u001b[0;31mNameError\u001b[0m: name 'lhe' is not defined"
     ]
    }
   ],
   "source": [
    "\n",
    "lhe.add_observable(\n",
    "    \"pt_t\",\n",
    "    \"t[0].pt\",\n",
    "    required=True,\n",
    "    default=0.0,\n",
    ")\n",
    "lhe.add_observable(\n",
    "    \"m_tt\",\n",
    "    \"(t[0]+t[1]).m\",\n",
    "    required=True,\n",
    "    default=0.0,\n",
    ")"
   ]
  },
  {
   "cell_type": "code",
   "execution_count": 11,
   "metadata": {},
   "outputs": [],
   "source": [
    "lhe.add_observable(\n",
    "    \"ttbar_boost\",\n",
    "    \"-(t[0]+t[1]).boostvec\",\n",
    "    required=False,\n",
    "    default=0.0,\n",
    ")\n",
    "lhe.add_observable(\n",
    "    \"top\",\n",
    "    \"t[0].boost(ttbar_boost)\",\n",
    "    required=False,\n",
    "    default=0.0,\n",
    ")\n",
    "\n",
    "lhe.add_observable(\n",
    "    \"atop\",\n",
    "    \"t[1].boost(ttbar_boost)\",\n",
    "    required=False,\n",
    "    default=0.0,\n",
    ")\n",
    "\n",
    "lhe.add_observable(\n",
    "    \"lep\",\n",
    "    \"e[0]+mu[0]\",\n",
    "    required=False,\n",
    "    default=0.0,\n",
    ")\n",
    "\n",
    "lhe.add_observable(\n",
    "    \"alep\",\n",
    "    \"e[1]+mu[1]\",\n",
    "    required=False,\n",
    "    default=0.0,\n",
    ")\n",
    "\n",
    "\n",
    "lhe.add_observable(\n",
    "    \"lep_tt\",\n",
    "    \"lep.boost(ttbar_boost)\",\n",
    "    required=False,\n",
    "    default=0.0,\n",
    ")\n",
    "\n",
    "lhe.add_observable(\n",
    "    \"alep_tt\",\n",
    "    \"alep.boost(ttbar_boost)\",\n",
    "    required=False,\n",
    "    default=0.0,\n",
    ")\n",
    "\n",
    "lhe.add_observable(\n",
    "    \"top_boost\",\n",
    "    \"-top.boostvec\",\n",
    "    required=False,\n",
    "    default=0.0,\n",
    ")\n",
    "lhe.add_observable(\n",
    "    \"atop_boost\",\n",
    "    \"-atop.boostvec\",\n",
    "    required=False,\n",
    "    default=0.0,\n",
    ")\n",
    "\n",
    "lhe.add_observable(\n",
    "    \"lep_atop\",\n",
    "    \"lep_tt.boost(atop_boost)\",\n",
    "    required=False,\n",
    "    default=0.0,\n",
    ")\n",
    "\n",
    "lhe.add_observable(\n",
    "    \"alep_top\",\n",
    "    \"lep_tt.boost(top_boost)\",\n",
    "    required=False,\n",
    "    default=0.0,\n",
    ")\n",
    "\n",
    "lhe.add_observable(\n",
    "    \"chel\",\n",
    "    \"lep_atop.dot(alep_top) / ( lep_atop.rho * alep_top.rho )\",\n",
    "    required=False,\n",
    "    default=0.0,\n",
    ")"
   ]
  },
  {
   "cell_type": "markdown",
   "metadata": {},
   "source": [
    "We can also add cuts, again in parse-able strings. In addition to the objects discussed above, they can contain the observables:"
   ]
  },
  {
   "cell_type": "code",
   "execution_count": 12,
   "metadata": {},
   "outputs": [],
   "source": [
    "#lhe.add_cut(\"(a[0] + a[1]).m > 122.0\")\n",
    "#lhe.add_cut(\"(a[0] + a[1]).m < 128.0\")\n",
    "#lhe.add_cut(\"pt_j1 > 20.0\")"
   ]
  },
  {
   "cell_type": "markdown",
   "metadata": {},
   "source": [
    "## 5. Run analysis and store processes events"
   ]
  },
  {
   "cell_type": "markdown",
   "metadata": {},
   "source": [
    "The function `analyse_samples` then calculates all observables from the LHE file(s) generated before, applies the smearing, and checks which events pass the cuts:"
   ]
  },
  {
   "cell_type": "code",
   "execution_count": 53,
   "metadata": {
    "scrolled": false
   },
   "outputs": [
    {
     "name": "stderr",
     "output_type": "stream",
     "text": [
      "15:59 madminer.lhe.lhe_rea INFO    Analysing LHE sample mg_processes/signal1/Events/run_01/unweighted_events.lhe.gz: Calculating 3 observables, requiring 0 selection cuts, using 0 efficiency factors, associated with no systematics\n",
      "15:59 madminer.lhe.lhe_rea DEBUG   Extracting nuisance parameter definitions from LHE file\n",
      "15:59 madminer.utils.inter DEBUG   Parsing nuisance parameter setup from LHE file at mg_processes/signal1/Events/run_01/unweighted_events.lhe.gz\n",
      "15:59 madminer.utils.inter DEBUG   Systematics setup: OrderedDict()\n",
      "15:59 madminer.utils.inter DEBUG   1 weight groups\n",
      "15:59 madminer.lhe.lhe_rea DEBUG   systematics_dict: OrderedDict()\n",
      "15:59 madminer.utils.inter DEBUG   Parsing LHE file mg_processes/signal1/Events/run_01/unweighted_events.lhe.gz\n",
      "15:59 madminer.utils.inter DEBUG   Parsing header and events as XML with ElementTree\n",
      "15:59 madminer.utils.inter DEBUG   Found entry event_norm = average in LHE header. Interpreting this as weight_norm_is_average = True.\n",
      "15:59 madminer.utils.inter DEBUG   Event 1 passes observations, passes cuts, passes efficiencies -> passes\n",
      "15:59 madminer.utils.inter DEBUG   Event 2 passes observations, passes cuts, passes efficiencies -> passes\n",
      "15:59 madminer.utils.inter DEBUG   Event 3 passes observations, passes cuts, passes efficiencies -> passes\n",
      "15:59 madminer.utils.inter DEBUG   Event 4 passes observations, passes cuts, passes efficiencies -> passes\n",
      "15:59 madminer.utils.inter DEBUG   Event 5 passes observations, passes cuts, passes efficiencies -> passes\n",
      "15:59 madminer.utils.inter DEBUG   Event 6 passes observations, passes cuts, passes efficiencies -> passes\n",
      "15:59 madminer.utils.inter DEBUG   Event 7 passes observations, passes cuts, passes efficiencies -> passes\n",
      "15:59 madminer.utils.inter DEBUG   Event 8 passes observations, passes cuts, passes efficiencies -> passes\n",
      "15:59 madminer.utils.inter DEBUG   Event 9 passes observations, passes cuts, passes efficiencies -> passes\n",
      "15:59 madminer.utils.inter DEBUG   Event 10 passes observations, passes cuts, passes efficiencies -> passes\n",
      "15:59 madminer.utils.inter DEBUG   Event 11 passes observations, passes cuts, passes efficiencies -> passes\n",
      "15:59 madminer.utils.inter DEBUG   Event 12 passes observations, passes cuts, passes efficiencies -> passes\n",
      "15:59 madminer.utils.inter DEBUG   Event 13 passes observations, passes cuts, passes efficiencies -> passes\n",
      "15:59 madminer.utils.inter DEBUG   Event 14 passes observations, passes cuts, passes efficiencies -> passes\n",
      "15:59 madminer.utils.inter DEBUG   Event 15 passes observations, passes cuts, passes efficiencies -> passes\n",
      "15:59 madminer.utils.inter DEBUG   Event 16 passes observations, passes cuts, passes efficiencies -> passes\n",
      "15:59 madminer.utils.inter DEBUG   Event 17 passes observations, passes cuts, passes efficiencies -> passes\n",
      "15:59 madminer.utils.inter DEBUG   Event 18 passes observations, passes cuts, passes efficiencies -> passes\n",
      "15:59 madminer.utils.inter DEBUG   Event 19 passes observations, passes cuts, passes efficiencies -> passes\n",
      "15:59 madminer.utils.inter DEBUG   Event 20 passes observations, passes cuts, passes efficiencies -> passes\n",
      "16:12 madminer.lhe.lhe_rea DEBUG   Found weights ['sm', 'ctG', 'neg_ctG', 'ctq8', 'neg_ctq8', 'morphing_basis_vector_5'] in LHE file\n",
      "16:12 madminer.lhe.lhe_rea DEBUG   Found 50000 events\n",
      "16:12 madminer.lhe.lhe_rea DEBUG   Found 50000 events\n",
      "16:12 madminer.lhe.lhe_rea INFO    Analysing LHE sample mg_processes/signal2/Events/run_01/unweighted_events.lhe.gz: Calculating 3 observables, requiring 0 selection cuts, using 0 efficiency factors, associated with no systematics\n",
      "16:12 madminer.lhe.lhe_rea DEBUG   Extracting nuisance parameter definitions from LHE file\n",
      "16:12 madminer.utils.inter DEBUG   Parsing nuisance parameter setup from LHE file at mg_processes/signal2/Events/run_01/unweighted_events.lhe.gz\n",
      "16:12 madminer.utils.inter DEBUG   Systematics setup: OrderedDict()\n",
      "16:12 madminer.utils.inter DEBUG   1 weight groups\n",
      "16:12 madminer.lhe.lhe_rea DEBUG   systematics_dict: OrderedDict()\n",
      "16:12 madminer.utils.inter DEBUG   Parsing LHE file mg_processes/signal2/Events/run_01/unweighted_events.lhe.gz\n",
      "16:12 madminer.utils.inter DEBUG   Parsing header and events as XML with ElementTree\n",
      "16:12 madminer.utils.inter DEBUG   Found entry event_norm = average in LHE header. Interpreting this as weight_norm_is_average = True.\n",
      "16:12 madminer.utils.inter DEBUG   Event 1 passes observations, passes cuts, passes efficiencies -> passes\n",
      "16:12 madminer.utils.inter DEBUG   Event 2 passes observations, passes cuts, passes efficiencies -> passes\n",
      "16:12 madminer.utils.inter DEBUG   Event 3 passes observations, passes cuts, passes efficiencies -> passes\n",
      "16:12 madminer.utils.inter DEBUG   Event 4 passes observations, passes cuts, passes efficiencies -> passes\n",
      "16:12 madminer.utils.inter DEBUG   Event 5 passes observations, passes cuts, passes efficiencies -> passes\n",
      "16:12 madminer.utils.inter DEBUG   Event 6 passes observations, passes cuts, passes efficiencies -> passes\n",
      "16:12 madminer.utils.inter DEBUG   Event 7 passes observations, passes cuts, passes efficiencies -> passes\n",
      "16:12 madminer.utils.inter DEBUG   Event 8 passes observations, passes cuts, passes efficiencies -> passes\n",
      "16:12 madminer.utils.inter DEBUG   Event 9 passes observations, passes cuts, passes efficiencies -> passes\n",
      "16:12 madminer.utils.inter DEBUG   Event 10 passes observations, passes cuts, passes efficiencies -> passes\n",
      "16:12 madminer.utils.inter DEBUG   Event 11 passes observations, passes cuts, passes efficiencies -> passes\n",
      "16:12 madminer.utils.inter DEBUG   Event 12 passes observations, passes cuts, passes efficiencies -> passes\n",
      "16:12 madminer.utils.inter DEBUG   Event 13 passes observations, passes cuts, passes efficiencies -> passes\n",
      "16:12 madminer.utils.inter DEBUG   Event 14 passes observations, passes cuts, passes efficiencies -> passes\n",
      "16:12 madminer.utils.inter DEBUG   Event 15 passes observations, passes cuts, passes efficiencies -> passes\n",
      "16:12 madminer.utils.inter DEBUG   Event 16 passes observations, passes cuts, passes efficiencies -> passes\n",
      "16:12 madminer.utils.inter DEBUG   Event 17 passes observations, passes cuts, passes efficiencies -> passes\n",
      "16:12 madminer.utils.inter DEBUG   Event 18 passes observations, passes cuts, passes efficiencies -> passes\n",
      "16:12 madminer.utils.inter DEBUG   Event 19 passes observations, passes cuts, passes efficiencies -> passes\n",
      "16:12 madminer.utils.inter DEBUG   Event 20 passes observations, passes cuts, passes efficiencies -> passes\n",
      "16:16 madminer.lhe.lhe_rea DEBUG   Found weights ['sm', 'ctG', 'neg_ctG', 'ctq8', 'neg_ctq8', 'morphing_basis_vector_5'] in LHE file\n",
      "16:16 madminer.lhe.lhe_rea DEBUG   Found 10000 events\n",
      "16:16 madminer.lhe.lhe_rea DEBUG   Found 10000 events\n",
      "16:16 root                 DEBUG   Merging data extracted from this file with data from previous files\n",
      "16:16 root                 DEBUG     Weights for benchmark sm exist in both\n",
      "16:16 root                 DEBUG     Weights for benchmark ctG exist in both\n",
      "16:16 root                 DEBUG     Weights for benchmark neg_ctG exist in both\n",
      "16:16 root                 DEBUG     Weights for benchmark ctq8 exist in both\n",
      "16:16 root                 DEBUG     Weights for benchmark neg_ctq8 exist in both\n",
      "16:16 root                 DEBUG     Weights for benchmark morphing_basis_vector_5 exist in both\n",
      "16:16 madminer.lhe.lhe_rea INFO    Analysing LHE sample mg_processes/signal2/Events/run_02/unweighted_events.lhe.gz: Calculating 3 observables, requiring 0 selection cuts, using 0 efficiency factors, associated with no systematics\n",
      "16:16 madminer.lhe.lhe_rea DEBUG   Extracting nuisance parameter definitions from LHE file\n",
      "16:16 madminer.utils.inter DEBUG   Parsing nuisance parameter setup from LHE file at mg_processes/signal2/Events/run_02/unweighted_events.lhe.gz\n",
      "16:16 madminer.utils.inter DEBUG   Systematics setup: OrderedDict()\n",
      "16:17 madminer.utils.inter DEBUG   1 weight groups\n",
      "16:17 madminer.lhe.lhe_rea DEBUG   systematics_dict: OrderedDict()\n",
      "16:17 madminer.utils.inter DEBUG   Parsing LHE file mg_processes/signal2/Events/run_02/unweighted_events.lhe.gz\n",
      "16:17 madminer.utils.inter DEBUG   Parsing header and events as XML with ElementTree\n"
     ]
    },
    {
     "name": "stderr",
     "output_type": "stream",
     "text": [
      "16:17 madminer.utils.inter DEBUG   Found entry event_norm = average in LHE header. Interpreting this as weight_norm_is_average = True.\n",
      "16:17 madminer.utils.inter DEBUG   Event 1 passes observations, passes cuts, passes efficiencies -> passes\n",
      "16:17 madminer.utils.inter DEBUG   Event 2 passes observations, passes cuts, passes efficiencies -> passes\n",
      "16:17 madminer.utils.inter DEBUG   Event 3 passes observations, passes cuts, passes efficiencies -> passes\n",
      "16:17 madminer.utils.inter DEBUG   Event 4 passes observations, passes cuts, passes efficiencies -> passes\n",
      "16:17 madminer.utils.inter DEBUG   Event 5 passes observations, passes cuts, passes efficiencies -> passes\n",
      "16:17 madminer.utils.inter DEBUG   Event 6 passes observations, passes cuts, passes efficiencies -> passes\n",
      "16:17 madminer.utils.inter DEBUG   Event 7 passes observations, passes cuts, passes efficiencies -> passes\n",
      "16:17 madminer.utils.inter DEBUG   Event 8 passes observations, passes cuts, passes efficiencies -> passes\n",
      "16:17 madminer.utils.inter DEBUG   Event 9 passes observations, passes cuts, passes efficiencies -> passes\n",
      "16:17 madminer.utils.inter DEBUG   Event 10 passes observations, passes cuts, passes efficiencies -> passes\n",
      "16:17 madminer.utils.inter DEBUG   Event 11 passes observations, passes cuts, passes efficiencies -> passes\n",
      "16:17 madminer.utils.inter DEBUG   Event 12 passes observations, passes cuts, passes efficiencies -> passes\n",
      "16:17 madminer.utils.inter DEBUG   Event 13 passes observations, passes cuts, passes efficiencies -> passes\n",
      "16:17 madminer.utils.inter DEBUG   Event 14 passes observations, passes cuts, passes efficiencies -> passes\n",
      "16:17 madminer.utils.inter DEBUG   Event 15 passes observations, passes cuts, passes efficiencies -> passes\n",
      "16:17 madminer.utils.inter DEBUG   Event 16 passes observations, passes cuts, passes efficiencies -> passes\n",
      "16:17 madminer.utils.inter DEBUG   Event 17 passes observations, passes cuts, passes efficiencies -> passes\n",
      "16:17 madminer.utils.inter DEBUG   Event 18 passes observations, passes cuts, passes efficiencies -> passes\n",
      "16:17 madminer.utils.inter DEBUG   Event 19 passes observations, passes cuts, passes efficiencies -> passes\n",
      "16:17 madminer.utils.inter DEBUG   Event 20 passes observations, passes cuts, passes efficiencies -> passes\n",
      "16:20 madminer.lhe.lhe_rea DEBUG   Found weights ['sm', 'ctG', 'neg_ctG', 'ctq8', 'neg_ctq8', 'morphing_basis_vector_5'] in LHE file\n",
      "16:20 madminer.lhe.lhe_rea DEBUG   Found 10000 events\n",
      "16:20 madminer.lhe.lhe_rea DEBUG   Found 10000 events\n",
      "16:20 root                 DEBUG   Merging data extracted from this file with data from previous files\n",
      "16:20 root                 DEBUG     Weights for benchmark sm exist in both\n",
      "16:20 root                 DEBUG     Weights for benchmark ctG exist in both\n",
      "16:20 root                 DEBUG     Weights for benchmark neg_ctG exist in both\n",
      "16:20 root                 DEBUG     Weights for benchmark ctq8 exist in both\n",
      "16:20 root                 DEBUG     Weights for benchmark neg_ctq8 exist in both\n",
      "16:20 root                 DEBUG     Weights for benchmark morphing_basis_vector_5 exist in both\n",
      "16:20 madminer.lhe.lhe_rea INFO    Analysing LHE sample mg_processes/signal2/Events/run_03/unweighted_events.lhe.gz: Calculating 3 observables, requiring 0 selection cuts, using 0 efficiency factors, associated with no systematics\n",
      "16:20 madminer.lhe.lhe_rea DEBUG   Extracting nuisance parameter definitions from LHE file\n",
      "16:20 madminer.utils.inter DEBUG   Parsing nuisance parameter setup from LHE file at mg_processes/signal2/Events/run_03/unweighted_events.lhe.gz\n",
      "16:20 madminer.utils.inter DEBUG   Systematics setup: OrderedDict()\n",
      "16:20 madminer.utils.inter DEBUG   1 weight groups\n",
      "16:20 madminer.lhe.lhe_rea DEBUG   systematics_dict: OrderedDict()\n",
      "16:20 madminer.utils.inter DEBUG   Parsing LHE file mg_processes/signal2/Events/run_03/unweighted_events.lhe.gz\n",
      "16:20 madminer.utils.inter DEBUG   Parsing header and events as XML with ElementTree\n",
      "16:20 madminer.utils.inter DEBUG   Found entry event_norm = average in LHE header. Interpreting this as weight_norm_is_average = True.\n",
      "16:20 madminer.utils.inter DEBUG   Event 1 passes observations, passes cuts, passes efficiencies -> passes\n",
      "16:20 madminer.utils.inter DEBUG   Event 2 passes observations, passes cuts, passes efficiencies -> passes\n",
      "16:20 madminer.utils.inter DEBUG   Event 3 passes observations, passes cuts, passes efficiencies -> passes\n",
      "16:20 madminer.utils.inter DEBUG   Event 4 passes observations, passes cuts, passes efficiencies -> passes\n",
      "16:20 madminer.utils.inter DEBUG   Event 5 passes observations, passes cuts, passes efficiencies -> passes\n",
      "16:20 madminer.utils.inter DEBUG   Event 6 passes observations, passes cuts, passes efficiencies -> passes\n",
      "16:20 madminer.utils.inter DEBUG   Event 7 passes observations, passes cuts, passes efficiencies -> passes\n",
      "16:20 madminer.utils.inter DEBUG   Event 8 passes observations, passes cuts, passes efficiencies -> passes\n",
      "16:20 madminer.utils.inter DEBUG   Event 9 passes observations, passes cuts, passes efficiencies -> passes\n",
      "16:20 madminer.utils.inter DEBUG   Event 10 passes observations, passes cuts, passes efficiencies -> passes\n",
      "16:20 madminer.utils.inter DEBUG   Event 11 passes observations, passes cuts, passes efficiencies -> passes\n",
      "16:20 madminer.utils.inter DEBUG   Event 12 passes observations, passes cuts, passes efficiencies -> passes\n",
      "16:20 madminer.utils.inter DEBUG   Event 13 passes observations, passes cuts, passes efficiencies -> passes\n",
      "16:20 madminer.utils.inter DEBUG   Event 14 passes observations, passes cuts, passes efficiencies -> passes\n",
      "16:20 madminer.utils.inter DEBUG   Event 15 passes observations, passes cuts, passes efficiencies -> passes\n",
      "16:20 madminer.utils.inter DEBUG   Event 16 passes observations, passes cuts, passes efficiencies -> passes\n",
      "16:20 madminer.utils.inter DEBUG   Event 17 passes observations, passes cuts, passes efficiencies -> passes\n",
      "16:20 madminer.utils.inter DEBUG   Event 18 passes observations, passes cuts, passes efficiencies -> passes\n",
      "16:20 madminer.utils.inter DEBUG   Event 19 passes observations, passes cuts, passes efficiencies -> passes\n",
      "16:20 madminer.utils.inter DEBUG   Event 20 passes observations, passes cuts, passes efficiencies -> passes\n",
      "16:23 madminer.lhe.lhe_rea DEBUG   Found weights ['sm', 'ctG', 'neg_ctG', 'ctq8', 'neg_ctq8', 'morphing_basis_vector_5'] in LHE file\n",
      "16:23 madminer.lhe.lhe_rea DEBUG   Found 10000 events\n",
      "16:23 madminer.lhe.lhe_rea DEBUG   Found 10000 events\n",
      "16:23 root                 DEBUG   Merging data extracted from this file with data from previous files\n",
      "16:23 root                 DEBUG     Weights for benchmark sm exist in both\n",
      "16:23 root                 DEBUG     Weights for benchmark ctG exist in both\n",
      "16:23 root                 DEBUG     Weights for benchmark neg_ctG exist in both\n",
      "16:23 root                 DEBUG     Weights for benchmark ctq8 exist in both\n",
      "16:23 root                 DEBUG     Weights for benchmark neg_ctq8 exist in both\n",
      "16:23 root                 DEBUG     Weights for benchmark morphing_basis_vector_5 exist in both\n",
      "16:23 madminer.lhe.lhe_rea INFO    Analysing LHE sample mg_processes/signal2/Events/run_04/unweighted_events.lhe.gz: Calculating 3 observables, requiring 0 selection cuts, using 0 efficiency factors, associated with no systematics\n",
      "16:23 madminer.lhe.lhe_rea DEBUG   Extracting nuisance parameter definitions from LHE file\n",
      "16:23 madminer.utils.inter DEBUG   Parsing nuisance parameter setup from LHE file at mg_processes/signal2/Events/run_04/unweighted_events.lhe.gz\n",
      "16:23 madminer.utils.inter DEBUG   Systematics setup: OrderedDict()\n",
      "16:23 madminer.utils.inter DEBUG   1 weight groups\n",
      "16:23 madminer.lhe.lhe_rea DEBUG   systematics_dict: OrderedDict()\n",
      "16:23 madminer.utils.inter DEBUG   Parsing LHE file mg_processes/signal2/Events/run_04/unweighted_events.lhe.gz\n",
      "16:23 madminer.utils.inter DEBUG   Parsing header and events as XML with ElementTree\n",
      "16:23 madminer.utils.inter DEBUG   Found entry event_norm = average in LHE header. Interpreting this as weight_norm_is_average = True.\n",
      "16:23 madminer.utils.inter DEBUG   Event 1 passes observations, passes cuts, passes efficiencies -> passes\n",
      "16:23 madminer.utils.inter DEBUG   Event 2 passes observations, passes cuts, passes efficiencies -> passes\n"
     ]
    },
    {
     "name": "stderr",
     "output_type": "stream",
     "text": [
      "16:23 madminer.utils.inter DEBUG   Event 3 passes observations, passes cuts, passes efficiencies -> passes\n",
      "16:23 madminer.utils.inter DEBUG   Event 4 passes observations, passes cuts, passes efficiencies -> passes\n",
      "16:23 madminer.utils.inter DEBUG   Event 5 passes observations, passes cuts, passes efficiencies -> passes\n",
      "16:23 madminer.utils.inter DEBUG   Event 6 passes observations, passes cuts, passes efficiencies -> passes\n",
      "16:23 madminer.utils.inter DEBUG   Event 7 passes observations, passes cuts, passes efficiencies -> passes\n",
      "16:23 madminer.utils.inter DEBUG   Event 8 passes observations, passes cuts, passes efficiencies -> passes\n",
      "16:23 madminer.utils.inter DEBUG   Event 9 passes observations, passes cuts, passes efficiencies -> passes\n",
      "16:23 madminer.utils.inter DEBUG   Event 10 passes observations, passes cuts, passes efficiencies -> passes\n",
      "16:23 madminer.utils.inter DEBUG   Event 11 passes observations, passes cuts, passes efficiencies -> passes\n",
      "16:23 madminer.utils.inter DEBUG   Event 12 passes observations, passes cuts, passes efficiencies -> passes\n",
      "16:23 madminer.utils.inter DEBUG   Event 13 passes observations, passes cuts, passes efficiencies -> passes\n",
      "16:23 madminer.utils.inter DEBUG   Event 14 passes observations, passes cuts, passes efficiencies -> passes\n",
      "16:23 madminer.utils.inter DEBUG   Event 15 passes observations, passes cuts, passes efficiencies -> passes\n",
      "16:23 madminer.utils.inter DEBUG   Event 16 passes observations, passes cuts, passes efficiencies -> passes\n",
      "16:23 madminer.utils.inter DEBUG   Event 17 passes observations, passes cuts, passes efficiencies -> passes\n",
      "16:23 madminer.utils.inter DEBUG   Event 18 passes observations, passes cuts, passes efficiencies -> passes\n",
      "16:23 madminer.utils.inter DEBUG   Event 19 passes observations, passes cuts, passes efficiencies -> passes\n",
      "16:23 madminer.utils.inter DEBUG   Event 20 passes observations, passes cuts, passes efficiencies -> passes\n",
      "16:26 madminer.lhe.lhe_rea DEBUG   Found weights ['sm', 'ctG', 'neg_ctG', 'ctq8', 'neg_ctq8', 'morphing_basis_vector_5'] in LHE file\n",
      "16:26 madminer.lhe.lhe_rea DEBUG   Found 10000 events\n",
      "16:26 madminer.lhe.lhe_rea DEBUG   Found 10000 events\n",
      "16:26 root                 DEBUG   Merging data extracted from this file with data from previous files\n",
      "16:26 root                 DEBUG     Weights for benchmark sm exist in both\n",
      "16:26 root                 DEBUG     Weights for benchmark ctG exist in both\n",
      "16:26 root                 DEBUG     Weights for benchmark neg_ctG exist in both\n",
      "16:26 root                 DEBUG     Weights for benchmark ctq8 exist in both\n",
      "16:26 root                 DEBUG     Weights for benchmark neg_ctq8 exist in both\n",
      "16:26 root                 DEBUG     Weights for benchmark morphing_basis_vector_5 exist in both\n",
      "16:26 madminer.lhe.lhe_rea INFO    Analysing LHE sample mg_processes/signal2/Events/run_05/unweighted_events.lhe.gz: Calculating 3 observables, requiring 0 selection cuts, using 0 efficiency factors, associated with no systematics\n",
      "16:26 madminer.lhe.lhe_rea DEBUG   Extracting nuisance parameter definitions from LHE file\n",
      "16:26 madminer.utils.inter DEBUG   Parsing nuisance parameter setup from LHE file at mg_processes/signal2/Events/run_05/unweighted_events.lhe.gz\n",
      "16:26 madminer.utils.inter DEBUG   Systematics setup: OrderedDict()\n",
      "16:27 madminer.utils.inter DEBUG   1 weight groups\n",
      "16:27 madminer.lhe.lhe_rea DEBUG   systematics_dict: OrderedDict()\n",
      "16:27 madminer.utils.inter DEBUG   Parsing LHE file mg_processes/signal2/Events/run_05/unweighted_events.lhe.gz\n",
      "16:27 madminer.utils.inter DEBUG   Parsing header and events as XML with ElementTree\n",
      "16:27 madminer.utils.inter DEBUG   Found entry event_norm = average in LHE header. Interpreting this as weight_norm_is_average = True.\n",
      "16:27 madminer.utils.inter DEBUG   Event 1 passes observations, passes cuts, passes efficiencies -> passes\n",
      "16:27 madminer.utils.inter DEBUG   Event 2 passes observations, passes cuts, passes efficiencies -> passes\n",
      "16:27 madminer.utils.inter DEBUG   Event 3 passes observations, passes cuts, passes efficiencies -> passes\n",
      "16:27 madminer.utils.inter DEBUG   Event 4 passes observations, passes cuts, passes efficiencies -> passes\n",
      "16:27 madminer.utils.inter DEBUG   Event 5 passes observations, passes cuts, passes efficiencies -> passes\n",
      "16:27 madminer.utils.inter DEBUG   Event 6 passes observations, passes cuts, passes efficiencies -> passes\n",
      "16:27 madminer.utils.inter DEBUG   Event 7 passes observations, passes cuts, passes efficiencies -> passes\n",
      "16:27 madminer.utils.inter DEBUG   Event 8 passes observations, passes cuts, passes efficiencies -> passes\n",
      "16:27 madminer.utils.inter DEBUG   Event 9 passes observations, passes cuts, passes efficiencies -> passes\n",
      "16:27 madminer.utils.inter DEBUG   Event 10 passes observations, passes cuts, passes efficiencies -> passes\n",
      "16:27 madminer.utils.inter DEBUG   Event 11 passes observations, passes cuts, passes efficiencies -> passes\n",
      "16:27 madminer.utils.inter DEBUG   Event 12 passes observations, passes cuts, passes efficiencies -> passes\n",
      "16:27 madminer.utils.inter DEBUG   Event 13 passes observations, passes cuts, passes efficiencies -> passes\n",
      "16:27 madminer.utils.inter DEBUG   Event 14 passes observations, passes cuts, passes efficiencies -> passes\n",
      "16:27 madminer.utils.inter DEBUG   Event 15 passes observations, passes cuts, passes efficiencies -> passes\n",
      "16:27 madminer.utils.inter DEBUG   Event 16 passes observations, passes cuts, passes efficiencies -> passes\n",
      "16:27 madminer.utils.inter DEBUG   Event 17 passes observations, passes cuts, passes efficiencies -> passes\n",
      "16:27 madminer.utils.inter DEBUG   Event 18 passes observations, passes cuts, passes efficiencies -> passes\n",
      "16:27 madminer.utils.inter DEBUG   Event 19 passes observations, passes cuts, passes efficiencies -> passes\n",
      "16:27 madminer.utils.inter DEBUG   Event 20 passes observations, passes cuts, passes efficiencies -> passes\n",
      "16:30 madminer.lhe.lhe_rea DEBUG   Found weights ['sm', 'ctG', 'neg_ctG', 'ctq8', 'neg_ctq8', 'morphing_basis_vector_5'] in LHE file\n",
      "16:30 madminer.lhe.lhe_rea DEBUG   Found 10000 events\n",
      "16:30 madminer.lhe.lhe_rea DEBUG   Found 10000 events\n",
      "16:30 root                 DEBUG   Merging data extracted from this file with data from previous files\n",
      "16:30 root                 DEBUG     Weights for benchmark sm exist in both\n",
      "16:30 root                 DEBUG     Weights for benchmark ctG exist in both\n",
      "16:30 root                 DEBUG     Weights for benchmark neg_ctG exist in both\n",
      "16:30 root                 DEBUG     Weights for benchmark ctq8 exist in both\n",
      "16:30 root                 DEBUG     Weights for benchmark neg_ctq8 exist in both\n",
      "16:30 root                 DEBUG     Weights for benchmark morphing_basis_vector_5 exist in both\n",
      "16:30 madminer.lhe.lhe_rea INFO    Analysed number of events per sampling benchmark:\n",
      "16:30 madminer.lhe.lhe_rea INFO      50000 from sm\n",
      "16:30 madminer.lhe.lhe_rea INFO      10000 from ctG\n",
      "16:30 madminer.lhe.lhe_rea INFO      10000 from neg_ctG\n",
      "16:30 madminer.lhe.lhe_rea INFO      10000 from ctq8\n",
      "16:30 madminer.lhe.lhe_rea INFO      10000 from neg_ctq8\n",
      "16:30 madminer.lhe.lhe_rea INFO      10000 from morphing_basis_vector_5\n"
     ]
    }
   ],
   "source": [
    "lhe.analyse_samples()"
   ]
  },
  {
   "cell_type": "code",
   "execution_count": 13,
   "metadata": {},
   "outputs": [],
   "source": [
    "lhe.analyse_samples?"
   ]
  },
  {
   "cell_type": "markdown",
   "metadata": {},
   "source": [
    "The values of the observables and the weights are then saved in the HDF5 file. It is possible to overwrite the same file, or to leave the original file intact and save all the data into a new file as follows:"
   ]
  },
  {
   "cell_type": "code",
   "execution_count": 57,
   "metadata": {},
   "outputs": [
    {
     "name": "stderr",
     "output_type": "stream",
     "text": [
      "16:34 madminer.lhe.lhe_rea DEBUG   Loading HDF5 data from data/setup-Jonas.h5 and saving file to data/lhe_data-Jonas.h5\n",
      "16:34 madminer.lhe.lhe_rea DEBUG   Weight names: ['sm', 'ctG', 'neg_ctG', 'ctq8', 'neg_ctq8', 'morphing_basis_vector_5']\n",
      "16:34 madminer.utils.inter DEBUG   Benchmark ctG already in the list of benchmarks\n",
      "16:34 madminer.utils.inter DEBUG   Benchmark ctq8 already in the list of benchmarks\n",
      "16:34 madminer.utils.inter DEBUG   Benchmark morphing_basis_vector_5 already in the list of benchmarks\n",
      "16:34 madminer.utils.inter DEBUG   Benchmark neg_ctG already in the list of benchmarks\n",
      "16:34 madminer.utils.inter DEBUG   Benchmark neg_ctq8 already in the list of benchmarks\n",
      "16:34 madminer.utils.inter DEBUG   Benchmark sm already in the list of benchmarks\n",
      "16:34 madminer.utils.inter DEBUG   Weight names to save in event file: odict_keys(['sm', 'ctG', 'neg_ctG', 'ctq8', 'neg_ctq8', 'morphing_basis_vector_5'])\n",
      "16:34 madminer.utils.inter DEBUG   Benchmark names to save in event file: ['sm', 'ctG', 'neg_ctG', 'ctq8', 'neg_ctq8', 'morphing_basis_vector_5']\n",
      "16:34 madminer.sampling.co DEBUG   Combining and shuffling samples\n",
      "16:34 madminer.sampling.co DEBUG   Copying setup from data/lhe_data-Jonas.h5 to data/lhe_data-Jonas.h5\n",
      "16:34 madminer.sampling.co DEBUG   Loading samples from file 1 / 1 at data/lhe_data-Jonas.h5, multiplying weights with k factor 1.0\n",
      "16:34 madminer.utils.inter ERROR   HDF5 file does not contain nuisance parameters information\n",
      "16:34 madminer.utils.inter ERROR   HDF5 file does not contain finite difference information\n",
      "16:34 madminer.utils.inter ERROR   HDF5 file does not contain systematic information\n",
      "16:34 madminer.sampling.co DEBUG   Sampling benchmarks: [0 0 0 ... 5 5 5]\n",
      "16:34 madminer.sampling.co DEBUG   Combined sampling benchmarks: [0 0 0 ... 5 5 5]\n",
      "16:34 madminer.sampling.co DEBUG   Recalculated event numbers per benchmark: [50000 10000 10000 10000 10000 10000], background: 0\n"
     ]
    }
   ],
   "source": [
    "lhe.save(\"data/lhe_data-Jonas.h5\")"
   ]
  },
  {
   "cell_type": "markdown",
   "metadata": {},
   "source": [
    "## 6. Plot distributions"
   ]
  },
  {
   "cell_type": "markdown",
   "metadata": {},
   "source": [
    "Let's see what our MC run produced:"
   ]
  },
  {
   "cell_type": "code",
   "execution_count": 58,
   "metadata": {},
   "outputs": [
    {
     "name": "stderr",
     "output_type": "stream",
     "text": [
      "16:34 madminer.analysis.da INFO    Loading data from data/lhe_data-Jonas.h5\n",
      "16:34 madminer.utils.inter ERROR   HDF5 file does not contain nuisance parameters information\n",
      "16:34 madminer.utils.inter ERROR   HDF5 file does not contain finite difference information\n",
      "16:34 madminer.utils.inter ERROR   HDF5 file does not contain systematic information\n",
      "16:34 madminer.analysis.da INFO    Found 2 parameters\n",
      "16:34 madminer.analysis.da INFO      0: ctG (LHA: DIM6 16, Power: 2, Range: (-1.0, 1.0))\n",
      "16:34 madminer.analysis.da INFO      1: ctq8 (LHA: DIM6 55, Power: 2, Range: (-1.0, 1.0))\n",
      "16:34 madminer.analysis.da INFO    Did not find nuisance parameters\n",
      "16:34 madminer.analysis.da INFO    Found 6 benchmarks\n",
      "16:34 madminer.analysis.da DEBUG      sm: ctG = 0.00e+00, ctq8 = 0.00e+00\n",
      "16:34 madminer.analysis.da DEBUG      ctG: ctG = 1.02, ctq8 = 1.00e-02\n",
      "16:34 madminer.analysis.da DEBUG      neg_ctG: ctG = -1.04e+00, ctq8 = 2.00e-02\n",
      "16:34 madminer.analysis.da DEBUG      ctq8: ctG = 0.03, ctq8 = 1.01\n",
      "16:34 madminer.analysis.da DEBUG      neg_ctq8: ctG = 0.04, ctq8 = -1.03e+00\n",
      "16:34 madminer.analysis.da DEBUG      morphing_basis_vector_5: ctG = -9.15e-01, ctq8 = -9.17e-01\n",
      "16:34 madminer.analysis.da INFO    Found 3 observables\n",
      "16:34 madminer.analysis.da DEBUG      0 pt_e\n",
      "16:34 madminer.analysis.da DEBUG      1 delta_phi_ee\n",
      "16:34 madminer.analysis.da DEBUG      2 met\n",
      "16:34 madminer.analysis.da INFO    Found 100000 events\n",
      "16:34 madminer.analysis.da INFO      50000 signal events sampled from benchmark sm\n",
      "16:34 madminer.analysis.da INFO      10000 signal events sampled from benchmark ctG\n",
      "16:34 madminer.analysis.da INFO      10000 signal events sampled from benchmark neg_ctG\n",
      "16:34 madminer.analysis.da INFO      10000 signal events sampled from benchmark ctq8\n",
      "16:34 madminer.analysis.da INFO      10000 signal events sampled from benchmark neg_ctq8\n",
      "16:34 madminer.analysis.da INFO      10000 signal events sampled from benchmark morphing_basis_vector_5\n",
      "16:34 madminer.analysis.da INFO    Found morphing setup with 6 components\n",
      "16:34 madminer.analysis.da INFO    Did not find nuisance morphing setup\n",
      "16:34 madminer.plotting.di DEBUG   Observable indices: [0, 1, 2]\n",
      "16:34 madminer.plotting.di DEBUG   Calculated 2 theta matrices\n",
      "16:34 madminer.analysis.da DEBUG   Sampling benchmark closest to None: None\n",
      "16:34 madminer.analysis.da DEBUG   Events per benchmark: [50000. 10000. 10000. 10000. 10000. 10000.]\n",
      "16:34 madminer.plotting.di DEBUG   Loaded raw data with shapes (100000, 3), (100000, 6)\n",
      "16:34 madminer.analysis.da DEBUG   Sampling benchmark closest to [0. 0.]: 0\n",
      "16:34 madminer.analysis.da DEBUG   Sampling benchmark closest to [20.  0.]: 1\n",
      "16:34 madminer.plotting.di DEBUG   Plotting panel 0: observable 0, label pt_e\n",
      "16:34 madminer.plotting.di DEBUG   Ranges for observable pt_e: min = [5.82128171377558, 3.8967527063212266], max = [179.25429196669202, 212.10009077243245]\n",
      "16:34 madminer.plotting.di DEBUG   Plotting panel 1: observable 1, label delta_phi_ee\n",
      "16:34 madminer.plotting.di DEBUG   Ranges for observable delta_phi_ee: min = [-3.141500999014272, -3.141500999014272], max = [3.1415599721439897, 3.1415599721439897]\n",
      "16:34 madminer.plotting.di DEBUG   Plotting panel 2: observable 2, label met\n",
      "16:34 madminer.plotting.di DEBUG   Ranges for observable met: min = [0.1341220250225371, 0.1341220250225371], max = [177.21277949723483, 204.38037294092618]\n"
     ]
    },
    {
     "data": {
      "image/png": "[encoded data removed]",
      "text/plain": [
       "<Figure size 864x288 with 3 Axes>"
      ]
     },
     "metadata": {
      "needs_background": "light"
     },
     "output_type": "display_data"
    }
   ],
   "source": [
    "_ = plot_distributions(\n",
    "    filename=\"data/lhe_data-Jonas.h5\",\n",
    "    parameter_points=[\"sm\", np.array([20.0, 0.0])],\n",
    "    line_labels=[\"SM\", \"BSM\"],\n",
    "    uncertainties=\"none\",\n",
    "    n_bins=10,\n",
    "    n_cols=3,\n",
    "    normalize=True,\n",
    "    sample_only_from_closest_benchmark=True,\n",
    ")"
   ]
  },
  {
   "cell_type": "code",
   "execution_count": null,
   "metadata": {},
   "outputs": [],
   "source": []
  },
  {
   "cell_type": "markdown",
   "metadata": {},
   "source": [
    "## 7. Combine and shuffle different samples"
   ]
  },
  {
   "cell_type": "markdown",
   "metadata": {},
   "source": [
    "To reduce disk usage, you can generate several small event samples with the steps given above, and combine them now. Note that (for now) it is essential that all of them are generated with the same setup, including the same benchmark points / morphing basis!\n",
    "\n",
    "This is generally good practice even if you use just one sample, since the events might have some inherent ordering (e.g. from sampling from different hypotheses). Later when we split the events into a training and test fraction, such an ordering could cause problems."
   ]
  },
  {
   "cell_type": "code",
   "execution_count": 59,
   "metadata": {},
   "outputs": [
    {
     "name": "stderr",
     "output_type": "stream",
     "text": [
      "16:34 madminer.sampling.co DEBUG   Combining and shuffling samples\n",
      "16:34 madminer.sampling.co DEBUG   Copying setup from data/lhe_data-Jonas.h5 to data/lhe_data-Jonas_shuffled.h5\n",
      "16:34 madminer.sampling.co DEBUG   Loading samples from file 1 / 1 at data/lhe_data-Jonas.h5, multiplying weights with k factor 1.0\n",
      "16:34 madminer.utils.inter ERROR   HDF5 file does not contain nuisance parameters information\n",
      "16:34 madminer.utils.inter ERROR   HDF5 file does not contain finite difference information\n",
      "16:34 madminer.utils.inter ERROR   HDF5 file does not contain systematic information\n",
      "16:34 madminer.sampling.co DEBUG   Sampling benchmarks: [3 0 0 ... 3 2 5]\n",
      "16:34 madminer.sampling.co DEBUG   Combined sampling benchmarks: [3 0 0 ... 3 2 5]\n",
      "16:34 madminer.sampling.co DEBUG   Recalculated event numbers per benchmark: [50000 10000 10000 10000 10000 10000], background: 0\n"
     ]
    }
   ],
   "source": [
    "combine_and_shuffle([\"data/lhe_data-Jonas.h5\"], \"data/lhe_data-Jonas_shuffled.h5\")"
   ]
  },
  {
   "cell_type": "code",
   "execution_count": 5,
   "metadata": {},
   "outputs": [
    {
     "name": "stdout",
     "output_type": "stream",
     "text": [
      "--------------------------------------------------------------\n",
      "benchmarks:\n",
      "   is_nuisance: [0 0 0 0 0 0]\n",
      "   is_reference: [1 0 0 0 0 0]\n",
      "   names: [b'sm' b'ctG' b'neg_ctG' b'ctq8' b'neg_ctq8' b'morphing_basis_vector_5']\n",
      "   values: [[ 0.          0.        ]\n",
      " [ 1.02        0.01      ]\n",
      " [-1.04        0.02      ]\n",
      " [ 0.03        1.01      ]\n",
      " [ 0.04       -1.03      ]\n",
      " [-0.91495796 -0.91669698]]\n",
      "--------------------------------------------------------------\n",
      "morphing:\n",
      "   components: [[0 0]\n",
      " [0 1]\n",
      " [0 2]\n",
      " [1 0]\n",
      " [1 1]\n",
      " [2 0]]\n",
      "   morphing_matrix: [[ 1.00000000e+00  0.00000000e+00  0.00000000e+00  0.00000000e+00\n",
      "   0.00000000e+00  0.00000000e+00]\n",
      " [-4.15314803e-02 -5.35750913e-04  3.10871830e-02  4.97613792e-01\n",
      "  -4.47454980e-01 -3.91787637e-02]\n",
      " [-9.56107755e-01 -1.67703183e-02  1.03512939e-02  4.85626580e-01\n",
      "   4.70854138e-01  6.04606204e-03]\n",
      " [-2.85407760e-02  4.93762750e-01 -4.61886624e-01  1.36298214e-03\n",
      "   1.22102127e-02 -1.69085449e-02]\n",
      " [ 6.26187843e-01  7.94370813e-02 -9.41135060e-01  6.55984948e-02\n",
      "  -9.49059823e-01  1.11897146e+00]\n",
      " [-9.38835639e-01  4.76315620e-01  4.61757043e-01 -6.80896483e-03\n",
      "   1.58925187e-03  5.98268921e-03]]\n",
      "--------------------------------------------------------------\n",
      "observables:\n",
      "   definitions: [b'l[0].pt'\n",
      " b'l[0].deltaphi(l[1]) * (-1.0 + 2.0 * float(l[0].eta > l[1].eta))'\n",
      " b'met.pt']\n",
      "   names: [b'pt_e' b'delta_phi_ee' b'met']\n",
      "--------------------------------------------------------------\n",
      "parameters:\n",
      "   lha_blocks: [b'DIM6' b'DIM6']\n",
      "   lha_ids: [16 55]\n",
      "   max_power: [2 2]\n",
      "   names: [b'ctG' b'ctq8']\n",
      "   transforms: [b'1*theta' b'1*theta']\n",
      "   val_ranges: [[-1.  1.]\n",
      " [-1.  1.]]\n",
      "--------------------------------------------------------------\n",
      "sample_summary:\n",
      "   background_events: 0\n",
      "   signal_events: [50000 10000 10000 10000 10000 10000]\n",
      "--------------------------------------------------------------\n",
      "samples:\n",
      "   observations: [[ 32.37535787   2.21948296 127.39048183]\n",
      " [ 66.31944677   1.28482456 110.18443305]\n",
      " [ 45.03272331   0.51029898 101.7656606 ]\n",
      " ...\n",
      " [ 95.40027533  -2.73123871 119.9645762 ]\n",
      " [154.35611257  -2.80731443  73.53186327]\n",
      " [ 87.94143149  -1.2156395   41.43374166]]\n",
      "   sampling_benchmarks: [3 0 0 ... 3 2 5]\n",
      "   weights: [[0.00208364 0.0025291  0.00186839 0.00209343 0.00209674 0.00188151]\n",
      " [0.00040842 0.00058136 0.00026843 0.000413   0.00041453 0.00028332]\n",
      " [0.00040842 0.0004953  0.00032936 0.00044443 0.00037952 0.00031211]\n",
      " ...\n",
      " [0.00208042 0.00261261 0.0017284  0.00209343 0.0020978  0.00176055]\n",
      " [0.00153368 0.00202358 0.00156026 0.0015408  0.00154327 0.00152897]\n",
      " [0.00207459 0.00271256 0.00154257 0.00209171 0.00209744 0.00160021]]\n"
     ]
    }
   ],
   "source": [
    "import h5py\n",
    "import numpy as np\n",
    "setupfile = \"data/lhe_data-Jonas.h5\"\n",
    "f = h5py.File(setupfile)\n",
    "f.keys()\n",
    "for key in f.keys():\n",
    "    print(\"--------------------------------------------------------------\")\n",
    "    print(key+\":\")\n",
    "    for string in np.array(f[key]):\n",
    "        print(\"  \",string +\":\", np.array(f[key][string]))\n",
    "    print"
   ]
  },
  {
   "cell_type": "code",
   "execution_count": 11,
   "metadata": {},
   "outputs": [
    {
     "name": "stdout",
     "output_type": "stream",
     "text": [
      "--------------------------------------------------------------\n",
      "benchmarks:\n",
      "   is_nuisance: [0 0 0 0 0 0]\n",
      "   is_reference: [1 0 0 0 0 0]\n",
      "   names: [b'sm' b'ctG' b'neg_ctG' b'ctq8' b'neg_ctq8' b'morphing_basis_vector_5']\n",
      "   values: [[ 0.          0.        ]\n",
      " [ 5.2         0.1       ]\n",
      " [-5.4         0.2       ]\n",
      " [ 0.3         5.1       ]\n",
      " [ 0.4        -5.3       ]\n",
      " [-5.5273679  -5.10043812]]\n",
      "--------------------------------------------------------------\n",
      "morphing:\n",
      "   components: [[0 0]\n",
      " [0 1]\n",
      " [0 2]\n",
      " [1 0]\n",
      " [1 1]\n",
      " [2 0]]\n",
      "   morphing_matrix: [[ 1.00000000e+00  0.00000000e+00  0.00000000e+00  0.00000000e+00\n",
      "   0.00000000e+00  0.00000000e+00]\n",
      " [-1.83624193e-02  4.99905167e-04  1.13353206e-02  9.94709020e-02\n",
      "  -8.18177858e-02 -1.11259227e-02]\n",
      " [-3.63859069e-02 -1.33883732e-03  7.01816028e-04  1.88598012e-02\n",
      "   1.77967872e-02  3.66339762e-04]\n",
      " [-1.19314863e-02  9.78432922e-02 -8.56930993e-02  6.88365864e-04\n",
      "   3.92280552e-03 -4.82987802e-03]\n",
      " [ 3.05834823e-02  8.41354157e-04 -3.39179725e-02  1.30481644e-03\n",
      "  -3.05962548e-02  3.17845744e-02]\n",
      " [-3.51945111e-02  1.81486973e-02  1.70895308e-02 -5.32311215e-04\n",
      "   1.30002755e-04  3.58591564e-04]]\n",
      "--------------------------------------------------------------\n",
      "observables:\n",
      "   definitions: [b'l[0].pt'\n",
      " b'l[0].deltaphi(l[1]) * (-1.0 + 2.0 * float(l[0].eta > l[1].eta))'\n",
      " b'met.pt']\n",
      "   names: [b'pt_e' b'delta_phi_ee' b'met']\n",
      "--------------------------------------------------------------\n",
      "parameters:\n",
      "   lha_blocks: [b'DIM6' b'DIM6']\n",
      "   lha_ids: [16 55]\n",
      "   max_power: [2 2]\n",
      "   names: [b'ctG' b'ctq8']\n",
      "   transforms: [b'1*theta' b'1*theta']\n",
      "   val_ranges: [[-6.  6.]\n",
      " [-6.  6.]]\n",
      "--------------------------------------------------------------\n",
      "sample_summary:\n",
      "   background_events: 0\n",
      "   signal_events: [50000 10000 10000 10000 10000 10000]\n",
      "--------------------------------------------------------------\n",
      "samples:\n",
      "   observations: [[ 82.85815344  -2.89338229 171.43352177]\n",
      " [ 49.54821475   2.97149643 128.00387322]\n",
      " [ 15.69711733   0.8328319  102.08932475]\n",
      " ...\n",
      " [197.56645322  -3.00292809  56.45387188]\n",
      " [ 58.74485449  -2.67366892  77.15710546]\n",
      " [ 44.79850141  -0.79839507  78.97032574]]\n",
      "   sampling_benchmarks: [1 0 0 ... 2 2 1]\n",
      "   weights: [[0.00151065 0.0070366  0.00163462 0.0016789  0.00173908 0.00170965]\n",
      " [0.00040842 0.00091778 0.00055276 0.00042051 0.00042501 0.00056444]\n",
      " [0.00040842 0.00137696 0.00026042 0.00044227 0.00045415 0.00026748]\n",
      " ...\n",
      " [0.00068063 0.00368085 0.00145279 0.00075387 0.000781   0.00151881]\n",
      " [0.00209808 0.00763333 0.00145279 0.00228637 0.0023527  0.00150033]\n",
      " [0.0019924  0.0070366  0.00136546 0.00216499 0.00222574 0.00140738]]\n"
     ]
    }
   ],
   "source": [
    "for key in f.keys():\n",
    "    print(\"--------------------------------------------------------------\")\n",
    "    print(key+\":\")\n",
    "    for string in np.array(f[key]):\n",
    "        print(\"  \",string +\":\", np.array(f[key][string]))\n",
    "    print"
   ]
  },
  {
   "cell_type": "code",
   "execution_count": 34,
   "metadata": {},
   "outputs": [
    {
     "name": "stdout",
     "output_type": "stream",
     "text": [
      "[1 0 0 1 2 0 5 0 2 3 0 5 5 2 0 0 0 2 0 0 3 1 0 0 0 3 5 4 4 1]\n"
     ]
    }
   ],
   "source": [
    "print(np.array(f['samples']['sampling_benchmarks'][0:30]))"
   ]
  },
  {
   "cell_type": "code",
   "execution_count": null,
   "metadata": {},
   "outputs": [],
   "source": []
  }
 ],
 "metadata": {
  "kernelspec": {
   "display_name": "Python 3",
   "language": "python",
   "name": "python3"
  },
  "language_info": {
   "codemirror_mode": {
    "name": "ipython",
    "version": 3
   },
   "file_extension": ".py",
   "mimetype": "text/x-python",
   "name": "python",
   "nbconvert_exporter": "python",
   "pygments_lexer": "ipython3",
   "version": "3.7.13"
  }
 },
 "nbformat": 4,
 "nbformat_minor": 2
}
